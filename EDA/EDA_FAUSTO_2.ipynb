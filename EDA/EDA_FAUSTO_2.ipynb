{
 "cells": [
  {
   "cell_type": "code",
   "execution_count": null,
   "metadata": {},
   "outputs": [],
   "source": [
    "import pandas as pd\n",
    "import warnings\n",
    "import re\n",
    "import folium\n",
    "from selenium import webdriver\n",
    "warnings.filterwarnings('ignore')"
   ]
  },
  {
   "cell_type": "code",
   "execution_count": null,
   "metadata": {},
   "outputs": [],
   "source": [
    "df = pd.read_parquet(\"FINAL_FLORIDA.parquet\")\n"
   ]
  },
  {
   "cell_type": "code",
   "execution_count": null,
   "metadata": {},
   "outputs": [],
   "source": [
    "df.shape"
   ]
  },
  {
   "cell_type": "code",
   "execution_count": null,
   "metadata": {},
   "outputs": [],
   "source": [
    "df.head(1)"
   ]
  },
  {
   "cell_type": "code",
   "execution_count": null,
   "metadata": {},
   "outputs": [],
   "source": [
    "# Suponiendo que tu DataFrame se llama 'joined'\n",
    "unique_addresses = df.drop_duplicates(subset='address', keep='first')"
   ]
  },
  {
   "cell_type": "code",
   "execution_count": null,
   "metadata": {},
   "outputs": [],
   "source": [
    "# Crea un mapa centrado alrededor de Florida\n",
    "florida_map = folium.Map(location=[27.9944024, -81.7602544], zoom_start=6) \n",
    "\n",
    "# Agrega cada punto del dataframe al mapa\n",
    "for _, row in unique_addresses.iterrows():\n",
    "    folium.CircleMarker(\n",
    "        location=[row['latitude'], row['longitude']],\n",
    "        radius=3,\n",
    "        fill=True,\n",
    "        fill_color=\"blue\",\n",
    "        fill_opacity=0.6\n",
    "    ).add_to(florida_map)\n",
    "\n",
    "florida_map\n",
    "#tardo 5 minutos 24 segundos\n",
    "florida_map.save(\"mapa_restaurants.html\")\n"
   ]
  },
  {
   "cell_type": "code",
   "execution_count": null,
   "metadata": {},
   "outputs": [],
   "source": [
    "nan_count = df['address'].isna().sum()\n",
    "print(f\"Number of NaN values in 'address' column: {nan_count}\")\n"
   ]
  },
  {
   "cell_type": "code",
   "execution_count": null,
   "metadata": {},
   "outputs": [],
   "source": [
    "df.head(1)"
   ]
  },
  {
   "cell_type": "code",
   "execution_count": null,
   "metadata": {},
   "outputs": [],
   "source": []
  },
  {
   "cell_type": "code",
   "execution_count": null,
   "metadata": {},
   "outputs": [],
   "source": [
    "import folium\n",
    "from folium.plugins import HeatMap\n",
    "import pandas as pd\n",
    "\n",
    "# Contar las repeticiones de cada par de coordenadas\n",
    "df['coord_count'] = df.groupby(['latitude', 'longitude']).transform('size')\n",
    "\n",
    "# Crear un mapa centrado en Florida\n",
    "m = folium.Map(location=[27.9944024, -81.7602544], zoom_start=6)  # Estas coordenadas centran el mapa en Florida\n",
    "\n",
    "# Preparar los datos para el heatmap\n",
    "# Las filas con mayor conteo tendrán mayor peso en el heatmap\n",
    "heat_data = [[row['latitude'], row['longitude'], row['coord_count']] for index, row in df.iterrows()]\n",
    "\n",
    "# Agregar el heatmap al mapa\n",
    "HeatMap(heat_data,radius=5,blur=3).add_to(m)\n",
    "\n",
    "m\n",
    "\n",
    "m.save(\"mapa_de_calor_densidad_de_restaurants.html\")\n",
    "\n",
    "#tarda "
   ]
  },
  {
   "cell_type": "code",
   "execution_count": null,
   "metadata": {},
   "outputs": [],
   "source": [
    "import numpy as np\n",
    "import folium\n",
    "from folium.plugins import HeatMap\n",
    "\n",
    "# Contar las repeticiones de cada combinación de latitud y longitud\n",
    "df['latlong_count'] = df.groupby(['latitude', 'longitude']).transform('count').iloc[:, 0]\n",
    "\n",
    "# Transformar usando escala logarítmica. Agregamos 1 para evitar log(0).\n",
    "df['log_count'] = np.log(df['latlong_count'] + 1)\n",
    "\n",
    "# Crear un mapa centrado en Florida\n",
    "m = folium.Map(location=[27.9944024, -81.7602544], zoom_start=7)\n",
    "\n",
    "# Preparar los datos para el heatmap\n",
    "heat_data = [[row['latitude'], row['longitude'], row['log_count']] for index, row in df.iterrows()]\n",
    "\n",
    "# Definir el gradiente de color\n",
    "gradient = {\n",
    "    0.0: '#0000ff',\n",
    "    0.5: '#00ff00',\n",
    "    1.0: '#ff0000'\n",
    "}\n",
    "\n",
    "# Agregar el heatmap al mapa\n",
    "HeatMap(heat_data, gradient=gradient, radius=5,blur=5).add_to(m)\n",
    "\n",
    "m.save(\"mapa_restaurants_densidad_mas_en_detalle.html\")\n",
    "\n",
    "\n",
    "m\n"
   ]
  },
  {
   "cell_type": "code",
   "execution_count": null,
   "metadata": {},
   "outputs": [],
   "source": [
    "import pandas as pd\n",
    "import matplotlib.pyplot as plt\n",
    "\n",
    "# Extraer el año de la columna 'time'\n",
    "df['year'] = pd.to_datetime(df['time'], format='%d/%m/%Y').dt.year\n",
    "\n",
    "# Agrupar por latitud, longitud y año, y contar duplicados\n",
    "grouped = df.groupby(['latitude', 'longitude', 'year']).size().reset_index(name='duplicates_count')\n",
    "\n",
    "# Sumar los duplicados por año\n",
    "sum_duplicados_by_year = grouped.groupby('year')['duplicates_count'].sum()\n",
    "\n",
    "# Graficar\n",
    "sum_duplicados_by_year.plot(kind='bar', figsize=(10, 6))\n",
    "plt.title('Sumatoria de reviews por año')\n",
    "plt.xlabel('Año')\n",
    "plt.ylabel('Sumatoria de reviews por año')\n",
    "plt.xticks(rotation=45)\n",
    "plt.tight_layout()\n",
    "\n",
    "# Guardar la figura en PNG\n",
    "plt.savefig(\"sumatoria_de_reviews_por_anio.png\", dpi=300)\n",
    "\n",
    "plt.show()\n"
   ]
  },
  {
   "cell_type": "code",
   "execution_count": null,
   "metadata": {},
   "outputs": [],
   "source": [
    "df.shape"
   ]
  },
  {
   "cell_type": "code",
   "execution_count": null,
   "metadata": {},
   "outputs": [],
   "source": [
    "import pandas as pd\n",
    "\n",
    "# Convertir la columna 'time' a formato de fecha\n",
    "df['time'] = pd.to_datetime(df['time'], format='%d/%m/%Y')\n",
    "\n",
    "# Extraer el año de la columna 'time'\n",
    "df['year'] = df['time'].dt.year\n",
    "\n",
    "# Filtrar el DataFrame por las filas en el rango de años 2018-2021\n",
    "filtered_df = df[df['year'].between(2018, 2021)]\n",
    "\n",
    "filtered_df.shape"
   ]
  },
  {
   "cell_type": "code",
   "execution_count": null,
   "metadata": {},
   "outputs": [],
   "source": [
    "filtered_df.head(1)"
   ]
  },
  {
   "cell_type": "code",
   "execution_count": null,
   "metadata": {},
   "outputs": [],
   "source": [
    "from textblob import TextBlob\n",
    "\n",
    "# Función para determinar el nivel de sentimiento de una serie de textos\n",
    "def sentiment_level(text_series):\n",
    "    polarities = []\n",
    "\n",
    "    for text in text_series:\n",
    "        analysis = TextBlob(text)\n",
    "        polarities.append(analysis.sentiment.polarity)\n",
    "\n",
    "    # Calcula la polaridad promedio de los textos\n",
    "    avg_polarity = sum(polarities) / len(polarities)\n",
    "\n",
    "    # Clasificar el nivel de sentimiento basado en la polaridad promedio\n",
    "    if avg_polarity <= -0.2:\n",
    "        return 1  # Negativo\n",
    "    elif -0.2 < avg_polarity <= -0.1:\n",
    "        return 2  # No tan negativo\n",
    "    elif -0.1 < avg_polarity < 0.1:\n",
    "        return 3  # Neutral\n",
    "    elif 0.1 <= avg_polarity < 0.4:\n",
    "        return 4  # Positivo\n",
    "    else:\n",
    "        return 5  # Muy positivo\n",
    "\n",
    "# Agrupar por año, latitud y longitud y calcular el nivel de sentimiento para cada grupo\n",
    "sentiment_levels_by_group = df.groupby(['year', 'latitude', 'longitude'])['text'].apply(sentiment_level).reset_index()\n",
    "\n",
    "# Reformatar y renombrar las columnas para facilitar la interpretación\n",
    "sentiment_levels_by_group.columns = ['year', 'latitude', 'longitude', 'Sentiment Level']\n",
    "\n",
    "# Fusiona df con sentiment_levels_by_group para agregar la columna 'Sentiment Level'\n",
    "df = pd.merge(df, sentiment_levels_by_group, on=['year', 'latitude', 'longitude'], how='left')\n",
    "\n",
    "\n"
   ]
  },
  {
   "cell_type": "code",
   "execution_count": null,
   "metadata": {},
   "outputs": [],
   "source": [
    "# Usar value_counts() para obtener una serie de valores y sus conteos.\n",
    "value_counts = df['Sentiment Level'].value_counts()\n",
    "\n",
    "# Valor máximo\n",
    "max_val = df['Sentiment Level'].max()\n",
    "\n",
    "# Valor mínimo\n",
    "min_val = df['Sentiment Level'].min()\n",
    "\n",
    "# Primera moda (valor más repetido)\n",
    "first_mode_val = value_counts.index[0]\n",
    "\n",
    "# Segunda moda (segundo valor más repetido)\n",
    "second_mode_val = value_counts.index[1] if len(value_counts) > 1 else None\n",
    "\n",
    "# Tercera moda (tercer valor más repetido)\n",
    "third_mode_val = value_counts.index[2] if len(value_counts) > 2 else None\n",
    "\n",
    "# Promedio\n",
    "average_val = df['Sentiment Level'].mean()\n",
    "\n",
    "print(f\"Máximo: {max_val}\")\n",
    "print(f\"Mínimo: {min_val}\")\n",
    "print(f\"1er Moda (valor más repetido): {first_mode_val}\")\n",
    "print(f\"2do Moda (segundo valor más repetido): {second_mode_val}\")\n",
    "print(f\"3er Moda (tercer valor más repetido): {third_mode_val}\")\n",
    "print(f\"Promedio: {average_val}\")\n",
    "\n"
   ]
  },
  {
   "cell_type": "code",
   "execution_count": null,
   "metadata": {},
   "outputs": [],
   "source": [
    "\n",
    "import folium\n",
    "import numpy as np\n",
    "import pandas as pd\n",
    "\n",
    "# Función para determinar el color basado en el nivel de sentimiento\n",
    "def sentiment_color(sentiment_level):\n",
    "    colors = {\n",
    "        1: '#FF0000',   # rojo\n",
    "        2: '#FFA500',   # naranja\n",
    "        3: '#FFFF00',   # amarillo\n",
    "        4: '#7CFC00',   # verde claro\n",
    "        5: '#006400'    # verde oscuro\n",
    "    }\n",
    "    return colors.get(sentiment_level, '#FFFFFF')  # blanco por defecto para cualquier otro caso\n",
    "\n",
    "# Función para la tendencia de sentimientos\n",
    "def sentiment_trend(sentiments):\n",
    "    if len(sentiments) == 1:\n",
    "        return sentiments.iloc[0]\n",
    "    # Si hay más de un año, calcular la tendencia\n",
    "    average_sentiment = round(np.mean(sentiments))\n",
    "    return average_sentiment\n",
    "\n",
    "# Obtiene el nivel de tendencia del sentimiento\n",
    "df['Trend Level'] = df.groupby(['latitude', 'longitude'])['Sentiment Level'].transform(sentiment_trend)\n",
    "\n",
    "# Obtiene el color basado en el nivel de tendencia\n",
    "df['color'] = df['Trend Level'].apply(sentiment_color)\n",
    "\n"
   ]
  },
  {
   "cell_type": "code",
   "execution_count": null,
   "metadata": {},
   "outputs": [],
   "source": [
    "\n",
    "# Contar cuántos registros hay para cada combinación de latitud y longitud.\n",
    "counts = df.groupby(['latitude', 'longitude']).size().reset_index(name='counts')\n",
    "\n",
    "# Normalizar estos conteos para obtener una opacidad entre 0.5 y 1.\n",
    "max_count = counts['counts'].max()\n",
    "counts['opacity'] = 0.5 + 0.5 * (counts['counts'] / max_count)  # Ajusta según tus preferencias\n",
    "\n",
    "# Unir estos valores de opacidad al DataFrame original.\n",
    "df = df.merge(counts[['latitude', 'longitude', 'opacity']], on=['latitude', 'longitude'], how='left')\n",
    "\n",
    "# Ordenar los datos en función del color\n",
    "color_order = {'#006400': 5, '#7CFC00': 4, '#FFFF00': 3, '#FFA500': 2, '#FF0000': 1}\n",
    "df['color_rank'] = df['color'].map(color_order)\n",
    "df_sorted = df.sort_values(by='color_rank', ascending=False)\n",
    "\n",
    "# Luego de esto, puedes proceder con la eliminación de duplicados como antes.\n",
    "unique_locs = df_sorted.drop_duplicates(subset=['latitude', 'longitude', 'color', 'opacity'])\n"
   ]
  },
  {
   "cell_type": "code",
   "execution_count": null,
   "metadata": {},
   "outputs": [],
   "source": [
    "\n",
    "# Crear mapa centrado en Florida\n",
    "m = folium.Map(location=[27.9944024, -81.7602544] ,zoom_start=6)\n",
    "\n",
    "for idx, row in unique_locs.iterrows():\n",
    "    if pd.notna(row['color']):  # Solo dibujar si tenemos un color válido\n",
    "        folium.CircleMarker(\n",
    "            location=(row['latitude'], row['longitude']),\n",
    "            color=row['color'],\n",
    "            fill=True,\n",
    "            fill_color=row['color'],\n",
    "            fill_opacity=row['opacity'],\n",
    "            weight=0,\n",
    "            radius=2,\n",
    "            blur=100\n",
    "        ).add_to(m)\n",
    "\n",
    "m.save(\"mapa_de_evolucion_de_sentimiento_3_a_anios.html\")\n",
    "\n",
    "m\n",
    "\n"
   ]
  },
  {
   "cell_type": "code",
   "execution_count": null,
   "metadata": {},
   "outputs": [],
   "source": [
    "green_dark_coords = df[df['color'] == '#006400'][['latitude', 'longitude']].values.tolist()\n",
    "yellow_coords = df[df['color'] == '#FFFF00'][['latitude', 'longitude']].values.tolist()\n",
    "red_coords = df[df['color'] == '#FF0000'][['latitude', 'longitude']].values.tolist()"
   ]
  },
  {
   "cell_type": "code",
   "execution_count": null,
   "metadata": {},
   "outputs": [],
   "source": [
    "import folium\n",
    "from folium.plugins import HeatMap\n",
    "\n",
    "m = folium.Map(location=[27.9944024, -81.7602544], zoom_start=6)\n",
    "\n",
    "# Añade capa de calor para verde oscuro\n",
    "HeatMap(green_dark_coords, name='Verde Oscuro', gradient={0: '#FFFFFF', 1: '#006400'}, radius=10, blur=5).add_to(m)\n",
    "\n",
    "# Añade capa de calor para amarillo\n",
    "HeatMap(yellow_coords, name='Amarillo', gradient={0: '#FFFFFF', 1: '#FFFF00'}, radius=6, blur=3).add_to(m)\n",
    "\n",
    "# Añade capa de calor para rojo\n",
    "HeatMap(red_coords, name='Rojo', gradient={0: '#FFFFFF', 1: '#FF0000'}, radius=10, blur=5).add_to(m)\n",
    "\n",
    "# Opción para encender/apagar capas\n",
    "folium.LayerControl().add_to(m)\n",
    "\n",
    "m.save(\"mapa_de_densidad_de sentimiento_a_3_anios.html\")\n",
    "\n",
    "\n",
    "m\n"
   ]
  }
 ],
 "metadata": {
  "kernelspec": {
   "display_name": "Python 3",
   "language": "python",
   "name": "python3"
  },
  "language_info": {
   "codemirror_mode": {
    "name": "ipython",
    "version": 3
   },
   "file_extension": ".py",
   "mimetype": "text/x-python",
   "name": "python",
   "nbconvert_exporter": "python",
   "pygments_lexer": "ipython3",
   "version": "3.11.0"
  },
  "orig_nbformat": 4
 },
 "nbformat": 4,
 "nbformat_minor": 2
}
