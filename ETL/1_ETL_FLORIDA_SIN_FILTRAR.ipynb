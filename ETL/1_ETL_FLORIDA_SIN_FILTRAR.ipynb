{
 "cells": [
  {
   "cell_type": "code",
   "execution_count": 22,
   "metadata": {},
   "outputs": [],
   "source": [
    "import pandas as pd\n",
    "import warnings\n",
    "warnings.filterwarnings('ignore')\n"
   ]
  },
  {
   "cell_type": "markdown",
   "metadata": {},
   "source": [
    "## AQUI SUBIMOS CADA JSON DE LA CARPETA METADATA DE GOOGLE Y CREAMOS UN DATAFRAME COMBINADO"
   ]
  },
  {
   "cell_type": "code",
   "execution_count": 23,
   "metadata": {},
   "outputs": [],
   "source": [
    "import os\n",
    "import pandas as pd\n",
    "import warnings\n",
    "warnings.filterwarnings('ignore')\n"
   ]
  },
  {
   "cell_type": "markdown",
   "metadata": {},
   "source": [
    "#### AHORA ITERAMOS CON CADA JSON DE LA CARPETA METADATA-SITIOS Y HACEMOS UN SOLO DATAFRAME CON TODOS LOS JSON"
   ]
  },
  {
   "cell_type": "code",
   "execution_count": 24,
   "metadata": {},
   "outputs": [
    {
     "data": {
      "text/plain": [
       "\"# Define la ruta del directorio que contiene los archivos JSON\\ndirectory_path = 'metadata-sitios'\\n\\n# Lista todos los archivos JSON en el directorio\\njson_files = [file for file in os.listdir(directory_path) if file.endswith('.json')]\\n\\n# Lista para almacenar cada DataFrame cargado desde un archivo JSON\\ndfs = []\\n\\n# Recorre cada archivo JSON, léelo y agrégalo a la lista de DataFrames\\nfor json_file in json_files:\\n    file_path = os.path.join(directory_path, json_file)\\n    df = pd.read_json(file_path, lines=True) # Asumiendo que los JSONs tienen formato de líneas\\n    dfs.append(df)\\n\\n# Concatena todos los DataFrames en uno solo\\ncombined_df = pd.concat(dfs, ignore_index=True)\\n\\n# Muestra las primeras filas del DataFrame combinado\\ncombined_df.head(1)\""
      ]
     },
     "execution_count": 24,
     "metadata": {},
     "output_type": "execute_result"
    }
   ],
   "source": [
    "\n",
    "\"\"\"# Define la ruta del directorio que contiene los archivos JSON\n",
    "directory_path = 'metadata-sitios'\n",
    "\n",
    "# Lista todos los archivos JSON en el directorio\n",
    "json_files = [file for file in os.listdir(directory_path) if file.endswith('.json')]\n",
    "\n",
    "# Lista para almacenar cada DataFrame cargado desde un archivo JSON\n",
    "dfs = []\n",
    "\n",
    "# Recorre cada archivo JSON, léelo y agrégalo a la lista de DataFrames\n",
    "for json_file in json_files:\n",
    "    file_path = os.path.join(directory_path, json_file)\n",
    "    df = pd.read_json(file_path, lines=True) # Asumiendo que los JSONs tienen formato de líneas\n",
    "    dfs.append(df)\n",
    "\n",
    "# Concatena todos los DataFrames en uno solo\n",
    "combined_df = pd.concat(dfs, ignore_index=True)\n",
    "\n",
    "# Muestra las primeras filas del DataFrame combinado\n",
    "combined_df.head(1)\"\"\"\n"
   ]
  },
  {
   "cell_type": "code",
   "execution_count": 25,
   "metadata": {},
   "outputs": [],
   "source": [
    "# combined_df.shape"
   ]
  },
  {
   "cell_type": "markdown",
   "metadata": {},
   "source": [
    "### HAY 3.025.011   millones DE FILAS, y 15 COLUMNAS SIN FILTRAR"
   ]
  },
  {
   "cell_type": "markdown",
   "metadata": {},
   "source": [
    "#### AHORA QUE TENEMOS EL combined_df lo pasamos a PARQUET PARA FACILIDAD DE EJECUCION POSTERIOR, sin tener que hacer el proceso anterior nuevamente"
   ]
  },
  {
   "cell_type": "code",
   "execution_count": 26,
   "metadata": {},
   "outputs": [],
   "source": [
    "#combined_df.to_parquet(\"archivos parquet florida/1_METADATA_FLORIDA_SIN_FILTRAR.parquet\")"
   ]
  },
  {
   "cell_type": "code",
   "execution_count": 27,
   "metadata": {},
   "outputs": [],
   "source": [
    "df = pd.read_parquet(\"archivos parquet florida/1_METADATA_FLORIDA_SIN_FILTRAR.parquet\")"
   ]
  },
  {
   "cell_type": "code",
   "execution_count": 28,
   "metadata": {},
   "outputs": [
    {
     "data": {
      "text/plain": [
       "(3025011, 15)"
      ]
     },
     "execution_count": 28,
     "metadata": {},
     "output_type": "execute_result"
    }
   ],
   "source": [
    "df.shape"
   ]
  },
  {
   "cell_type": "code",
   "execution_count": 31,
   "metadata": {},
   "outputs": [],
   "source": [
    "pd.set_option('display.max_colwidth', 50)"
   ]
  },
  {
   "cell_type": "code",
   "execution_count": 32,
   "metadata": {},
   "outputs": [
    {
     "data": {
      "text/html": [
       "<div>\n",
       "<style scoped>\n",
       "    .dataframe tbody tr th:only-of-type {\n",
       "        vertical-align: middle;\n",
       "    }\n",
       "\n",
       "    .dataframe tbody tr th {\n",
       "        vertical-align: top;\n",
       "    }\n",
       "\n",
       "    .dataframe thead th {\n",
       "        text-align: right;\n",
       "    }\n",
       "</style>\n",
       "<table border=\"1\" class=\"dataframe\">\n",
       "  <thead>\n",
       "    <tr style=\"text-align: right;\">\n",
       "      <th></th>\n",
       "      <th>name</th>\n",
       "      <th>address</th>\n",
       "      <th>gmap_id</th>\n",
       "      <th>description</th>\n",
       "      <th>latitude</th>\n",
       "      <th>longitude</th>\n",
       "      <th>category</th>\n",
       "      <th>avg_rating</th>\n",
       "      <th>num_of_reviews</th>\n",
       "      <th>price</th>\n",
       "      <th>hours</th>\n",
       "      <th>MISC</th>\n",
       "      <th>state</th>\n",
       "      <th>relative_results</th>\n",
       "      <th>url</th>\n",
       "    </tr>\n",
       "  </thead>\n",
       "  <tbody>\n",
       "    <tr>\n",
       "      <th>0</th>\n",
       "      <td>Porter Pharmacy</td>\n",
       "      <td>Porter Pharmacy, 129 N Second St, Cochran, GA ...</td>\n",
       "      <td>0x88f16e41928ff687:0x883dad4fd048e8f8</td>\n",
       "      <td>None</td>\n",
       "      <td>32.3883</td>\n",
       "      <td>-83.3571</td>\n",
       "      <td>[Pharmacy]</td>\n",
       "      <td>4.9</td>\n",
       "      <td>16</td>\n",
       "      <td>None</td>\n",
       "      <td>[[Friday, 8AM–6PM], [Saturday, 8AM–12PM], [Sun...</td>\n",
       "      <td>{'Accessibility': ['Wheelchair accessible entr...</td>\n",
       "      <td>Open ⋅ Closes 6PM</td>\n",
       "      <td>[0x88f16e41929435cf:0x5b2532a2885e9ef6, 0x88f1...</td>\n",
       "      <td>https://www.google.com/maps/place//data=!4m2!3...</td>\n",
       "    </tr>\n",
       "  </tbody>\n",
       "</table>\n",
       "</div>"
      ],
      "text/plain": [
       "              name                                            address  \\\n",
       "0  Porter Pharmacy  Porter Pharmacy, 129 N Second St, Cochran, GA ...   \n",
       "\n",
       "                                 gmap_id description  latitude  longitude  \\\n",
       "0  0x88f16e41928ff687:0x883dad4fd048e8f8        None   32.3883   -83.3571   \n",
       "\n",
       "     category  avg_rating  num_of_reviews price  \\\n",
       "0  [Pharmacy]         4.9              16  None   \n",
       "\n",
       "                                               hours  \\\n",
       "0  [[Friday, 8AM–6PM], [Saturday, 8AM–12PM], [Sun...   \n",
       "\n",
       "                                                MISC              state  \\\n",
       "0  {'Accessibility': ['Wheelchair accessible entr...  Open ⋅ Closes 6PM   \n",
       "\n",
       "                                    relative_results  \\\n",
       "0  [0x88f16e41929435cf:0x5b2532a2885e9ef6, 0x88f1...   \n",
       "\n",
       "                                                 url  \n",
       "0  https://www.google.com/maps/place//data=!4m2!3...  "
      ]
     },
     "execution_count": 32,
     "metadata": {},
     "output_type": "execute_result"
    }
   ],
   "source": [
    "df.head(1)\n"
   ]
  }
 ],
 "metadata": {
  "kernelspec": {
   "display_name": "Python 3",
   "language": "python",
   "name": "python3"
  },
  "language_info": {
   "codemirror_mode": {
    "name": "ipython",
    "version": 3
   },
   "file_extension": ".py",
   "mimetype": "text/x-python",
   "name": "python",
   "nbconvert_exporter": "python",
   "pygments_lexer": "ipython3",
   "version": "3.11.0"
  },
  "orig_nbformat": 4
 },
 "nbformat": 4,
 "nbformat_minor": 2
}
