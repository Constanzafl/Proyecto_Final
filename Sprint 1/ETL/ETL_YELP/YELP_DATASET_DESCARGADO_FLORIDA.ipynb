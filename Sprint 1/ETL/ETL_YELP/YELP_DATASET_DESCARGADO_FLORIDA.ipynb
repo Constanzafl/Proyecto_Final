{
 "cells": [
  {
   "cell_type": "code",
   "execution_count": 1,
   "metadata": {},
   "outputs": [
    {
     "name": "stdout",
     "output_type": "stream",
     "text": [
      "Archivo datasets/yelp_dataset.tar descomprimido en datasets/\n"
     ]
    }
   ],
   "source": [
    "\"\"\"import tarfile\n",
    "\n",
    "# Ruta del archivo tar que deseas descomprimir\n",
    "archivo_tar = 'datasets/yelp_dataset.tar'\n",
    "\n",
    "# Ruta donde deseas extraer el contenido del archivo tar\n",
    "ruta_destino = 'datasets/'\n",
    "\n",
    "# Abrir el archivo tar en modo de lectura\n",
    "with tarfile.open(archivo_tar, 'r') as archivo:\n",
    "    archivo.extractall(path=ruta_destino)\n",
    "\n",
    "print(f\"Archivo {archivo_tar} descomprimido en {ruta_destino}\")\"\"\"\n"
   ]
  },
  {
   "cell_type": "code",
   "execution_count": 1,
   "metadata": {},
   "outputs": [
    {
     "data": {
      "text/html": [
       "<div>\n",
       "<style scoped>\n",
       "    .dataframe tbody tr th:only-of-type {\n",
       "        vertical-align: middle;\n",
       "    }\n",
       "\n",
       "    .dataframe tbody tr th {\n",
       "        vertical-align: top;\n",
       "    }\n",
       "\n",
       "    .dataframe thead th {\n",
       "        text-align: right;\n",
       "    }\n",
       "</style>\n",
       "<table border=\"1\" class=\"dataframe\">\n",
       "  <thead>\n",
       "    <tr style=\"text-align: right;\">\n",
       "      <th></th>\n",
       "      <th>business_id</th>\n",
       "      <th>name</th>\n",
       "      <th>address</th>\n",
       "      <th>city</th>\n",
       "      <th>state</th>\n",
       "      <th>postal_code</th>\n",
       "      <th>latitude</th>\n",
       "      <th>longitude</th>\n",
       "      <th>stars</th>\n",
       "      <th>review_count</th>\n",
       "      <th>is_open</th>\n",
       "      <th>attributes</th>\n",
       "      <th>categories</th>\n",
       "      <th>hours</th>\n",
       "    </tr>\n",
       "  </thead>\n",
       "  <tbody>\n",
       "    <tr>\n",
       "      <th>0</th>\n",
       "      <td>Pns2l4eNsfO8kk83dixA6A</td>\n",
       "      <td>Abby Rappoport, LAC, CMQ</td>\n",
       "      <td>1616 Chapala St, Ste 2</td>\n",
       "      <td>Santa Barbara</td>\n",
       "      <td>CA</td>\n",
       "      <td>93101</td>\n",
       "      <td>34.426679</td>\n",
       "      <td>-119.711197</td>\n",
       "      <td>5.0</td>\n",
       "      <td>7</td>\n",
       "      <td>0</td>\n",
       "      <td>{'ByAppointmentOnly': 'True'}</td>\n",
       "      <td>Doctors, Traditional Chinese Medicine, Naturop...</td>\n",
       "      <td>None</td>\n",
       "    </tr>\n",
       "  </tbody>\n",
       "</table>\n",
       "</div>"
      ],
      "text/plain": [
       "              business_id                      name                 address  \\\n",
       "0  Pns2l4eNsfO8kk83dixA6A  Abby Rappoport, LAC, CMQ  1616 Chapala St, Ste 2   \n",
       "\n",
       "            city state postal_code   latitude   longitude  stars  \\\n",
       "0  Santa Barbara    CA       93101  34.426679 -119.711197    5.0   \n",
       "\n",
       "   review_count  is_open                     attributes  \\\n",
       "0             7        0  {'ByAppointmentOnly': 'True'}   \n",
       "\n",
       "                                          categories hours  \n",
       "0  Doctors, Traditional Chinese Medicine, Naturop...  None  "
      ]
     },
     "execution_count": 1,
     "metadata": {},
     "output_type": "execute_result"
    }
   ],
   "source": [
    "import pandas as pd\n",
    "\n",
    "# Función para leer y procesar business.json\n",
    "def process_business(file_name):\n",
    "    chunks = pd.read_json(file_name, lines=True, chunksize=10000) # Puedes ajustar el chunksize según tus necesidades\n",
    "    df_list = []\n",
    "    for chunk in chunks:\n",
    "        df_list.append(chunk)\n",
    "    return pd.concat(df_list, ignore_index=True)\n",
    "\n",
    "business_ny_df = process_business('YELP_DATASETS_ORIGINALES\\yelp_academic_dataset_business.json')\n",
    "\n",
    "business_ny_df.head(1)"
   ]
  },
  {
   "cell_type": "code",
   "execution_count": 2,
   "metadata": {},
   "outputs": [
    {
     "name": "stdout",
     "output_type": "stream",
     "text": [
      "['CA' 'MO' 'AZ' 'PA' 'TN' 'FL' 'IN' 'LA' 'AB' 'NV' 'ID' 'DE' 'IL' 'NJ'\n",
      " 'NC' 'CO' 'WA' 'HI' 'UT' 'TX' 'MT' 'MI' 'SD' 'XMS' 'MA' 'VI' 'VT']\n"
     ]
    }
   ],
   "source": [
    "unique_states = business_ny_df['state'].unique()\n",
    "print(unique_states)\n"
   ]
  },
  {
   "cell_type": "code",
   "execution_count": 3,
   "metadata": {},
   "outputs": [
    {
     "name": "stdout",
     "output_type": "stream",
     "text": [
      "state\n",
      "PA     34039\n",
      "FL     26330\n",
      "TN     12056\n",
      "IN     11247\n",
      "MO     10913\n",
      "LA      9924\n",
      "AZ      9912\n",
      "NJ      8536\n",
      "NV      7715\n",
      "AB      5573\n",
      "CA      5203\n",
      "ID      4467\n",
      "DE      2265\n",
      "IL      2145\n",
      "TX         4\n",
      "CO         3\n",
      "HI         2\n",
      "MA         2\n",
      "WA         2\n",
      "NC         1\n",
      "SD         1\n",
      "MT         1\n",
      "MI         1\n",
      "UT         1\n",
      "VI         1\n",
      "VT         1\n",
      "XMS        1\n",
      "dtype: int64\n"
     ]
    }
   ],
   "source": [
    "# Luego de obtener los estados únicos como ya lo hiciste:\n",
    "unique_states = business_ny_df['state'].unique()\n",
    "\n",
    "# Agrupa por estado y cuenta el número de filas para cada uno\n",
    "state_counts = business_ny_df.groupby('state').size().sort_values(ascending=False)\n",
    "\n",
    "print(state_counts)\n"
   ]
  },
  {
   "cell_type": "code",
   "execution_count": 4,
   "metadata": {},
   "outputs": [],
   "source": [
    "import pandas as pd\n",
    "\n",
    "# Función para leer y procesar business.json\n",
    "def process_business(file_name):\n",
    "    chunks = pd.read_json(file_name, lines=True, chunksize=10000) # Puedes ajustar el chunksize según tus necesidades\n",
    "    df_list = []\n",
    "    for chunk in chunks:\n",
    "        df_list.append(chunk[chunk['state'] == 'FL'])\n",
    "    return pd.concat(df_list, ignore_index=True)\n",
    "\n",
    "business_ny_df = process_business('YELP_DATASETS_ORIGINALES\\yelp_academic_dataset_business.json')\n",
    "\n",
    "# Función para leer y procesar review.json por chunks y hacer merge\n",
    "def process_review_and_merge(file_name, business_df):\n",
    "    chunks = pd.read_json(file_name, lines=True, chunksize=10000) # Puedes ajustar el chunksize según tus necesidades\n",
    "    merged_list = []\n",
    "    for chunk in chunks:\n",
    "        merged_chunk = pd.merge(business_df, chunk, on='business_id', how='left')\n",
    "        merged_list.append(merged_chunk)\n",
    "    return pd.concat(merged_list, ignore_index=True)\n",
    "\n",
    "merged_df = process_review_and_merge('YELP_DATASETS_ORIGINALES\\yelp_academic_dataset_review.json', business_ny_df)\n"
   ]
  },
  {
   "cell_type": "code",
   "execution_count": 5,
   "metadata": {},
   "outputs": [
    {
     "name": "stdout",
     "output_type": "stream",
     "text": [
      "<class 'pandas.core.frame.DataFrame'>\n",
      "RangeIndex: 19073574 entries, 0 to 19073573\n",
      "Data columns (total 22 columns):\n",
      " #   Column        Dtype         \n",
      "---  ------        -----         \n",
      " 0   business_id   object        \n",
      " 1   name          object        \n",
      " 2   address       object        \n",
      " 3   city          object        \n",
      " 4   state         object        \n",
      " 5   postal_code   object        \n",
      " 6   latitude      float64       \n",
      " 7   longitude     float64       \n",
      " 8   stars_x       float64       \n",
      " 9   review_count  int64         \n",
      " 10  is_open       int64         \n",
      " 11  attributes    object        \n",
      " 12  categories    object        \n",
      " 13  hours         object        \n",
      " 14  review_id     object        \n",
      " 15  user_id       object        \n",
      " 16  stars_y       float64       \n",
      " 17  useful        float64       \n",
      " 18  funny         float64       \n",
      " 19  cool          float64       \n",
      " 20  text          object        \n",
      " 21  date          datetime64[ns]\n",
      "dtypes: datetime64[ns](1), float64(7), int64(2), object(12)\n",
      "memory usage: 3.1+ GB\n"
     ]
    }
   ],
   "source": [
    "merged_df.info()"
   ]
  },
  {
   "cell_type": "code",
   "execution_count": 6,
   "metadata": {},
   "outputs": [
    {
     "data": {
      "text/plain": [
       "(19073574, 22)"
      ]
     },
     "execution_count": 6,
     "metadata": {},
     "output_type": "execute_result"
    }
   ],
   "source": [
    "merged_df.shape"
   ]
  },
  {
   "cell_type": "code",
   "execution_count": 7,
   "metadata": {},
   "outputs": [
    {
     "name": "stdout",
     "output_type": "stream",
     "text": [
      "Columnas con diccionarios: ['attributes', 'hours']\n"
     ]
    }
   ],
   "source": [
    "dict_columns = [col for col in merged_df.columns if merged_df[col].apply(type).eq(dict).any()]\n",
    "print(f\"Columnas con diccionarios: {dict_columns}\")\n"
   ]
  },
  {
   "cell_type": "code",
   "execution_count": 8,
   "metadata": {},
   "outputs": [],
   "source": [
    "for col in dict_columns:\n",
    "    merged_df[col] = merged_df[col].astype(str)\n"
   ]
  },
  {
   "cell_type": "code",
   "execution_count": 9,
   "metadata": {},
   "outputs": [],
   "source": [
    "# Eliminar todas las filas duplicadas\n",
    "merged_df.drop_duplicates(inplace=True)\n"
   ]
  },
  {
   "cell_type": "code",
   "execution_count": 10,
   "metadata": {},
   "outputs": [
    {
     "name": "stdout",
     "output_type": "stream",
     "text": [
      "No hay duplicados en el DataFrame.\n"
     ]
    },
    {
     "ename": "NameError",
     "evalue": "name 'display_rows' is not defined",
     "output_type": "error",
     "traceback": [
      "\u001b[1;31m---------------------------------------------------------------------------\u001b[0m",
      "\u001b[1;31mNameError\u001b[0m                                 Traceback (most recent call last)",
      "\u001b[1;32mc:\\Users\\Fausto Ezquerra\\Desktop\\Yelp\\YELP_DATASET_DESCARGADO_FLORIDA.ipynb Cell 10\u001b[0m line \u001b[0;36m1\n\u001b[0;32m     <a href='vscode-notebook-cell:/c%3A/Users/Fausto%20Ezquerra/Desktop/Yelp/YELP_DATASET_DESCARGADO_FLORIDA.ipynb#X14sZmlsZQ%3D%3D?line=11'>12</a>\u001b[0m \u001b[39melse\u001b[39;00m:\n\u001b[0;32m     <a href='vscode-notebook-cell:/c%3A/Users/Fausto%20Ezquerra/Desktop/Yelp/YELP_DATASET_DESCARGADO_FLORIDA.ipynb#X14sZmlsZQ%3D%3D?line=12'>13</a>\u001b[0m     \u001b[39mprint\u001b[39m(\u001b[39m\"\u001b[39m\u001b[39mNo hay duplicados en el DataFrame.\u001b[39m\u001b[39m\"\u001b[39m)\n\u001b[1;32m---> <a href='vscode-notebook-cell:/c%3A/Users/Fausto%20Ezquerra/Desktop/Yelp/YELP_DATASET_DESCARGADO_FLORIDA.ipynb#X14sZmlsZQ%3D%3D?line=14'>15</a>\u001b[0m display_rows\n",
      "\u001b[1;31mNameError\u001b[0m: name 'display_rows' is not defined"
     ]
    }
   ],
   "source": [
    "pd.set_option('display.max_columns', None)  # Muestra todas las columnas\n",
    "pd.set_option('display.max_rows', None)     # Muestra todas las filas\n",
    "pd.set_option('display.max_colwidth', None)   # Muestra todo el contenido de una celda\n",
    "\n",
    "# Encuentra el índice del primer duplicado\n",
    "index_of_first_duplicate = merged_df.duplicated().idxmax()\n",
    "\n",
    "if merged_df.duplicated().any():\n",
    "    # Muestra la fila duplicada y la fila original que fue duplicada\n",
    "    display_rows = merged_df[merged_df.duplicated(keep=False)].iloc[[index_of_first_duplicate - 1, index_of_first_duplicate]]\n",
    "    \n",
    "else:\n",
    "    print(\"No hay duplicados en el DataFrame.\")\n",
    "\n",
    "display_rows\n"
   ]
  },
  {
   "cell_type": "code",
   "execution_count": 11,
   "metadata": {},
   "outputs": [
    {
     "name": "stdout",
     "output_type": "stream",
     "text": [
      "Total de filas duplicadas: 0\n",
      "\n"
     ]
    }
   ],
   "source": [
    "\n",
    "# Obtener número total de filas duplicadas en el dataframe\n",
    "total_duplicados = merged_df.duplicated().sum()\n",
    "\n",
    "print(f\"Total de filas duplicadas: {total_duplicados}\\n\")\n"
   ]
  },
  {
   "cell_type": "code",
   "execution_count": 12,
   "metadata": {},
   "outputs": [
    {
     "name": "stdout",
     "output_type": "stream",
     "text": [
      "Columna: business_id, Datos no válidos (NaN/NaT/None/''): 0\n",
      "Columna: name, Datos no válidos (NaN/NaT/None/''): 0\n",
      "Columna: address, Datos no válidos (NaN/NaT/None/''): 13427\n",
      "Columna: city, Datos no válidos (NaN/NaT/None/''): 0\n",
      "Columna: state, Datos no válidos (NaN/NaT/None/''): 0\n",
      "Columna: postal_code, Datos no válidos (NaN/NaT/None/''): 102\n",
      "Columna: latitude, Datos no válidos (NaN/NaT/None/''): 0\n",
      "Columna: longitude, Datos no válidos (NaN/NaT/None/''): 0\n",
      "Columna: stars_x, Datos no válidos (NaN/NaT/None/''): 0\n",
      "Columna: review_count, Datos no válidos (NaN/NaT/None/''): 0\n",
      "Columna: is_open, Datos no válidos (NaN/NaT/None/''): 0\n",
      "Columna: attributes, Datos no válidos (NaN/NaT/None/''): 0\n",
      "Columna: categories, Datos no válidos (NaN/NaT/None/''): 152\n",
      "Columna: hours, Datos no válidos (NaN/NaT/None/''): 0\n",
      "Columna: review_id, Datos no válidos (NaN/NaT/None/''): 26330\n",
      "Columna: user_id, Datos no válidos (NaN/NaT/None/''): 26330\n",
      "Columna: stars_y, Datos no válidos (NaN/NaT/None/''): 26330\n",
      "Columna: useful, Datos no válidos (NaN/NaT/None/''): 26330\n",
      "Columna: funny, Datos no válidos (NaN/NaT/None/''): 26330\n",
      "Columna: cool, Datos no válidos (NaN/NaT/None/''): 26330\n",
      "Columna: text, Datos no válidos (NaN/NaT/None/''): 26330\n",
      "Columna: date, Datos no válidos (NaN/NaT/None/''): 26330\n"
     ]
    }
   ],
   "source": [
    "\n",
    "for column in merged_df.columns:\n",
    "    # Filtrar filas con NaN, None, cadenas vacías o NaT\n",
    "    condition = merged_df[column].isin([None, \"\", pd.NaT]) | merged_df[column].isnull()\n",
    "    nulos = condition.sum()\n",
    "    print(f\"Columna: {column}, Datos no válidos (NaN/NaT/None/''): {nulos}\")"
   ]
  },
  {
   "cell_type": "code",
   "execution_count": 13,
   "metadata": {},
   "outputs": [],
   "source": [
    "# Guardar en CSV\n",
    "merged_df.to_csv('FLORIDA_YELP_CRUDO.csv', index=False)\n",
    "\n",
    "# Guardar en Parquet (necesitas tener la biblioteca 'pyarrow' o 'fastparquet')\n",
    "merged_df.to_parquet('FLORIDA_YELP_CRUDO.parquet', index=False)\n"
   ]
  },
  {
   "cell_type": "code",
   "execution_count": 15,
   "metadata": {},
   "outputs": [
    {
     "data": {
      "text/plain": [
       "(1187875, 22)"
      ]
     },
     "execution_count": 15,
     "metadata": {},
     "output_type": "execute_result"
    }
   ],
   "source": [
    "merged_df.shape"
   ]
  }
 ],
 "metadata": {
  "kernelspec": {
   "display_name": "Python 3",
   "language": "python",
   "name": "python3"
  },
  "language_info": {
   "codemirror_mode": {
    "name": "ipython",
    "version": 3
   },
   "file_extension": ".py",
   "mimetype": "text/x-python",
   "name": "python",
   "nbconvert_exporter": "python",
   "pygments_lexer": "ipython3",
   "version": "3.11.0"
  },
  "orig_nbformat": 4
 },
 "nbformat": 4,
 "nbformat_minor": 2
}
