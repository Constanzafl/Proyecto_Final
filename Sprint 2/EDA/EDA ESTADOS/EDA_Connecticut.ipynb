{
 "cells": [
  {
   "cell_type": "markdown",
   "metadata": {},
   "source": [
    "## Lectura Connecticut\n",
    "\n",
    "\n"
   ]
  },
  {
   "cell_type": "markdown",
   "metadata": {},
   "source": [
    "Lectura de los archivos de reviews de Connecticut\n"
   ]
  },
  {
   "cell_type": "code",
   "execution_count": 1,
   "metadata": {},
   "outputs": [],
   "source": [
    "import pandas as pd\n",
    "import numpy as np\n",
    "import missingno as msxo\n",
    "import glob\n",
    "import matplotlib.pyplot as plt\n",
    "import seaborn as sns\n",
    "import datetime\n",
    "from wordcloud import WordCloud\n",
    "import nltk\n",
    "from nltk.corpus import stopwords\n",
    "import matplotlib.pyplot as plt\n",
    "from wordcloud import WordCloud\n",
    "import nltk\n",
    "from nltk.corpus import stopwords\n",
    "from nltk.tokenize import word_tokenize"
   ]
  },
  {
   "cell_type": "markdown",
   "metadata": {},
   "source": [
    "Lectura de archivos json de las reviews efectuadas en el estado de Connecticut . Voy a proceder a realizar la lectura y juntar dichos archivos, al tener todos la misma estructura es posible realizarlo mediante iteracion."
   ]
  },
  {
   "cell_type": "code",
   "execution_count": 2,
   "metadata": {},
   "outputs": [
    {
     "name": "stderr",
     "output_type": "stream",
     "text": [
      "C:\\Users\\tomas\\AppData\\Local\\Packages\\PythonSoftwareFoundation.Python.3.10_qbz5n2kfra8p0\\LocalCache\\local-packages\\Python310\\site-packages\\pandas\\core\\dtypes\\astype.py:189: RuntimeWarning: invalid value encountered in cast\n",
      "  return values.astype(dtype, copy=copy)\n",
      "C:\\Users\\tomas\\AppData\\Local\\Packages\\PythonSoftwareFoundation.Python.3.10_qbz5n2kfra8p0\\LocalCache\\local-packages\\Python310\\site-packages\\pandas\\core\\dtypes\\astype.py:189: RuntimeWarning: invalid value encountered in cast\n",
      "  return values.astype(dtype, copy=copy)\n",
      "C:\\Users\\tomas\\AppData\\Local\\Packages\\PythonSoftwareFoundation.Python.3.10_qbz5n2kfra8p0\\LocalCache\\local-packages\\Python310\\site-packages\\pandas\\core\\dtypes\\astype.py:189: RuntimeWarning: invalid value encountered in cast\n",
      "  return values.astype(dtype, copy=copy)\n",
      "C:\\Users\\tomas\\AppData\\Local\\Packages\\PythonSoftwareFoundation.Python.3.10_qbz5n2kfra8p0\\LocalCache\\local-packages\\Python310\\site-packages\\pandas\\core\\dtypes\\astype.py:189: RuntimeWarning: invalid value encountered in cast\n",
      "  return values.astype(dtype, copy=copy)\n",
      "C:\\Users\\tomas\\AppData\\Local\\Packages\\PythonSoftwareFoundation.Python.3.10_qbz5n2kfra8p0\\LocalCache\\local-packages\\Python310\\site-packages\\pandas\\core\\dtypes\\astype.py:189: RuntimeWarning: invalid value encountered in cast\n",
      "  return values.astype(dtype, copy=copy)\n",
      "C:\\Users\\tomas\\AppData\\Local\\Packages\\PythonSoftwareFoundation.Python.3.10_qbz5n2kfra8p0\\LocalCache\\local-packages\\Python310\\site-packages\\pandas\\core\\dtypes\\astype.py:189: RuntimeWarning: invalid value encountered in cast\n",
      "  return values.astype(dtype, copy=copy)\n",
      "C:\\Users\\tomas\\AppData\\Local\\Packages\\PythonSoftwareFoundation.Python.3.10_qbz5n2kfra8p0\\LocalCache\\local-packages\\Python310\\site-packages\\pandas\\core\\dtypes\\astype.py:189: RuntimeWarning: invalid value encountered in cast\n",
      "  return values.astype(dtype, copy=copy)\n",
      "C:\\Users\\tomas\\AppData\\Local\\Packages\\PythonSoftwareFoundation.Python.3.10_qbz5n2kfra8p0\\LocalCache\\local-packages\\Python310\\site-packages\\pandas\\core\\dtypes\\astype.py:189: RuntimeWarning: invalid value encountered in cast\n",
      "  return values.astype(dtype, copy=copy)\n",
      "C:\\Users\\tomas\\AppData\\Local\\Packages\\PythonSoftwareFoundation.Python.3.10_qbz5n2kfra8p0\\LocalCache\\local-packages\\Python310\\site-packages\\pandas\\core\\dtypes\\astype.py:189: RuntimeWarning: invalid value encountered in cast\n",
      "  return values.astype(dtype, copy=copy)\n",
      "C:\\Users\\tomas\\AppData\\Local\\Packages\\PythonSoftwareFoundation.Python.3.10_qbz5n2kfra8p0\\LocalCache\\local-packages\\Python310\\site-packages\\pandas\\core\\dtypes\\astype.py:189: RuntimeWarning: invalid value encountered in cast\n",
      "  return values.astype(dtype, copy=copy)\n",
      "C:\\Users\\tomas\\AppData\\Local\\Packages\\PythonSoftwareFoundation.Python.3.10_qbz5n2kfra8p0\\LocalCache\\local-packages\\Python310\\site-packages\\pandas\\core\\dtypes\\astype.py:189: RuntimeWarning: invalid value encountered in cast\n",
      "  return values.astype(dtype, copy=copy)\n",
      "C:\\Users\\tomas\\AppData\\Local\\Packages\\PythonSoftwareFoundation.Python.3.10_qbz5n2kfra8p0\\LocalCache\\local-packages\\Python310\\site-packages\\pandas\\core\\dtypes\\astype.py:189: RuntimeWarning: invalid value encountered in cast\n",
      "  return values.astype(dtype, copy=copy)\n",
      "C:\\Users\\tomas\\AppData\\Local\\Packages\\PythonSoftwareFoundation.Python.3.10_qbz5n2kfra8p0\\LocalCache\\local-packages\\Python310\\site-packages\\pandas\\core\\dtypes\\astype.py:189: RuntimeWarning: invalid value encountered in cast\n",
      "  return values.astype(dtype, copy=copy)\n",
      "C:\\Users\\tomas\\AppData\\Local\\Packages\\PythonSoftwareFoundation.Python.3.10_qbz5n2kfra8p0\\LocalCache\\local-packages\\Python310\\site-packages\\pandas\\core\\dtypes\\astype.py:189: RuntimeWarning: invalid value encountered in cast\n",
      "  return values.astype(dtype, copy=copy)\n",
      "C:\\Users\\tomas\\AppData\\Local\\Packages\\PythonSoftwareFoundation.Python.3.10_qbz5n2kfra8p0\\LocalCache\\local-packages\\Python310\\site-packages\\pandas\\core\\dtypes\\astype.py:189: RuntimeWarning: invalid value encountered in cast\n",
      "  return values.astype(dtype, copy=copy)\n",
      "C:\\Users\\tomas\\AppData\\Local\\Packages\\PythonSoftwareFoundation.Python.3.10_qbz5n2kfra8p0\\LocalCache\\local-packages\\Python310\\site-packages\\pandas\\core\\dtypes\\astype.py:189: RuntimeWarning: invalid value encountered in cast\n",
      "  return values.astype(dtype, copy=copy)\n",
      "C:\\Users\\tomas\\AppData\\Local\\Packages\\PythonSoftwareFoundation.Python.3.10_qbz5n2kfra8p0\\LocalCache\\local-packages\\Python310\\site-packages\\pandas\\core\\dtypes\\astype.py:189: RuntimeWarning: invalid value encountered in cast\n",
      "  return values.astype(dtype, copy=copy)\n",
      "C:\\Users\\tomas\\AppData\\Local\\Packages\\PythonSoftwareFoundation.Python.3.10_qbz5n2kfra8p0\\LocalCache\\local-packages\\Python310\\site-packages\\pandas\\core\\dtypes\\astype.py:189: RuntimeWarning: invalid value encountered in cast\n",
      "  return values.astype(dtype, copy=copy)\n"
     ]
    }
   ],
   "source": [
    "df_1 = pd.read_json('C:/Users/tomas/Desktop/DS - HENRY/00.LABS/3.PF/GOOGLE/reviews-estados/review-Connecticut/1.json', lines= True)\n",
    "df_2 = pd.read_json('C:/Users/tomas/Desktop/DS - HENRY/00.LABS/3.PF/GOOGLE/reviews-estados/review-Connecticut/2.json', lines= True)\n",
    "df_3 = pd.read_json('C:/Users/tomas/Desktop/DS - HENRY/00.LABS/3.PF/GOOGLE/reviews-estados/review-Connecticut/3.json', lines= True)\n",
    "df_4 = pd.read_json('C:/Users/tomas/Desktop/DS - HENRY/00.LABS/3.PF/GOOGLE/reviews-estados/review-Connecticut/4.json', lines= True)\n",
    "df_5 = pd.read_json('C:/Users/tomas/Desktop/DS - HENRY/00.LABS/3.PF/GOOGLE/reviews-estados/review-Connecticut/5.json', lines= True)\n",
    "df_6 = pd.read_json('C:/Users/tomas/Desktop/DS - HENRY/00.LABS/3.PF/GOOGLE/reviews-estados/review-Connecticut/6.json', lines= True)\n",
    "df_7 = pd.read_json('C:/Users/tomas/Desktop/DS - HENRY/00.LABS/3.PF/GOOGLE/reviews-estados/review-Connecticut/7.json', lines= True)\n",
    "df_8 = pd.read_json('C:/Users/tomas/Desktop/DS - HENRY/00.LABS/3.PF/GOOGLE/reviews-estados/review-Connecticut/8.json', lines= True)\n",
    "df_9 = pd.read_json('C:/Users/tomas/Desktop/DS - HENRY/00.LABS/3.PF/GOOGLE/reviews-estados/review-Connecticut/9.json', lines= True)\n",
    "df_10 = pd.read_json('C:/Users/tomas/Desktop/DS - HENRY/00.LABS/3.PF/GOOGLE/reviews-estados/review-Connecticut/10.json', lines= True)\n",
    "df_11 = pd.read_json('C:/Users/tomas/Desktop/DS - HENRY/00.LABS/3.PF/GOOGLE/reviews-estados/review-Connecticut/11.json', lines= True)\n",
    "df_12 = pd.read_json('C:/Users/tomas/Desktop/DS - HENRY/00.LABS/3.PF/GOOGLE/reviews-estados/review-Connecticut/12.json', lines= True)\n",
    "df_13 = pd.read_json('C:/Users/tomas/Desktop/DS - HENRY/00.LABS/3.PF/GOOGLE/reviews-estados/review-Connecticut/13.json', lines= True)\n",
    "df_14 = pd.read_json('C:/Users/tomas/Desktop/DS - HENRY/00.LABS/3.PF/GOOGLE/reviews-estados/review-Connecticut/14.json', lines= True)\n",
    "df_15 = pd.read_json('C:/Users/tomas/Desktop/DS - HENRY/00.LABS/3.PF/GOOGLE/reviews-estados/review-Connecticut/15.json', lines= True)\n",
    "df_16 = pd.read_json('C:/Users/tomas/Desktop/DS - HENRY/00.LABS/3.PF/GOOGLE/reviews-estados/review-Connecticut/16.json', lines= True)\n",
    "df_17 = pd.read_json('C:/Users/tomas/Desktop/DS - HENRY/00.LABS/3.PF/GOOGLE/reviews-estados/review-Connecticut/16.json', lines= True)\n",
    "df_18 = pd.read_json('C:/Users/tomas/Desktop/DS - HENRY/00.LABS/3.PF/GOOGLE/reviews-estados/review-Connecticut/16.json', lines= True)"
   ]
  },
  {
   "cell_type": "code",
   "execution_count": 3,
   "metadata": {},
   "outputs": [],
   "source": [
    "# Creo una lista para poder juntar todos los dataframes de los archivos en uno\n",
    "dfs = []\n",
    "\n",
    "# Itero entre cada uno de los dataframes para juntarlos en uno solo\n",
    "for i in range(1, 19):\n",
    "    \n",
    "    df = globals()[f'df_{i}']\n",
    "    dfs.append(df)\n",
    "\n",
    "\n",
    "reviews_Connecticut = pd.concat(dfs, ignore_index=True)"
   ]
  },
  {
   "cell_type": "code",
   "execution_count": 4,
   "metadata": {},
   "outputs": [
    {
     "data": {
      "text/html": [
       "<div>\n",
       "<style scoped>\n",
       "    .dataframe tbody tr th:only-of-type {\n",
       "        vertical-align: middle;\n",
       "    }\n",
       "\n",
       "    .dataframe tbody tr th {\n",
       "        vertical-align: top;\n",
       "    }\n",
       "\n",
       "    .dataframe thead th {\n",
       "        text-align: right;\n",
       "    }\n",
       "</style>\n",
       "<table border=\"1\" class=\"dataframe\">\n",
       "  <thead>\n",
       "    <tr style=\"text-align: right;\">\n",
       "      <th></th>\n",
       "      <th>user_id</th>\n",
       "      <th>name</th>\n",
       "      <th>time</th>\n",
       "      <th>rating</th>\n",
       "      <th>text</th>\n",
       "      <th>pics</th>\n",
       "      <th>resp</th>\n",
       "      <th>gmap_id</th>\n",
       "    </tr>\n",
       "  </thead>\n",
       "  <tbody>\n",
       "    <tr>\n",
       "      <th>0</th>\n",
       "      <td>1.140765e+20</td>\n",
       "      <td>Jeff Mccomish</td>\n",
       "      <td>1612059976820</td>\n",
       "      <td>5</td>\n",
       "      <td>Great friendly independent packie</td>\n",
       "      <td>None</td>\n",
       "      <td>None</td>\n",
       "      <td>0x89e64b04d274c9d9:0x84d833dcc10ae21d</td>\n",
       "    </tr>\n",
       "    <tr>\n",
       "      <th>1</th>\n",
       "      <td>1.015203e+20</td>\n",
       "      <td>Outlaw PiRu</td>\n",
       "      <td>1544752859553</td>\n",
       "      <td>5</td>\n",
       "      <td>Great Atmosphere and Great Service. Fantastic ...</td>\n",
       "      <td>None</td>\n",
       "      <td>None</td>\n",
       "      <td>0x89e64b04d274c9d9:0x84d833dcc10ae21d</td>\n",
       "    </tr>\n",
       "    <tr>\n",
       "      <th>2</th>\n",
       "      <td>1.118002e+20</td>\n",
       "      <td>Hector Acevedo</td>\n",
       "      <td>1564367962353</td>\n",
       "      <td>5</td>\n",
       "      <td>Nice neighborhood store with great sandwiches ...</td>\n",
       "      <td>None</td>\n",
       "      <td>None</td>\n",
       "      <td>0x89e64b04d274c9d9:0x84d833dcc10ae21d</td>\n",
       "    </tr>\n",
       "  </tbody>\n",
       "</table>\n",
       "</div>"
      ],
      "text/plain": [
       "        user_id            name           time  rating  \\\n",
       "0  1.140765e+20   Jeff Mccomish  1612059976820       5   \n",
       "1  1.015203e+20     Outlaw PiRu  1544752859553       5   \n",
       "2  1.118002e+20  Hector Acevedo  1564367962353       5   \n",
       "\n",
       "                                                text  pics  resp  \\\n",
       "0                  Great friendly independent packie  None  None   \n",
       "1  Great Atmosphere and Great Service. Fantastic ...  None  None   \n",
       "2  Nice neighborhood store with great sandwiches ...  None  None   \n",
       "\n",
       "                                 gmap_id  \n",
       "0  0x89e64b04d274c9d9:0x84d833dcc10ae21d  \n",
       "1  0x89e64b04d274c9d9:0x84d833dcc10ae21d  \n",
       "2  0x89e64b04d274c9d9:0x84d833dcc10ae21d  "
      ]
     },
     "execution_count": 4,
     "metadata": {},
     "output_type": "execute_result"
    }
   ],
   "source": [
    "# Vista primeros registros\n",
    "reviews_Connecticut.head(3)"
   ]
  },
  {
   "cell_type": "code",
   "execution_count": 5,
   "metadata": {},
   "outputs": [
    {
     "data": {
      "text/plain": [
       "(2700000, 8)"
      ]
     },
     "execution_count": 5,
     "metadata": {},
     "output_type": "execute_result"
    }
   ],
   "source": [
    "# Miro cuantos registros tenemos en el dataframe unido\n",
    "\n",
    "reviews_Connecticut.shape"
   ]
  },
  {
   "cell_type": "code",
   "execution_count": 6,
   "metadata": {},
   "outputs": [
    {
     "name": "stdout",
     "output_type": "stream",
     "text": [
      "<class 'pandas.core.frame.DataFrame'>\n",
      "RangeIndex: 2700000 entries, 0 to 2699999\n",
      "Data columns (total 8 columns):\n",
      " #   Column   Dtype  \n",
      "---  ------   -----  \n",
      " 0   user_id  float64\n",
      " 1   name     object \n",
      " 2   time     int64  \n",
      " 3   rating   int64  \n",
      " 4   text     object \n",
      " 5   pics     object \n",
      " 6   resp     object \n",
      " 7   gmap_id  object \n",
      "dtypes: float64(1), int64(2), object(5)\n",
      "memory usage: 164.8+ MB\n"
     ]
    }
   ],
   "source": [
    "# Miro el tipo de información\n",
    "\n",
    "reviews_Connecticut.info()"
   ]
  },
  {
   "cell_type": "code",
   "execution_count": 7,
   "metadata": {},
   "outputs": [
    {
     "data": {
      "text/html": [
       "<div>\n",
       "<style scoped>\n",
       "    .dataframe tbody tr th:only-of-type {\n",
       "        vertical-align: middle;\n",
       "    }\n",
       "\n",
       "    .dataframe tbody tr th {\n",
       "        vertical-align: top;\n",
       "    }\n",
       "\n",
       "    .dataframe thead th {\n",
       "        text-align: right;\n",
       "    }\n",
       "</style>\n",
       "<table border=\"1\" class=\"dataframe\">\n",
       "  <thead>\n",
       "    <tr style=\"text-align: right;\">\n",
       "      <th></th>\n",
       "      <th>Nro nulos</th>\n",
       "      <th>Porcentaje de nulos</th>\n",
       "    </tr>\n",
       "  </thead>\n",
       "  <tbody>\n",
       "    <tr>\n",
       "      <th>pics</th>\n",
       "      <td>2628778</td>\n",
       "      <td>97.36</td>\n",
       "    </tr>\n",
       "    <tr>\n",
       "      <th>resp</th>\n",
       "      <td>2441768</td>\n",
       "      <td>90.44</td>\n",
       "    </tr>\n",
       "    <tr>\n",
       "      <th>text</th>\n",
       "      <td>1275531</td>\n",
       "      <td>47.24</td>\n",
       "    </tr>\n",
       "    <tr>\n",
       "      <th>user_id</th>\n",
       "      <td>0</td>\n",
       "      <td>0.00</td>\n",
       "    </tr>\n",
       "    <tr>\n",
       "      <th>name</th>\n",
       "      <td>0</td>\n",
       "      <td>0.00</td>\n",
       "    </tr>\n",
       "    <tr>\n",
       "      <th>time</th>\n",
       "      <td>0</td>\n",
       "      <td>0.00</td>\n",
       "    </tr>\n",
       "    <tr>\n",
       "      <th>rating</th>\n",
       "      <td>0</td>\n",
       "      <td>0.00</td>\n",
       "    </tr>\n",
       "    <tr>\n",
       "      <th>gmap_id</th>\n",
       "      <td>0</td>\n",
       "      <td>0.00</td>\n",
       "    </tr>\n",
       "  </tbody>\n",
       "</table>\n",
       "</div>"
      ],
      "text/plain": [
       "         Nro nulos  Porcentaje de nulos\n",
       "pics       2628778                97.36\n",
       "resp       2441768                90.44\n",
       "text       1275531                47.24\n",
       "user_id          0                 0.00\n",
       "name             0                 0.00\n",
       "time             0                 0.00\n",
       "rating           0                 0.00\n",
       "gmap_id          0                 0.00"
      ]
     },
     "execution_count": 7,
     "metadata": {},
     "output_type": "execute_result"
    }
   ],
   "source": [
    "# Checkeo de nulos y su porcentaje\n",
    "\n",
    "nulls_FL = pd.DataFrame(reviews_Connecticut.isnull().sum().sort_values(ascending = False))\n",
    "nulls_FL[\"Porcentaje de nulos\"] = round(nulls_FL/reviews_Connecticut.shape[0]*100,2)\n",
    "nulls_FL.rename(columns = {0:\"Nro nulos\"})"
   ]
  },
  {
   "cell_type": "code",
   "execution_count": 8,
   "metadata": {},
   "outputs": [
    {
     "data": {
      "text/plain": [
       "Index(['user_id', 'name', 'time', 'rating', 'text', 'pics', 'resp', 'gmap_id'], dtype='object')"
      ]
     },
     "execution_count": 8,
     "metadata": {},
     "output_type": "execute_result"
    }
   ],
   "source": [
    "reviews_Connecticut.columns"
   ]
  },
  {
   "cell_type": "code",
   "execution_count": 9,
   "metadata": {},
   "outputs": [
    {
     "data": {
      "text/plain": [
       "93804"
      ]
     },
     "execution_count": 9,
     "metadata": {},
     "output_type": "execute_result"
    }
   ],
   "source": [
    "reviews_Connecticut.user_id.nunique()"
   ]
  },
  {
   "cell_type": "code",
   "execution_count": 10,
   "metadata": {},
   "outputs": [
    {
     "data": {
      "text/plain": [
       "1424469"
      ]
     },
     "execution_count": 10,
     "metadata": {},
     "output_type": "execute_result"
    }
   ],
   "source": [
    "reviews_Connecticut.text.count()"
   ]
  },
  {
   "cell_type": "markdown",
   "metadata": {},
   "source": [
    "En el estado de Connecticut, tenemos 93804 usuarios que  1424469 reseñas."
   ]
  },
  {
   "cell_type": "code",
   "execution_count": 11,
   "metadata": {},
   "outputs": [
    {
     "data": {
      "image/png": "[encoded data removed]",
      "text/plain": [
       "<Figure size 800x600 with 1 Axes>"
      ]
     },
     "metadata": {},
     "output_type": "display_data"
    }
   ],
   "source": [
    "rating = reviews_Connecticut.rating.value_counts()\n",
    "\n",
    "# Crear el gráfico de barras\n",
    "plt.figure(figsize=(8, 6))\n",
    "rating.plot(kind='bar', color='skyblue')\n",
    "\n",
    "# Agregar etiquetas a las barras\n",
    "for i, count in enumerate(rating):\n",
    "    plt.text(i, count, str(count), ha='center', va='bottom')\n",
    "\n",
    "# Configuración de etiquetas y título\n",
    "plt.xlabel('Categoría de Review')\n",
    "plt.ylabel('Cantidad')\n",
    "plt.title('Conteo de ratings')\n",
    "\n",
    "# Mostrar el gráfico\n",
    "plt.show()\n"
   ]
  },
  {
   "cell_type": "code",
   "execution_count": 12,
   "metadata": {},
   "outputs": [],
   "source": [
    "reviews_Connecticut['time'] = pd.to_datetime(reviews_Connecticut['time'], unit='ms').dt.strftime('%d/%m/%Y')"
   ]
  },
  {
   "cell_type": "code",
   "execution_count": 13,
   "metadata": {},
   "outputs": [],
   "source": [
    "reviews_Connecticut['time'] = pd.to_datetime(reviews_Connecticut['time'], format='%d/%m/%Y')\n",
    "\n",
    "reviews_Connecticut['year'] = reviews_Connecticut['time'].dt.year"
   ]
  },
  {
   "cell_type": "code",
   "execution_count": 14,
   "metadata": {},
   "outputs": [
    {
     "name": "stdout",
     "output_type": "stream",
     "text": [
      "2004-11-18 00:00:00\n",
      "2004-11-18 00:00:00\n"
     ]
    }
   ],
   "source": [
    "min_date = reviews_Connecticut.time.min()\n",
    "minimun_date = pd.to_datetime(min_date)\n",
    "print(min_date)\n",
    "print(minimun_date)"
   ]
  },
  {
   "cell_type": "code",
   "execution_count": 15,
   "metadata": {},
   "outputs": [
    {
     "name": "stdout",
     "output_type": "stream",
     "text": [
      "2021-09-05 00:00:00\n",
      "2021-09-05 00:00:00\n"
     ]
    }
   ],
   "source": [
    "max_date = reviews_Connecticut.time.max()\n",
    "maximun_date = pd.to_datetime(max_date)\n",
    "print(max_date)\n",
    "print(maximun_date)"
   ]
  },
  {
   "cell_type": "code",
   "execution_count": 16,
   "metadata": {},
   "outputs": [
    {
     "data": {
      "image/png": "[encoded data removed]",
      "text/plain": [
       "<Figure size 1000x600 with 1 Axes>"
      ]
     },
     "metadata": {},
     "output_type": "display_data"
    }
   ],
   "source": [
    "conteo_por_año= reviews_Connecticut[['year', 'text']].groupby('year').count().reset_index()\n",
    "\n",
    "plt.figure(figsize=(10, 6))\n",
    "sns.lineplot(data=conteo_por_año, x='year', y= 'text', color='red')\n",
    "plt.xlabel('Año')\n",
    "plt.ylabel('Cantidad de reviews')\n",
    "plt.title('Reviews a lo largo de los años')\n",
    "plt.show()\n"
   ]
  },
  {
   "cell_type": "code",
   "execution_count": 17,
   "metadata": {},
   "outputs": [],
   "source": [
    "reviews_Connecticut[\"text\"] = reviews_Connecticut[\"text\"].astype(str)\n",
    "reviews_Connecticut.dropna(subset=[\"text\"], inplace=True)"
   ]
  },
  {
   "cell_type": "code",
   "execution_count": 18,
   "metadata": {},
   "outputs": [
    {
     "name": "stderr",
     "output_type": "stream",
     "text": [
      "[nltk_data] Downloading package punkt to\n",
      "[nltk_data]     C:\\Users\\tomas\\AppData\\Roaming\\nltk_data...\n",
      "[nltk_data]   Package punkt is already up-to-date!\n",
      "[nltk_data] Downloading package stopwords to\n",
      "[nltk_data]     C:\\Users\\tomas\\AppData\\Roaming\\nltk_data...\n",
      "[nltk_data]   Package stopwords is already up-to-date!\n"
     ]
    },
    {
     "data": {
      "text/plain": [
       "True"
      ]
     },
     "execution_count": 18,
     "metadata": {},
     "output_type": "execute_result"
    }
   ],
   "source": [
    "import nltk\n",
    "nltk.download('punkt')\n",
    "nltk.download('stopwords')\n"
   ]
  },
  {
   "cell_type": "code",
   "execution_count": 19,
   "metadata": {},
   "outputs": [
    {
     "name": "stderr",
     "output_type": "stream",
     "text": [
      "[nltk_data] Downloading package punkt to\n",
      "[nltk_data]     C:\\Users\\tomas\\AppData\\Roaming\\nltk_data...\n",
      "[nltk_data]   Package punkt is already up-to-date!\n",
      "[nltk_data] Downloading package stopwords to\n",
      "[nltk_data]     C:\\Users\\tomas\\AppData\\Roaming\\nltk_data...\n",
      "[nltk_data]   Package stopwords is already up-to-date!\n"
     ]
    },
    {
     "ename": "MemoryError",
     "evalue": "",
     "output_type": "error",
     "traceback": [
      "\u001b[1;31m---------------------------------------------------------------------------\u001b[0m",
      "\u001b[1;31mMemoryError\u001b[0m                               Traceback (most recent call last)",
      "\u001b[1;32mc:\\Users\\tomas\\Desktop\\DS - HENRY\\00.LABS\\3.PF\\Proyecto_Final\\Sprint 2\\EDA\\EDA ESTADOS\\EDA_Connecticut.ipynb Celda 23\u001b[0m line \u001b[0;36m1\n\u001b[0;32m      <a href='vscode-notebook-cell:/c%3A/Users/tomas/Desktop/DS%20-%20HENRY/00.LABS/3.PF/Proyecto_Final/Sprint%202/EDA/EDA%20ESTADOS/EDA_Connecticut.ipynb#X31sZmlsZQ%3D%3D?line=8'>9</a>\u001b[0m stop_words \u001b[39m=\u001b[39m \u001b[39mset\u001b[39m(stopwords\u001b[39m.\u001b[39mwords(\u001b[39m\"\u001b[39m\u001b[39menglish\u001b[39m\u001b[39m\"\u001b[39m))\n\u001b[0;32m     <a href='vscode-notebook-cell:/c%3A/Users/tomas/Desktop/DS%20-%20HENRY/00.LABS/3.PF/Proyecto_Final/Sprint%202/EDA/EDA%20ESTADOS/EDA_Connecticut.ipynb#X31sZmlsZQ%3D%3D?line=9'>10</a>\u001b[0m words \u001b[39m=\u001b[39m word_tokenize(texto)\n\u001b[1;32m---> <a href='vscode-notebook-cell:/c%3A/Users/tomas/Desktop/DS%20-%20HENRY/00.LABS/3.PF/Proyecto_Final/Sprint%202/EDA/EDA%20ESTADOS/EDA_Connecticut.ipynb#X31sZmlsZQ%3D%3D?line=10'>11</a>\u001b[0m words \u001b[39m=\u001b[39m [word\u001b[39m.\u001b[39mlower() \u001b[39mfor\u001b[39;00m word \u001b[39min\u001b[39;00m words \u001b[39mif\u001b[39;00m word\u001b[39m.\u001b[39misalpha() \u001b[39mand\u001b[39;00m word\u001b[39m.\u001b[39mlower() \u001b[39mnot\u001b[39;00m \u001b[39min\u001b[39;00m stop_words]\n\u001b[0;32m     <a href='vscode-notebook-cell:/c%3A/Users/tomas/Desktop/DS%20-%20HENRY/00.LABS/3.PF/Proyecto_Final/Sprint%202/EDA/EDA%20ESTADOS/EDA_Connecticut.ipynb#X31sZmlsZQ%3D%3D?line=12'>13</a>\u001b[0m \u001b[39m# Join the words into a text string\u001b[39;00m\n\u001b[0;32m     <a href='vscode-notebook-cell:/c%3A/Users/tomas/Desktop/DS%20-%20HENRY/00.LABS/3.PF/Proyecto_Final/Sprint%202/EDA/EDA%20ESTADOS/EDA_Connecticut.ipynb#X31sZmlsZQ%3D%3D?line=13'>14</a>\u001b[0m texto_procesado \u001b[39m=\u001b[39m \u001b[39m\"\u001b[39m\u001b[39m \u001b[39m\u001b[39m\"\u001b[39m\u001b[39m.\u001b[39mjoin(words)\n",
      "\u001b[1;32mc:\\Users\\tomas\\Desktop\\DS - HENRY\\00.LABS\\3.PF\\Proyecto_Final\\Sprint 2\\EDA\\EDA ESTADOS\\EDA_Connecticut.ipynb Celda 23\u001b[0m line \u001b[0;36m1\n\u001b[0;32m      <a href='vscode-notebook-cell:/c%3A/Users/tomas/Desktop/DS%20-%20HENRY/00.LABS/3.PF/Proyecto_Final/Sprint%202/EDA/EDA%20ESTADOS/EDA_Connecticut.ipynb#X31sZmlsZQ%3D%3D?line=8'>9</a>\u001b[0m stop_words \u001b[39m=\u001b[39m \u001b[39mset\u001b[39m(stopwords\u001b[39m.\u001b[39mwords(\u001b[39m\"\u001b[39m\u001b[39menglish\u001b[39m\u001b[39m\"\u001b[39m))\n\u001b[0;32m     <a href='vscode-notebook-cell:/c%3A/Users/tomas/Desktop/DS%20-%20HENRY/00.LABS/3.PF/Proyecto_Final/Sprint%202/EDA/EDA%20ESTADOS/EDA_Connecticut.ipynb#X31sZmlsZQ%3D%3D?line=9'>10</a>\u001b[0m words \u001b[39m=\u001b[39m word_tokenize(texto)\n\u001b[1;32m---> <a href='vscode-notebook-cell:/c%3A/Users/tomas/Desktop/DS%20-%20HENRY/00.LABS/3.PF/Proyecto_Final/Sprint%202/EDA/EDA%20ESTADOS/EDA_Connecticut.ipynb#X31sZmlsZQ%3D%3D?line=10'>11</a>\u001b[0m words \u001b[39m=\u001b[39m [word\u001b[39m.\u001b[39mlower() \u001b[39mfor\u001b[39;00m word \u001b[39min\u001b[39;00m words \u001b[39mif\u001b[39;00m word\u001b[39m.\u001b[39misalpha() \u001b[39mand\u001b[39;00m word\u001b[39m.\u001b[39mlower() \u001b[39mnot\u001b[39;00m \u001b[39min\u001b[39;00m stop_words]\n\u001b[0;32m     <a href='vscode-notebook-cell:/c%3A/Users/tomas/Desktop/DS%20-%20HENRY/00.LABS/3.PF/Proyecto_Final/Sprint%202/EDA/EDA%20ESTADOS/EDA_Connecticut.ipynb#X31sZmlsZQ%3D%3D?line=12'>13</a>\u001b[0m \u001b[39m# Join the words into a text string\u001b[39;00m\n\u001b[0;32m     <a href='vscode-notebook-cell:/c%3A/Users/tomas/Desktop/DS%20-%20HENRY/00.LABS/3.PF/Proyecto_Final/Sprint%202/EDA/EDA%20ESTADOS/EDA_Connecticut.ipynb#X31sZmlsZQ%3D%3D?line=13'>14</a>\u001b[0m texto_procesado \u001b[39m=\u001b[39m \u001b[39m\"\u001b[39m\u001b[39m \u001b[39m\u001b[39m\"\u001b[39m\u001b[39m.\u001b[39mjoin(words)\n",
      "\u001b[1;31mMemoryError\u001b[0m: "
     ]
    }
   ],
   "source": [
    "# Assuming you have a DataFrame named \"reviews_XXXXXXXXXXXXXXXXXX\" with a \"text\" column\n",
    "texto = \" \".join(reviews_Connecticut[\"text\"])\n",
    "\n",
    "# Download NLTK data for tokenization and stopwords\n",
    "nltk.download('punkt')\n",
    "nltk.download('stopwords')\n",
    "\n",
    "# Tokenization and removing stopwords\n",
    "stop_words = set(stopwords.words(\"english\"))\n",
    "words = word_tokenize(texto)\n",
    "words = [word.lower() for word in words if word.isalpha() and word.lower() not in stop_words]\n",
    "\n",
    "# Join the words into a text string\n",
    "texto_procesado = \" \".join(words)\n",
    "\n",
    "# Create the word cloud\n",
    "wordcloud = WordCloud(width=800, height=400, background_color=\"white\").generate(texto_procesado)\n",
    "\n",
    "# Visualize the word cloud\n",
    "plt.figure(figsize=(10, 5))\n",
    "plt.imshow(wordcloud, interpolation=\"bilinear\")\n",
    "plt.axis(\"off\")\n",
    "plt.show()\n"
   ]
  }
 ],
 "metadata": {
  "kernelspec": {
   "display_name": "Python 3",
   "language": "python",
   "name": "python3"
  },
  "language_info": {
   "codemirror_mode": {
    "name": "ipython",
    "version": 3
   },
   "file_extension": ".py",
   "mimetype": "text/x-python",
   "name": "python",
   "nbconvert_exporter": "python",
   "pygments_lexer": "ipython3",
   "version": "3.10.11"
  },
  "orig_nbformat": 4
 },
 "nbformat": 4,
 "nbformat_minor": 2
}
