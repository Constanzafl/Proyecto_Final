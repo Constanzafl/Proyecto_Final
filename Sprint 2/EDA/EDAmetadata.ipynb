{
 "cells": [
  {
   "cell_type": "markdown",
   "metadata": {},
   "source": [
    "# Lectura metadata"
   ]
  },
  {
   "cell_type": "code",
   "execution_count": 13,
   "metadata": {},
   "outputs": [],
   "source": [
    "# Importo librerias\n",
    "\n",
    "import pandas as pd\n",
    "import numpy as np\n",
    "import missingno as msxo\n",
    "import matplotlib.pyplot as plt\n",
    "import glob\n",
    "import folium\n",
    "import plotly.express as px\n",
    "import re"
   ]
  },
  {
   "cell_type": "markdown",
   "metadata": {},
   "source": [
    "Lectura de los archivos de metadata de los negocios de google. Esta metadata nos es util para poder cruzarla con las reviews y poder tener toda la informacion como conjunta"
   ]
  },
  {
   "cell_type": "code",
   "execution_count": 2,
   "metadata": {},
   "outputs": [
    {
     "data": {
      "text/html": [
       "<div>\n",
       "<style scoped>\n",
       "    .dataframe tbody tr th:only-of-type {\n",
       "        vertical-align: middle;\n",
       "    }\n",
       "\n",
       "    .dataframe tbody tr th {\n",
       "        vertical-align: top;\n",
       "    }\n",
       "\n",
       "    .dataframe thead th {\n",
       "        text-align: right;\n",
       "    }\n",
       "</style>\n",
       "<table border=\"1\" class=\"dataframe\">\n",
       "  <thead>\n",
       "    <tr style=\"text-align: right;\">\n",
       "      <th></th>\n",
       "      <th>name</th>\n",
       "      <th>address</th>\n",
       "      <th>gmap_id</th>\n",
       "      <th>description</th>\n",
       "      <th>latitude</th>\n",
       "      <th>longitude</th>\n",
       "      <th>category</th>\n",
       "      <th>avg_rating</th>\n",
       "      <th>num_of_reviews</th>\n",
       "      <th>price</th>\n",
       "      <th>hours</th>\n",
       "      <th>MISC</th>\n",
       "      <th>state</th>\n",
       "      <th>relative_results</th>\n",
       "      <th>url</th>\n",
       "    </tr>\n",
       "  </thead>\n",
       "  <tbody>\n",
       "    <tr>\n",
       "      <th>0</th>\n",
       "      <td>Porter Pharmacy</td>\n",
       "      <td>Porter Pharmacy, 129 N Second St, Cochran, GA ...</td>\n",
       "      <td>0x88f16e41928ff687:0x883dad4fd048e8f8</td>\n",
       "      <td>None</td>\n",
       "      <td>32.388300</td>\n",
       "      <td>-83.357100</td>\n",
       "      <td>[Pharmacy]</td>\n",
       "      <td>4.9</td>\n",
       "      <td>16</td>\n",
       "      <td>None</td>\n",
       "      <td>[[Friday, 8AM–6PM], [Saturday, 8AM–12PM], [Sun...</td>\n",
       "      <td>{'Service options': ['In-store shopping', 'Sam...</td>\n",
       "      <td>Open ⋅ Closes 6PM</td>\n",
       "      <td>[0x88f16e41929435cf:0x5b2532a2885e9ef6, 0x88f1...</td>\n",
       "      <td>https://www.google.com/maps/place//data=!4m2!3...</td>\n",
       "    </tr>\n",
       "    <tr>\n",
       "      <th>1</th>\n",
       "      <td>City Textile</td>\n",
       "      <td>City Textile, 3001 E Pico Blvd, Los Angeles, C...</td>\n",
       "      <td>0x80c2c98c0e3c16fd:0x29ec8a728764fdf9</td>\n",
       "      <td>None</td>\n",
       "      <td>34.018891</td>\n",
       "      <td>-118.215290</td>\n",
       "      <td>[Textile exporter]</td>\n",
       "      <td>4.5</td>\n",
       "      <td>6</td>\n",
       "      <td>None</td>\n",
       "      <td>None</td>\n",
       "      <td>None</td>\n",
       "      <td>Open now</td>\n",
       "      <td>[0x80c2c624136ea88b:0xb0315367ed448771, 0x80c2...</td>\n",
       "      <td>https://www.google.com/maps/place//data=!4m2!3...</td>\n",
       "    </tr>\n",
       "    <tr>\n",
       "      <th>2</th>\n",
       "      <td>San Soo Dang</td>\n",
       "      <td>San Soo Dang, 761 S Vermont Ave, Los Angeles, ...</td>\n",
       "      <td>0x80c2c778e3b73d33:0xbdc58662a4a97d49</td>\n",
       "      <td>None</td>\n",
       "      <td>34.058092</td>\n",
       "      <td>-118.292130</td>\n",
       "      <td>[Korean restaurant]</td>\n",
       "      <td>4.4</td>\n",
       "      <td>18</td>\n",
       "      <td>None</td>\n",
       "      <td>[[Thursday, 6:30AM–6PM], [Friday, 6:30AM–6PM],...</td>\n",
       "      <td>{'Service options': ['Takeout', 'Dine-in', 'De...</td>\n",
       "      <td>Open ⋅ Closes 6PM</td>\n",
       "      <td>[0x80c2c78249aba68f:0x35bf16ce61be751d, 0x80c2...</td>\n",
       "      <td>https://www.google.com/maps/place//data=!4m2!3...</td>\n",
       "    </tr>\n",
       "    <tr>\n",
       "      <th>3</th>\n",
       "      <td>Nova Fabrics</td>\n",
       "      <td>Nova Fabrics, 2200 E 11th St, Los Angeles, CA ...</td>\n",
       "      <td>0x80c2c89923b27a41:0x32041559418d447</td>\n",
       "      <td>None</td>\n",
       "      <td>34.023669</td>\n",
       "      <td>-118.232930</td>\n",
       "      <td>[Fabric store]</td>\n",
       "      <td>3.3</td>\n",
       "      <td>6</td>\n",
       "      <td>None</td>\n",
       "      <td>[[Thursday, 9AM–5PM], [Friday, 9AM–5PM], [Satu...</td>\n",
       "      <td>{'Service options': ['In-store shopping'], 'Pa...</td>\n",
       "      <td>Open ⋅ Closes 5PM</td>\n",
       "      <td>[0x80c2c8811477253f:0x23a8a492df1918f7, 0x80c2...</td>\n",
       "      <td>https://www.google.com/maps/place//data=!4m2!3...</td>\n",
       "    </tr>\n",
       "    <tr>\n",
       "      <th>4</th>\n",
       "      <td>Nobel Textile Co</td>\n",
       "      <td>Nobel Textile Co, 719 E 9th St, Los Angeles, C...</td>\n",
       "      <td>0x80c2c632f933b073:0xc31785961fe826a6</td>\n",
       "      <td>None</td>\n",
       "      <td>34.036694</td>\n",
       "      <td>-118.249421</td>\n",
       "      <td>[Fabric store]</td>\n",
       "      <td>4.3</td>\n",
       "      <td>7</td>\n",
       "      <td>None</td>\n",
       "      <td>[[Thursday, 9AM–5PM], [Friday, 9AM–5PM], [Satu...</td>\n",
       "      <td>{'Service options': ['In-store pickup']}</td>\n",
       "      <td>Open ⋅ Closes 5PM</td>\n",
       "      <td>[0x80c2c62c496083d1:0xdefa11317fe870a1, 0x80c2...</td>\n",
       "      <td>https://www.google.com/maps/place//data=!4m2!3...</td>\n",
       "    </tr>\n",
       "  </tbody>\n",
       "</table>\n",
       "</div>"
      ],
      "text/plain": [
       "               name                                            address  \\\n",
       "0   Porter Pharmacy  Porter Pharmacy, 129 N Second St, Cochran, GA ...   \n",
       "1      City Textile  City Textile, 3001 E Pico Blvd, Los Angeles, C...   \n",
       "2      San Soo Dang  San Soo Dang, 761 S Vermont Ave, Los Angeles, ...   \n",
       "3      Nova Fabrics  Nova Fabrics, 2200 E 11th St, Los Angeles, CA ...   \n",
       "4  Nobel Textile Co  Nobel Textile Co, 719 E 9th St, Los Angeles, C...   \n",
       "\n",
       "                                 gmap_id description   latitude   longitude  \\\n",
       "0  0x88f16e41928ff687:0x883dad4fd048e8f8        None  32.388300  -83.357100   \n",
       "1  0x80c2c98c0e3c16fd:0x29ec8a728764fdf9        None  34.018891 -118.215290   \n",
       "2  0x80c2c778e3b73d33:0xbdc58662a4a97d49        None  34.058092 -118.292130   \n",
       "3   0x80c2c89923b27a41:0x32041559418d447        None  34.023669 -118.232930   \n",
       "4  0x80c2c632f933b073:0xc31785961fe826a6        None  34.036694 -118.249421   \n",
       "\n",
       "              category  avg_rating  num_of_reviews price  \\\n",
       "0           [Pharmacy]         4.9              16  None   \n",
       "1   [Textile exporter]         4.5               6  None   \n",
       "2  [Korean restaurant]         4.4              18  None   \n",
       "3       [Fabric store]         3.3               6  None   \n",
       "4       [Fabric store]         4.3               7  None   \n",
       "\n",
       "                                               hours  \\\n",
       "0  [[Friday, 8AM–6PM], [Saturday, 8AM–12PM], [Sun...   \n",
       "1                                               None   \n",
       "2  [[Thursday, 6:30AM–6PM], [Friday, 6:30AM–6PM],...   \n",
       "3  [[Thursday, 9AM–5PM], [Friday, 9AM–5PM], [Satu...   \n",
       "4  [[Thursday, 9AM–5PM], [Friday, 9AM–5PM], [Satu...   \n",
       "\n",
       "                                                MISC              state  \\\n",
       "0  {'Service options': ['In-store shopping', 'Sam...  Open ⋅ Closes 6PM   \n",
       "1                                               None           Open now   \n",
       "2  {'Service options': ['Takeout', 'Dine-in', 'De...  Open ⋅ Closes 6PM   \n",
       "3  {'Service options': ['In-store shopping'], 'Pa...  Open ⋅ Closes 5PM   \n",
       "4           {'Service options': ['In-store pickup']}  Open ⋅ Closes 5PM   \n",
       "\n",
       "                                    relative_results  \\\n",
       "0  [0x88f16e41929435cf:0x5b2532a2885e9ef6, 0x88f1...   \n",
       "1  [0x80c2c624136ea88b:0xb0315367ed448771, 0x80c2...   \n",
       "2  [0x80c2c78249aba68f:0x35bf16ce61be751d, 0x80c2...   \n",
       "3  [0x80c2c8811477253f:0x23a8a492df1918f7, 0x80c2...   \n",
       "4  [0x80c2c62c496083d1:0xdefa11317fe870a1, 0x80c2...   \n",
       "\n",
       "                                                 url  \n",
       "0  https://www.google.com/maps/place//data=!4m2!3...  \n",
       "1  https://www.google.com/maps/place//data=!4m2!3...  \n",
       "2  https://www.google.com/maps/place//data=!4m2!3...  \n",
       "3  https://www.google.com/maps/place//data=!4m2!3...  \n",
       "4  https://www.google.com/maps/place//data=!4m2!3...  "
      ]
     },
     "execution_count": 2,
     "metadata": {},
     "output_type": "execute_result"
    }
   ],
   "source": [
    "df_1 = pd.read_json(r'C:\\Users\\flori\\Desktop\\LOCAL\\GOOGLE\\Google Maps\\metadata-sitios\\1.json', lines= True)\n",
    "df_1.head()\n"
   ]
  },
  {
   "cell_type": "code",
   "execution_count": 3,
   "metadata": {},
   "outputs": [],
   "source": [
    "df_2 = pd.read_json(r'C:\\Users\\flori\\Desktop\\LOCAL\\GOOGLE\\Google Maps\\metadata-sitios\\2.json', lines= True)\n",
    "df_3 = pd.read_json(r'C:\\Users\\flori\\Desktop\\LOCAL\\GOOGLE\\Google Maps\\metadata-sitios\\3.json', lines= True)\n",
    "df_4 = pd.read_json(r'C:\\Users\\flori\\Desktop\\LOCAL\\GOOGLE\\Google Maps\\metadata-sitios\\4.json', lines= True)\n",
    "df_5 = pd.read_json(r'C:\\Users\\flori\\Desktop\\LOCAL\\GOOGLE\\Google Maps\\metadata-sitios\\5.json', lines= True)\n",
    "df_6 = pd.read_json(r'C:\\Users\\flori\\Desktop\\LOCAL\\GOOGLE\\Google Maps\\metadata-sitios\\6.json', lines= True)\n",
    "df_7 = pd.read_json(r'C:\\Users\\flori\\Desktop\\LOCAL\\GOOGLE\\Google Maps\\metadata-sitios\\7.json', lines= True)\n",
    "df_8 = pd.read_json(r'C:\\Users\\flori\\Desktop\\LOCAL\\GOOGLE\\Google Maps\\metadata-sitios\\8.json', lines= True)\n",
    "df_9 = pd.read_json(r'C:\\Users\\flori\\Desktop\\LOCAL\\GOOGLE\\Google Maps\\metadata-sitios\\9.json', lines= True)\n",
    "df_10 = pd.read_json(r'C:\\Users\\flori\\Desktop\\LOCAL\\GOOGLE\\Google Maps\\metadata-sitios\\10.json', lines= True)\n",
    "df_11 = pd.read_json(r'C:\\Users\\flori\\Desktop\\LOCAL\\GOOGLE\\Google Maps\\metadata-sitios\\11.json', lines= True)\n"
   ]
  },
  {
   "cell_type": "code",
   "execution_count": 4,
   "metadata": {},
   "outputs": [],
   "source": [
    "dfs = []\n",
    "\n",
    "\n",
    "for i in range(1, 12):\n",
    "    \n",
    "    df = globals()[f'df_{i}']\n",
    "    dfs.append(df)\n",
    "\n",
    "\n",
    "merged_df = pd.concat(dfs, ignore_index=True)"
   ]
  },
  {
   "cell_type": "code",
   "execution_count": 6,
   "metadata": {},
   "outputs": [
    {
     "data": {
      "text/html": [
       "<div>\n",
       "<style scoped>\n",
       "    .dataframe tbody tr th:only-of-type {\n",
       "        vertical-align: middle;\n",
       "    }\n",
       "\n",
       "    .dataframe tbody tr th {\n",
       "        vertical-align: top;\n",
       "    }\n",
       "\n",
       "    .dataframe thead th {\n",
       "        text-align: right;\n",
       "    }\n",
       "</style>\n",
       "<table border=\"1\" class=\"dataframe\">\n",
       "  <thead>\n",
       "    <tr style=\"text-align: right;\">\n",
       "      <th></th>\n",
       "      <th>Nro nulos</th>\n",
       "      <th>Porcentaje de nulos</th>\n",
       "    </tr>\n",
       "  </thead>\n",
       "  <tbody>\n",
       "    <tr>\n",
       "      <th>description</th>\n",
       "      <td>2770722</td>\n",
       "      <td>91.59</td>\n",
       "    </tr>\n",
       "    <tr>\n",
       "      <th>price</th>\n",
       "      <td>2749808</td>\n",
       "      <td>90.90</td>\n",
       "    </tr>\n",
       "    <tr>\n",
       "      <th>hours</th>\n",
       "      <td>787405</td>\n",
       "      <td>26.03</td>\n",
       "    </tr>\n",
       "    <tr>\n",
       "      <th>state</th>\n",
       "      <td>746455</td>\n",
       "      <td>24.68</td>\n",
       "    </tr>\n",
       "    <tr>\n",
       "      <th>MISC</th>\n",
       "      <td>690834</td>\n",
       "      <td>22.84</td>\n",
       "    </tr>\n",
       "    <tr>\n",
       "      <th>relative_results</th>\n",
       "      <td>295058</td>\n",
       "      <td>9.75</td>\n",
       "    </tr>\n",
       "    <tr>\n",
       "      <th>address</th>\n",
       "      <td>80511</td>\n",
       "      <td>2.66</td>\n",
       "    </tr>\n",
       "    <tr>\n",
       "      <th>category</th>\n",
       "      <td>17419</td>\n",
       "      <td>0.58</td>\n",
       "    </tr>\n",
       "    <tr>\n",
       "      <th>name</th>\n",
       "      <td>37</td>\n",
       "      <td>0.00</td>\n",
       "    </tr>\n",
       "    <tr>\n",
       "      <th>gmap_id</th>\n",
       "      <td>0</td>\n",
       "      <td>0.00</td>\n",
       "    </tr>\n",
       "    <tr>\n",
       "      <th>latitude</th>\n",
       "      <td>0</td>\n",
       "      <td>0.00</td>\n",
       "    </tr>\n",
       "    <tr>\n",
       "      <th>longitude</th>\n",
       "      <td>0</td>\n",
       "      <td>0.00</td>\n",
       "    </tr>\n",
       "    <tr>\n",
       "      <th>avg_rating</th>\n",
       "      <td>0</td>\n",
       "      <td>0.00</td>\n",
       "    </tr>\n",
       "    <tr>\n",
       "      <th>num_of_reviews</th>\n",
       "      <td>0</td>\n",
       "      <td>0.00</td>\n",
       "    </tr>\n",
       "    <tr>\n",
       "      <th>url</th>\n",
       "      <td>0</td>\n",
       "      <td>0.00</td>\n",
       "    </tr>\n",
       "  </tbody>\n",
       "</table>\n",
       "</div>"
      ],
      "text/plain": [
       "                  Nro nulos  Porcentaje de nulos\n",
       "description         2770722                91.59\n",
       "price               2749808                90.90\n",
       "hours                787405                26.03\n",
       "state                746455                24.68\n",
       "MISC                 690834                22.84\n",
       "relative_results     295058                 9.75\n",
       "address               80511                 2.66\n",
       "category              17419                 0.58\n",
       "name                     37                 0.00\n",
       "gmap_id                   0                 0.00\n",
       "latitude                  0                 0.00\n",
       "longitude                 0                 0.00\n",
       "avg_rating                0                 0.00\n",
       "num_of_reviews            0                 0.00\n",
       "url                       0                 0.00"
      ]
     },
     "execution_count": 6,
     "metadata": {},
     "output_type": "execute_result"
    }
   ],
   "source": [
    "# Checkeo de nulos y su porcentaje\n",
    "\n",
    "nulls_FL = pd.DataFrame(merged_df.isnull().sum().sort_values(ascending = False))\n",
    "nulls_FL[\"Porcentaje de nulos\"] = round(nulls_FL/merged_df.shape[0]*100,2)\n",
    "nulls_FL.rename(columns = {0:\"Nro nulos\"})"
   ]
  },
  {
   "cell_type": "code",
   "execution_count": 7,
   "metadata": {},
   "outputs": [],
   "source": [
    "#elimino las columnas que tienen mas de 85% de nulos\n",
    "columnas= ['description','price']\n",
    "merged_df= merged_df.drop(columns=columnas)"
   ]
  },
  {
   "cell_type": "code",
   "execution_count": 8,
   "metadata": {},
   "outputs": [
    {
     "data": {
      "text/plain": [
       "(3025011, 13)"
      ]
     },
     "execution_count": 8,
     "metadata": {},
     "output_type": "execute_result"
    }
   ],
   "source": [
    "merged_df.shape "
   ]
  },
  {
   "cell_type": "markdown",
   "metadata": {},
   "source": [
    "La union de todos los archivos de la carpeta metadata la pongo en un csv y lo copio en o tra carpeta para no acargarlo al github"
   ]
  },
  {
   "cell_type": "code",
   "execution_count": 9,
   "metadata": {},
   "outputs": [],
   "source": [
    "\n",
    "# merged_df.to_csv('Metadata.csv', index=False, escapechar='\\\\')\n"
   ]
  },
  {
   "cell_type": "code",
   "execution_count": 2,
   "metadata": {},
   "outputs": [
    {
     "data": {
      "text/html": [
       "<div>\n",
       "<style scoped>\n",
       "    .dataframe tbody tr th:only-of-type {\n",
       "        vertical-align: middle;\n",
       "    }\n",
       "\n",
       "    .dataframe tbody tr th {\n",
       "        vertical-align: top;\n",
       "    }\n",
       "\n",
       "    .dataframe thead th {\n",
       "        text-align: right;\n",
       "    }\n",
       "</style>\n",
       "<table border=\"1\" class=\"dataframe\">\n",
       "  <thead>\n",
       "    <tr style=\"text-align: right;\">\n",
       "      <th></th>\n",
       "      <th>name</th>\n",
       "      <th>address</th>\n",
       "      <th>gmap_id</th>\n",
       "      <th>latitude</th>\n",
       "      <th>longitude</th>\n",
       "      <th>category</th>\n",
       "      <th>avg_rating</th>\n",
       "      <th>num_of_reviews</th>\n",
       "      <th>hours</th>\n",
       "      <th>MISC</th>\n",
       "      <th>state</th>\n",
       "      <th>relative_results</th>\n",
       "      <th>url</th>\n",
       "    </tr>\n",
       "  </thead>\n",
       "  <tbody>\n",
       "    <tr>\n",
       "      <th>0</th>\n",
       "      <td>Porter Pharmacy</td>\n",
       "      <td>Porter Pharmacy, 129 N Second St, Cochran, GA ...</td>\n",
       "      <td>0x88f16e41928ff687:0x883dad4fd048e8f8</td>\n",
       "      <td>32.388300</td>\n",
       "      <td>-83.357100</td>\n",
       "      <td>['Pharmacy']</td>\n",
       "      <td>4.9</td>\n",
       "      <td>16</td>\n",
       "      <td>[['Friday', '8AM–6PM'], ['Saturday', '8AM–12PM...</td>\n",
       "      <td>{'Service options': ['In-store shopping', 'Sam...</td>\n",
       "      <td>Open ⋅ Closes 6PM</td>\n",
       "      <td>['0x88f16e41929435cf:0x5b2532a2885e9ef6', '0x8...</td>\n",
       "      <td>https://www.google.com/maps/place//data=!4m2!3...</td>\n",
       "    </tr>\n",
       "    <tr>\n",
       "      <th>1</th>\n",
       "      <td>City Textile</td>\n",
       "      <td>City Textile, 3001 E Pico Blvd, Los Angeles, C...</td>\n",
       "      <td>0x80c2c98c0e3c16fd:0x29ec8a728764fdf9</td>\n",
       "      <td>34.018891</td>\n",
       "      <td>-118.215290</td>\n",
       "      <td>['Textile exporter']</td>\n",
       "      <td>4.5</td>\n",
       "      <td>6</td>\n",
       "      <td>NaN</td>\n",
       "      <td>NaN</td>\n",
       "      <td>Open now</td>\n",
       "      <td>['0x80c2c624136ea88b:0xb0315367ed448771', '0x8...</td>\n",
       "      <td>https://www.google.com/maps/place//data=!4m2!3...</td>\n",
       "    </tr>\n",
       "    <tr>\n",
       "      <th>2</th>\n",
       "      <td>San Soo Dang</td>\n",
       "      <td>San Soo Dang, 761 S Vermont Ave, Los Angeles, ...</td>\n",
       "      <td>0x80c2c778e3b73d33:0xbdc58662a4a97d49</td>\n",
       "      <td>34.058092</td>\n",
       "      <td>-118.292130</td>\n",
       "      <td>['Korean restaurant']</td>\n",
       "      <td>4.4</td>\n",
       "      <td>18</td>\n",
       "      <td>[['Thursday', '6:30AM–6PM'], ['Friday', '6:30A...</td>\n",
       "      <td>{'Service options': ['Takeout', 'Dine-in', 'De...</td>\n",
       "      <td>Open ⋅ Closes 6PM</td>\n",
       "      <td>['0x80c2c78249aba68f:0x35bf16ce61be751d', '0x8...</td>\n",
       "      <td>https://www.google.com/maps/place//data=!4m2!3...</td>\n",
       "    </tr>\n",
       "    <tr>\n",
       "      <th>3</th>\n",
       "      <td>Nova Fabrics</td>\n",
       "      <td>Nova Fabrics, 2200 E 11th St, Los Angeles, CA ...</td>\n",
       "      <td>0x80c2c89923b27a41:0x32041559418d447</td>\n",
       "      <td>34.023669</td>\n",
       "      <td>-118.232930</td>\n",
       "      <td>['Fabric store']</td>\n",
       "      <td>3.3</td>\n",
       "      <td>6</td>\n",
       "      <td>[['Thursday', '9AM–5PM'], ['Friday', '9AM–5PM'...</td>\n",
       "      <td>{'Service options': ['In-store shopping'], 'Pa...</td>\n",
       "      <td>Open ⋅ Closes 5PM</td>\n",
       "      <td>['0x80c2c8811477253f:0x23a8a492df1918f7', '0x8...</td>\n",
       "      <td>https://www.google.com/maps/place//data=!4m2!3...</td>\n",
       "    </tr>\n",
       "    <tr>\n",
       "      <th>4</th>\n",
       "      <td>Nobel Textile Co</td>\n",
       "      <td>Nobel Textile Co, 719 E 9th St, Los Angeles, C...</td>\n",
       "      <td>0x80c2c632f933b073:0xc31785961fe826a6</td>\n",
       "      <td>34.036694</td>\n",
       "      <td>-118.249421</td>\n",
       "      <td>['Fabric store']</td>\n",
       "      <td>4.3</td>\n",
       "      <td>7</td>\n",
       "      <td>[['Thursday', '9AM–5PM'], ['Friday', '9AM–5PM'...</td>\n",
       "      <td>{'Service options': ['In-store pickup']}</td>\n",
       "      <td>Open ⋅ Closes 5PM</td>\n",
       "      <td>['0x80c2c62c496083d1:0xdefa11317fe870a1', '0x8...</td>\n",
       "      <td>https://www.google.com/maps/place//data=!4m2!3...</td>\n",
       "    </tr>\n",
       "  </tbody>\n",
       "</table>\n",
       "</div>"
      ],
      "text/plain": [
       "               name                                            address  \\\n",
       "0   Porter Pharmacy  Porter Pharmacy, 129 N Second St, Cochran, GA ...   \n",
       "1      City Textile  City Textile, 3001 E Pico Blvd, Los Angeles, C...   \n",
       "2      San Soo Dang  San Soo Dang, 761 S Vermont Ave, Los Angeles, ...   \n",
       "3      Nova Fabrics  Nova Fabrics, 2200 E 11th St, Los Angeles, CA ...   \n",
       "4  Nobel Textile Co  Nobel Textile Co, 719 E 9th St, Los Angeles, C...   \n",
       "\n",
       "                                 gmap_id   latitude   longitude  \\\n",
       "0  0x88f16e41928ff687:0x883dad4fd048e8f8  32.388300  -83.357100   \n",
       "1  0x80c2c98c0e3c16fd:0x29ec8a728764fdf9  34.018891 -118.215290   \n",
       "2  0x80c2c778e3b73d33:0xbdc58662a4a97d49  34.058092 -118.292130   \n",
       "3   0x80c2c89923b27a41:0x32041559418d447  34.023669 -118.232930   \n",
       "4  0x80c2c632f933b073:0xc31785961fe826a6  34.036694 -118.249421   \n",
       "\n",
       "                category  avg_rating  num_of_reviews  \\\n",
       "0           ['Pharmacy']         4.9              16   \n",
       "1   ['Textile exporter']         4.5               6   \n",
       "2  ['Korean restaurant']         4.4              18   \n",
       "3       ['Fabric store']         3.3               6   \n",
       "4       ['Fabric store']         4.3               7   \n",
       "\n",
       "                                               hours  \\\n",
       "0  [['Friday', '8AM–6PM'], ['Saturday', '8AM–12PM...   \n",
       "1                                                NaN   \n",
       "2  [['Thursday', '6:30AM–6PM'], ['Friday', '6:30A...   \n",
       "3  [['Thursday', '9AM–5PM'], ['Friday', '9AM–5PM'...   \n",
       "4  [['Thursday', '9AM–5PM'], ['Friday', '9AM–5PM'...   \n",
       "\n",
       "                                                MISC              state  \\\n",
       "0  {'Service options': ['In-store shopping', 'Sam...  Open ⋅ Closes 6PM   \n",
       "1                                                NaN           Open now   \n",
       "2  {'Service options': ['Takeout', 'Dine-in', 'De...  Open ⋅ Closes 6PM   \n",
       "3  {'Service options': ['In-store shopping'], 'Pa...  Open ⋅ Closes 5PM   \n",
       "4           {'Service options': ['In-store pickup']}  Open ⋅ Closes 5PM   \n",
       "\n",
       "                                    relative_results  \\\n",
       "0  ['0x88f16e41929435cf:0x5b2532a2885e9ef6', '0x8...   \n",
       "1  ['0x80c2c624136ea88b:0xb0315367ed448771', '0x8...   \n",
       "2  ['0x80c2c78249aba68f:0x35bf16ce61be751d', '0x8...   \n",
       "3  ['0x80c2c8811477253f:0x23a8a492df1918f7', '0x8...   \n",
       "4  ['0x80c2c62c496083d1:0xdefa11317fe870a1', '0x8...   \n",
       "\n",
       "                                                 url  \n",
       "0  https://www.google.com/maps/place//data=!4m2!3...  \n",
       "1  https://www.google.com/maps/place//data=!4m2!3...  \n",
       "2  https://www.google.com/maps/place//data=!4m2!3...  \n",
       "3  https://www.google.com/maps/place//data=!4m2!3...  \n",
       "4  https://www.google.com/maps/place//data=!4m2!3...  "
      ]
     },
     "execution_count": 2,
     "metadata": {},
     "output_type": "execute_result"
    }
   ],
   "source": [
    "metadata= pd.read_csv(r'C:\\Users\\flori\\Desktop\\LOCAL\\Metadata.csv')\n",
    "metadata.head()"
   ]
  },
  {
   "cell_type": "code",
   "execution_count": 3,
   "metadata": {},
   "outputs": [
    {
     "data": {
      "text/plain": [
       "(3025011, 13)"
      ]
     },
     "execution_count": 3,
     "metadata": {},
     "output_type": "execute_result"
    }
   ],
   "source": [
    "metadata.shape"
   ]
  },
  {
   "cell_type": "code",
   "execution_count": 4,
   "metadata": {},
   "outputs": [
    {
     "data": {
      "text/plain": [
       "Index(['name', 'address', 'gmap_id', 'latitude', 'longitude', 'category',\n",
       "       'avg_rating', 'num_of_reviews', 'hours', 'MISC', 'state',\n",
       "       'relative_results', 'url'],\n",
       "      dtype='object')"
      ]
     },
     "execution_count": 4,
     "metadata": {},
     "output_type": "execute_result"
    }
   ],
   "source": [
    "metadata.columns"
   ]
  },
  {
   "cell_type": "code",
   "execution_count": 5,
   "metadata": {},
   "outputs": [
    {
     "name": "stdout",
     "output_type": "stream",
     "text": [
      "<class 'pandas.core.frame.DataFrame'>\n",
      "RangeIndex: 3025011 entries, 0 to 3025010\n",
      "Data columns (total 13 columns):\n",
      " #   Column            Dtype  \n",
      "---  ------            -----  \n",
      " 0   name              object \n",
      " 1   address           object \n",
      " 2   gmap_id           object \n",
      " 3   latitude          float64\n",
      " 4   longitude         float64\n",
      " 5   category          object \n",
      " 6   avg_rating        float64\n",
      " 7   num_of_reviews    int64  \n",
      " 8   hours             object \n",
      " 9   MISC              object \n",
      " 10  state             object \n",
      " 11  relative_results  object \n",
      " 12  url               object \n",
      "dtypes: float64(3), int64(1), object(9)\n",
      "memory usage: 300.0+ MB\n"
     ]
    }
   ],
   "source": [
    "metadata.info()"
   ]
  },
  {
   "cell_type": "code",
   "execution_count": 6,
   "metadata": {},
   "outputs": [
    {
     "data": {
      "text/plain": [
       "17419"
      ]
     },
     "execution_count": 6,
     "metadata": {},
     "output_type": "execute_result"
    }
   ],
   "source": [
    "metadata.category.isna().sum()"
   ]
  },
  {
   "cell_type": "code",
   "execution_count": 8,
   "metadata": {},
   "outputs": [],
   "source": [
    "metadata['category'].fillna(\"\", inplace=True)"
   ]
  },
  {
   "cell_type": "code",
   "execution_count": 23,
   "metadata": {},
   "outputs": [
    {
     "data": {
      "text/plain": [
       "array([\"['Pharmacy']\", \"['Textile exporter']\", \"['Korean restaurant']\",\n",
       "       ..., \"['Travellers lodge', 'Tour agency']\",\n",
       "       \"['Deli', 'Coffee shop', 'Takeout Restaurant', 'Sandwich shop']\",\n",
       "       \"['Truck dealer', 'Car dealer', 'Car repair and maintenance', 'RV repair shop', 'Truck repair shop']\"],\n",
       "      dtype=object)"
      ]
     },
     "execution_count": 23,
     "metadata": {},
     "output_type": "execute_result"
    }
   ],
   "source": [
    "metadata['category'].unique()"
   ]
  },
  {
   "cell_type": "code",
   "execution_count": 17,
   "metadata": {},
   "outputs": [],
   "source": [
    "masreviewa= metadata[['num_of_reviews', 'name']]\n",
    "orden=masreviewa.sort_values(ascending=False, by='num_of_reviews')\n",
    "top20=orden.head(30)"
   ]
  },
  {
   "cell_type": "code",
   "execution_count": 18,
   "metadata": {},
   "outputs": [
    {
     "data": {
      "image/png": "[encoded data removed]",
      "text/plain": [
       "<Figure size 1000x600 with 1 Axes>"
      ]
     },
     "metadata": {},
     "output_type": "display_data"
    }
   ],
   "source": [
    "#Grafico los resultados de las 20 peliculas mas populares dentro del dataset\n",
    "plt.figure(figsize=(10, 6))\n",
    "plt.barh(top20['name'], top20['num_of_reviews'], color='blue')\n",
    "plt.xlabel('Número de reseñas')\n",
    "plt.ylabel('Nombres')\n",
    "plt.title('Lugares turisticos con mas reseñas')\n",
    "plt.show()"
   ]
  },
  {
   "cell_type": "code",
   "execution_count": 19,
   "metadata": {},
   "outputs": [],
   "source": [
    "cate= metadata[['category','name']].groupby('category').count()\n",
    "cate_sorted= cate.sort_values(ascending=False, by='name')\n",
    "cate_sorted10=cate_sorted.head(10)"
   ]
  },
  {
   "cell_type": "code",
   "execution_count": 21,
   "metadata": {},
   "outputs": [
    {
     "data": {
      "image/png": "[encoded data removed]",
      "text/plain": [
       "<Figure size 1000x600 with 1 Axes>"
      ]
     },
     "metadata": {},
     "output_type": "display_data"
    }
   ],
   "source": [
    "plt.figure(figsize=(10, 6))\n",
    "plt.barh(cate_sorted10.index, cate_sorted10['name'], color='skyblue')\n",
    "plt.xlabel('Cantidad de lugares')\n",
    "plt.ylabel('Categoria')\n",
    "plt.title('Top 10 categorias mas frecuentes')\n",
    "plt.show()"
   ]
  },
  {
   "cell_type": "code",
   "execution_count": 25,
   "metadata": {},
   "outputs": [
    {
     "data": {
      "text/plain": [
       "(-1.099999268531531,\n",
       " 1.0999998975855343,\n",
       " -1.099999717826094,\n",
       " 1.0999999725032714)"
      ]
     },
     "execution_count": 25,
     "metadata": {},
     "output_type": "execute_result"
    },
    {
     "data": {
      "image/png": "[encoded data removed]",
      "text/plain": [
       "<Figure size 800x800 with 1 Axes>"
      ]
     },
     "metadata": {},
     "output_type": "display_data"
    }
   ],
   "source": [
    "plt.figure(figsize=(8, 8))\n",
    "plt.pie(cate_sorted10['name'], labels=cate_sorted10.index, autopct='%1.1f%%', startangle=140)\n",
    "plt.title('Distribución de lugares por categorias')\n",
    "plt.axis('equal') "
   ]
  },
  {
   "cell_type": "code",
   "execution_count": 27,
   "metadata": {},
   "outputs": [
    {
     "data": {
      "text/plain": [
       "-40.9293076"
      ]
     },
     "execution_count": 27,
     "metadata": {},
     "output_type": "execute_result"
    }
   ],
   "source": [
    "metadata['latitude'].min()"
   ]
  },
  {
   "cell_type": "code",
   "execution_count": 28,
   "metadata": {},
   "outputs": [
    {
     "data": {
      "text/plain": [
       "87.8565179"
      ]
     },
     "execution_count": 28,
     "metadata": {},
     "output_type": "execute_result"
    }
   ],
   "source": [
    "metadata['latitude'].max()"
   ]
  },
  {
   "cell_type": "code",
   "execution_count": 29,
   "metadata": {},
   "outputs": [
    {
     "data": {
      "text/plain": [
       "-178.80707619999998"
      ]
     },
     "execution_count": 29,
     "metadata": {},
     "output_type": "execute_result"
    }
   ],
   "source": [
    "metadata['longitude'].min()"
   ]
  },
  {
   "cell_type": "code",
   "execution_count": 30,
   "metadata": {},
   "outputs": [
    {
     "data": {
      "text/plain": [
       "180.0"
      ]
     },
     "execution_count": 30,
     "metadata": {},
     "output_type": "execute_result"
    }
   ],
   "source": [
    "metadata['longitude'].max()"
   ]
  },
  {
   "cell_type": "code",
   "execution_count": 34,
   "metadata": {},
   "outputs": [
    {
     "data": {
      "text/plain": [
       "array(['Porter Pharmacy, 129 N Second St, Cochran, GA 31014',\n",
       "       'City Textile, 3001 E Pico Blvd, Los Angeles, CA 90023',\n",
       "       'San Soo Dang, 761 S Vermont Ave, Los Angeles, CA 90005', ...,\n",
       "       'Central Ny Spay Neuter Assista, 17 Salisbury St, Cortland, NY 13045',\n",
       "       'Ok Feed Store, 16300 SW 296th St, Homestead, FL 33033',\n",
       "       'Crestview Crossing, Newberg, OR 97132'], dtype=object)"
      ]
     },
     "execution_count": 34,
     "metadata": {},
     "output_type": "execute_result"
    }
   ],
   "source": [
    "unique_addresses= metadata['address'].unique()"
   ]
  },
  {
   "cell_type": "code",
   "execution_count": 36,
   "metadata": {},
   "outputs": [],
   "source": [
    "unique_addresses = metadata.drop_duplicates(subset='address', keep='first')"
   ]
  },
  {
   "cell_type": "code",
   "execution_count": 39,
   "metadata": {},
   "outputs": [
    {
     "ename": "MemoryError",
     "evalue": "",
     "output_type": "error",
     "traceback": [
      "\u001b[1;31m---------------------------------------------------------------------------\u001b[0m",
      "\u001b[1;31mMemoryError\u001b[0m                               Traceback (most recent call last)",
      "\u001b[1;32mc:\\Users\\flori\\Desktop\\Proyecto_Final\\Sprint 2\\EDA\\EDAmetadata.ipynb Cell 30\u001b[0m line \u001b[0;36m6\n\u001b[0;32m      <a href='vscode-notebook-cell:/c%3A/Users/flori/Desktop/Proyecto_Final/Sprint%202/EDA/EDAmetadata.ipynb#X63sZmlsZQ%3D%3D?line=1'>2</a>\u001b[0m m1 \u001b[39m=\u001b[39m folium\u001b[39m.\u001b[39mMap(location\u001b[39m=\u001b[39m[\u001b[39m87.8565179\u001b[39m, \u001b[39m-\u001b[39m\u001b[39m178.80707619999998\u001b[39m] ,zoom_start\u001b[39m=\u001b[39m\u001b[39m6\u001b[39m)\n\u001b[0;32m      <a href='vscode-notebook-cell:/c%3A/Users/flori/Desktop/Proyecto_Final/Sprint%202/EDA/EDAmetadata.ipynb#X63sZmlsZQ%3D%3D?line=4'>5</a>\u001b[0m \u001b[39m# Agrego cada punto del dataframe al mapa\u001b[39;00m\n\u001b[1;32m----> <a href='vscode-notebook-cell:/c%3A/Users/flori/Desktop/Proyecto_Final/Sprint%202/EDA/EDAmetadata.ipynb#X63sZmlsZQ%3D%3D?line=5'>6</a>\u001b[0m \u001b[39mfor\u001b[39;00m _, row \u001b[39min\u001b[39;00m unique_addresses\u001b[39m.\u001b[39miterrows():\n\u001b[0;32m      <a href='vscode-notebook-cell:/c%3A/Users/flori/Desktop/Proyecto_Final/Sprint%202/EDA/EDAmetadata.ipynb#X63sZmlsZQ%3D%3D?line=6'>7</a>\u001b[0m     folium\u001b[39m.\u001b[39mCircleMarker(\n\u001b[0;32m      <a href='vscode-notebook-cell:/c%3A/Users/flori/Desktop/Proyecto_Final/Sprint%202/EDA/EDAmetadata.ipynb#X63sZmlsZQ%3D%3D?line=7'>8</a>\u001b[0m         location\u001b[39m=\u001b[39m[row[\u001b[39m'\u001b[39m\u001b[39mlatitude\u001b[39m\u001b[39m'\u001b[39m], row[\u001b[39m'\u001b[39m\u001b[39mlongitude\u001b[39m\u001b[39m'\u001b[39m]],\n\u001b[0;32m      <a href='vscode-notebook-cell:/c%3A/Users/flori/Desktop/Proyecto_Final/Sprint%202/EDA/EDAmetadata.ipynb#X63sZmlsZQ%3D%3D?line=8'>9</a>\u001b[0m         radius\u001b[39m=\u001b[39m\u001b[39m3\u001b[39m,\n\u001b[1;32m   (...)\u001b[0m\n\u001b[0;32m     <a href='vscode-notebook-cell:/c%3A/Users/flori/Desktop/Proyecto_Final/Sprint%202/EDA/EDAmetadata.ipynb#X63sZmlsZQ%3D%3D?line=11'>12</a>\u001b[0m         fill_opacity\u001b[39m=\u001b[39m\u001b[39m0.6\u001b[39m\n\u001b[0;32m     <a href='vscode-notebook-cell:/c%3A/Users/flori/Desktop/Proyecto_Final/Sprint%202/EDA/EDAmetadata.ipynb#X63sZmlsZQ%3D%3D?line=12'>13</a>\u001b[0m     )\u001b[39m.\u001b[39madd_to(m1)\n\u001b[0;32m     <a href='vscode-notebook-cell:/c%3A/Users/flori/Desktop/Proyecto_Final/Sprint%202/EDA/EDAmetadata.ipynb#X63sZmlsZQ%3D%3D?line=14'>15</a>\u001b[0m \u001b[39m#tardo 5 minutos 24 segundos\u001b[39;00m\n",
      "File \u001b[1;32m~\\AppData\\Local\\Packages\\PythonSoftwareFoundation.Python.3.11_qbz5n2kfra8p0\\LocalCache\\local-packages\\Python311\\site-packages\\pandas\\core\\frame.py:1399\u001b[0m, in \u001b[0;36mDataFrame.iterrows\u001b[1;34m(self)\u001b[0m\n\u001b[0;32m   1397\u001b[0m klass \u001b[39m=\u001b[39m \u001b[39mself\u001b[39m\u001b[39m.\u001b[39m_constructor_sliced\n\u001b[0;32m   1398\u001b[0m using_cow \u001b[39m=\u001b[39m using_copy_on_write()\n\u001b[1;32m-> 1399\u001b[0m \u001b[39mfor\u001b[39;00m k, v \u001b[39min\u001b[39;00m \u001b[39mzip\u001b[39m(\u001b[39mself\u001b[39m\u001b[39m.\u001b[39mindex, \u001b[39mself\u001b[39;49m\u001b[39m.\u001b[39;49mvalues):\n\u001b[0;32m   1400\u001b[0m     s \u001b[39m=\u001b[39m klass(v, index\u001b[39m=\u001b[39mcolumns, name\u001b[39m=\u001b[39mk)\u001b[39m.\u001b[39m__finalize__(\u001b[39mself\u001b[39m)\n\u001b[0;32m   1401\u001b[0m     \u001b[39mif\u001b[39;00m using_cow \u001b[39mand\u001b[39;00m \u001b[39mself\u001b[39m\u001b[39m.\u001b[39m_mgr\u001b[39m.\u001b[39mis_single_block:\n",
      "File \u001b[1;32m~\\AppData\\Local\\Packages\\PythonSoftwareFoundation.Python.3.11_qbz5n2kfra8p0\\LocalCache\\local-packages\\Python311\\site-packages\\pandas\\core\\frame.py:11360\u001b[0m, in \u001b[0;36mDataFrame.values\u001b[1;34m(self)\u001b[0m\n\u001b[0;32m  11286\u001b[0m \u001b[39m@property\u001b[39m\n\u001b[0;32m  11287\u001b[0m \u001b[39mdef\u001b[39;00m \u001b[39mvalues\u001b[39m(\u001b[39mself\u001b[39m) \u001b[39m-\u001b[39m\u001b[39m>\u001b[39m np\u001b[39m.\u001b[39mndarray:\n\u001b[0;32m  11288\u001b[0m \u001b[39m    \u001b[39m\u001b[39m\"\"\"\u001b[39;00m\n\u001b[0;32m  11289\u001b[0m \u001b[39m    Return a Numpy representation of the DataFrame.\u001b[39;00m\n\u001b[0;32m  11290\u001b[0m \n\u001b[1;32m   (...)\u001b[0m\n\u001b[0;32m  11358\u001b[0m \u001b[39m           ['monkey', nan, None]], dtype=object)\u001b[39;00m\n\u001b[0;32m  11359\u001b[0m \u001b[39m    \"\"\"\u001b[39;00m\n\u001b[1;32m> 11360\u001b[0m     \u001b[39mreturn\u001b[39;00m \u001b[39mself\u001b[39;49m\u001b[39m.\u001b[39;49m_mgr\u001b[39m.\u001b[39;49mas_array()\n",
      "File \u001b[1;32m~\\AppData\\Local\\Packages\\PythonSoftwareFoundation.Python.3.11_qbz5n2kfra8p0\\LocalCache\\local-packages\\Python311\\site-packages\\pandas\\core\\internals\\managers.py:1732\u001b[0m, in \u001b[0;36mBlockManager.as_array\u001b[1;34m(self, dtype, copy, na_value)\u001b[0m\n\u001b[0;32m   1730\u001b[0m         arr\u001b[39m.\u001b[39mflags\u001b[39m.\u001b[39mwriteable \u001b[39m=\u001b[39m \u001b[39mFalse\u001b[39;00m\n\u001b[0;32m   1731\u001b[0m \u001b[39melse\u001b[39;00m:\n\u001b[1;32m-> 1732\u001b[0m     arr \u001b[39m=\u001b[39m \u001b[39mself\u001b[39;49m\u001b[39m.\u001b[39;49m_interleave(dtype\u001b[39m=\u001b[39;49mdtype, na_value\u001b[39m=\u001b[39;49mna_value)\n\u001b[0;32m   1733\u001b[0m     \u001b[39m# The underlying data was copied within _interleave, so no need\u001b[39;00m\n\u001b[0;32m   1734\u001b[0m     \u001b[39m# to further copy if copy=True or setting na_value\u001b[39;00m\n\u001b[0;32m   1736\u001b[0m \u001b[39mif\u001b[39;00m na_value \u001b[39mis\u001b[39;00m \u001b[39mnot\u001b[39;00m lib\u001b[39m.\u001b[39mno_default:\n",
      "File \u001b[1;32m~\\AppData\\Local\\Packages\\PythonSoftwareFoundation.Python.3.11_qbz5n2kfra8p0\\LocalCache\\local-packages\\Python311\\site-packages\\pandas\\core\\internals\\managers.py:1776\u001b[0m, in \u001b[0;36mBlockManager._interleave\u001b[1;34m(self, dtype, na_value)\u001b[0m\n\u001b[0;32m   1774\u001b[0m \u001b[39mfor\u001b[39;00m blk \u001b[39min\u001b[39;00m \u001b[39mself\u001b[39m\u001b[39m.\u001b[39mblocks:\n\u001b[0;32m   1775\u001b[0m     rl \u001b[39m=\u001b[39m blk\u001b[39m.\u001b[39mmgr_locs\n\u001b[1;32m-> 1776\u001b[0m     arr \u001b[39m=\u001b[39m blk\u001b[39m.\u001b[39;49mget_values(dtype)\n\u001b[0;32m   1777\u001b[0m     result[rl\u001b[39m.\u001b[39mindexer] \u001b[39m=\u001b[39m arr\n\u001b[0;32m   1778\u001b[0m     itemmask[rl\u001b[39m.\u001b[39mindexer] \u001b[39m=\u001b[39m \u001b[39m1\u001b[39m\n",
      "File \u001b[1;32m~\\AppData\\Local\\Packages\\PythonSoftwareFoundation.Python.3.11_qbz5n2kfra8p0\\LocalCache\\local-packages\\Python311\\site-packages\\pandas\\core\\internals\\blocks.py:2111\u001b[0m, in \u001b[0;36mNumpyBlock.get_values\u001b[1;34m(self, dtype)\u001b[0m\n\u001b[0;32m   2109\u001b[0m \u001b[39mdef\u001b[39;00m \u001b[39mget_values\u001b[39m(\u001b[39mself\u001b[39m, dtype: DtypeObj \u001b[39m|\u001b[39m \u001b[39mNone\u001b[39;00m \u001b[39m=\u001b[39m \u001b[39mNone\u001b[39;00m) \u001b[39m-\u001b[39m\u001b[39m>\u001b[39m np\u001b[39m.\u001b[39mndarray:\n\u001b[0;32m   2110\u001b[0m     \u001b[39mif\u001b[39;00m dtype \u001b[39m==\u001b[39m _dtype_obj:\n\u001b[1;32m-> 2111\u001b[0m         \u001b[39mreturn\u001b[39;00m \u001b[39mself\u001b[39;49m\u001b[39m.\u001b[39;49mvalues\u001b[39m.\u001b[39;49mastype(_dtype_obj)\n\u001b[0;32m   2112\u001b[0m     \u001b[39mreturn\u001b[39;00m \u001b[39mself\u001b[39m\u001b[39m.\u001b[39mvalues\n",
      "\u001b[1;31mMemoryError\u001b[0m: "
     ]
    }
   ],
   "source": [
    "# Crear mapa centrado en Florida\n",
    "m1 = folium.Map(location=[87.8565179, -178.80707619999998] ,zoom_start=6)\n",
    "\n",
    "\n",
    "# Agrego cada punto del dataframe al mapa\n",
    "for _, row in unique_addresses.iterrows():\n",
    "    folium.CircleMarker(\n",
    "        location=[row['latitude'], row['longitude']],\n",
    "        radius=3,\n",
    "        fill=True,\n",
    "        fill_color=\"blue\",\n",
    "        fill_opacity=0.6\n",
    "    ).add_to(m1)\n",
    "\n",
    "#tardo 5 minutos 24 segundos\n",
    "m1.save(\"mapa1.html\")"
   ]
  },
  {
   "cell_type": "code",
   "execution_count": null,
   "metadata": {},
   "outputs": [],
   "source": [
    "# Definicion de funcion para poder filtrar la categoria \"restaurant\"\n",
    "def contains_restaurant(category):\n",
    "    return re.search(r'restaurant', category, re.IGNORECASE) is not None\n",
    "\n",
    "# Mascara para poder aplicarle el filtro que queremos\n",
    "mask = metadata['category'].apply(contains_restaurant)\n",
    "\n",
    "\n",
    "filtered_df = metadata[mask]\n"
   ]
  },
  {
   "cell_type": "code",
   "execution_count": null,
   "metadata": {},
   "outputs": [
    {
     "data": {
      "text/plain": [
       "(1019821, 22)"
      ]
     },
     "execution_count": 45,
     "metadata": {},
     "output_type": "execute_result"
    }
   ],
   "source": [
    "filtered_df.shape"
   ]
  },
  {
   "cell_type": "code",
   "execution_count": null,
   "metadata": {},
   "outputs": [
    {
     "data": {
      "text/html": [
       "<div>\n",
       "<style scoped>\n",
       "    .dataframe tbody tr th:only-of-type {\n",
       "        vertical-align: middle;\n",
       "    }\n",
       "\n",
       "    .dataframe tbody tr th {\n",
       "        vertical-align: top;\n",
       "    }\n",
       "\n",
       "    .dataframe thead th {\n",
       "        text-align: right;\n",
       "    }\n",
       "</style>\n",
       "<table border=\"1\" class=\"dataframe\">\n",
       "  <thead>\n",
       "    <tr style=\"text-align: right;\">\n",
       "      <th></th>\n",
       "      <th>user_id</th>\n",
       "      <th>name_x</th>\n",
       "      <th>time</th>\n",
       "      <th>rating</th>\n",
       "      <th>text</th>\n",
       "      <th>pics</th>\n",
       "      <th>resp</th>\n",
       "      <th>gmap_id</th>\n",
       "      <th>name_y</th>\n",
       "      <th>address</th>\n",
       "      <th>...</th>\n",
       "      <th>category</th>\n",
       "      <th>avg_rating</th>\n",
       "      <th>num_of_reviews</th>\n",
       "      <th>price</th>\n",
       "      <th>hours</th>\n",
       "      <th>MISC</th>\n",
       "      <th>state</th>\n",
       "      <th>relative_results</th>\n",
       "      <th>url</th>\n",
       "      <th>geometry</th>\n",
       "    </tr>\n",
       "  </thead>\n",
       "  <tbody>\n",
       "    <tr>\n",
       "      <th>2056</th>\n",
       "      <td>1.130683e+20</td>\n",
       "      <td>Edwin Ashurst</td>\n",
       "      <td>1537195868022</td>\n",
       "      <td>5</td>\n",
       "      <td>The salads were lackluster though with well wr...</td>\n",
       "      <td>NaN</td>\n",
       "      <td>NaN</td>\n",
       "      <td>0x8894b5a7a7909725:0xe4687299fd288188</td>\n",
       "      <td>Gormley's on the river | Modern cuisine in his...</td>\n",
       "      <td>Gormley's on the river | Modern cuisine in his...</td>\n",
       "      <td>...</td>\n",
       "      <td>['Modern French restaurant', 'Restaurant']</td>\n",
       "      <td>4.3</td>\n",
       "      <td>17</td>\n",
       "      <td>NaN</td>\n",
       "      <td>[['Thursday', '5–9PM'], ['Friday', '5–10PM'], ...</td>\n",
       "      <td>{'Service options': ['Delivery']}</td>\n",
       "      <td>Permanently closed</td>\n",
       "      <td>['0x8894b5a649e1f5cb:0xe5ef826dc2f3842f', '0x8...</td>\n",
       "      <td>https://www.google.com/maps/place//data=!4m2!3...</td>\n",
       "      <td>POINT (-84.98153 29.72695)</td>\n",
       "    </tr>\n",
       "    <tr>\n",
       "      <th>2057</th>\n",
       "      <td>1.130683e+20</td>\n",
       "      <td>Edwin Ashurst</td>\n",
       "      <td>1537195868022</td>\n",
       "      <td>5</td>\n",
       "      <td>The salads were lackluster though with well wr...</td>\n",
       "      <td>NaN</td>\n",
       "      <td>NaN</td>\n",
       "      <td>0x8894b5a7a7909725:0xe4687299fd288188</td>\n",
       "      <td>Gormley's on the river | Modern cuisine in his...</td>\n",
       "      <td>Gormley's on the river | Modern cuisine in his...</td>\n",
       "      <td>...</td>\n",
       "      <td>['Modern French restaurant', 'Restaurant']</td>\n",
       "      <td>4.3</td>\n",
       "      <td>17</td>\n",
       "      <td>NaN</td>\n",
       "      <td>[['Thursday', '5–9PM'], ['Friday', '5–10PM'], ...</td>\n",
       "      <td>{'Service options': ['Delivery']}</td>\n",
       "      <td>Permanently closed</td>\n",
       "      <td>['0x8894b5a649e1f5cb:0xe5ef826dc2f3842f', '0x8...</td>\n",
       "      <td>https://www.google.com/maps/place//data=!4m2!3...</td>\n",
       "      <td>POINT (-84.98153 29.72695)</td>\n",
       "    </tr>\n",
       "    <tr>\n",
       "      <th>2058</th>\n",
       "      <td>1.059416e+20</td>\n",
       "      <td>Douglas Gummere</td>\n",
       "      <td>1537402367631</td>\n",
       "      <td>1</td>\n",
       "      <td>Love this place. Great little restaurant, with...</td>\n",
       "      <td>NaN</td>\n",
       "      <td>NaN</td>\n",
       "      <td>0x8894b5a7a7909725:0xe4687299fd288188</td>\n",
       "      <td>Gormley's on the river | Modern cuisine in his...</td>\n",
       "      <td>Gormley's on the river | Modern cuisine in his...</td>\n",
       "      <td>...</td>\n",
       "      <td>['Modern French restaurant', 'Restaurant']</td>\n",
       "      <td>4.3</td>\n",
       "      <td>17</td>\n",
       "      <td>NaN</td>\n",
       "      <td>[['Thursday', '5–9PM'], ['Friday', '5–10PM'], ...</td>\n",
       "      <td>{'Service options': ['Delivery']}</td>\n",
       "      <td>Permanently closed</td>\n",
       "      <td>['0x8894b5a649e1f5cb:0xe5ef826dc2f3842f', '0x8...</td>\n",
       "      <td>https://www.google.com/maps/place//data=!4m2!3...</td>\n",
       "      <td>POINT (-84.98153 29.72695)</td>\n",
       "    </tr>\n",
       "    <tr>\n",
       "      <th>2059</th>\n",
       "      <td>1.059416e+20</td>\n",
       "      <td>Douglas Gummere</td>\n",
       "      <td>1537402367631</td>\n",
       "      <td>1</td>\n",
       "      <td>Love this place. Great little restaurant, with...</td>\n",
       "      <td>NaN</td>\n",
       "      <td>NaN</td>\n",
       "      <td>0x8894b5a7a7909725:0xe4687299fd288188</td>\n",
       "      <td>Gormley's on the river | Modern cuisine in his...</td>\n",
       "      <td>Gormley's on the river | Modern cuisine in his...</td>\n",
       "      <td>...</td>\n",
       "      <td>['Modern French restaurant', 'Restaurant']</td>\n",
       "      <td>4.3</td>\n",
       "      <td>17</td>\n",
       "      <td>NaN</td>\n",
       "      <td>[['Thursday', '5–9PM'], ['Friday', '5–10PM'], ...</td>\n",
       "      <td>{'Service options': ['Delivery']}</td>\n",
       "      <td>Permanently closed</td>\n",
       "      <td>['0x8894b5a649e1f5cb:0xe5ef826dc2f3842f', '0x8...</td>\n",
       "      <td>https://www.google.com/maps/place//data=!4m2!3...</td>\n",
       "      <td>POINT (-84.98153 29.72695)</td>\n",
       "    </tr>\n",
       "    <tr>\n",
       "      <th>2060</th>\n",
       "      <td>1.098577e+20</td>\n",
       "      <td>David Powell</td>\n",
       "      <td>1534936396392</td>\n",
       "      <td>5</td>\n",
       "      <td>A classy restaurant to match the charm of the ...</td>\n",
       "      <td>NaN</td>\n",
       "      <td>NaN</td>\n",
       "      <td>0x8894b5a7a7909725:0xe4687299fd288188</td>\n",
       "      <td>Gormley's on the river | Modern cuisine in his...</td>\n",
       "      <td>Gormley's on the river | Modern cuisine in his...</td>\n",
       "      <td>...</td>\n",
       "      <td>['Modern French restaurant', 'Restaurant']</td>\n",
       "      <td>4.3</td>\n",
       "      <td>17</td>\n",
       "      <td>NaN</td>\n",
       "      <td>[['Thursday', '5–9PM'], ['Friday', '5–10PM'], ...</td>\n",
       "      <td>{'Service options': ['Delivery']}</td>\n",
       "      <td>Permanently closed</td>\n",
       "      <td>['0x8894b5a649e1f5cb:0xe5ef826dc2f3842f', '0x8...</td>\n",
       "      <td>https://www.google.com/maps/place//data=!4m2!3...</td>\n",
       "      <td>POINT (-84.98153 29.72695)</td>\n",
       "    </tr>\n",
       "    <tr>\n",
       "      <th>...</th>\n",
       "      <td>...</td>\n",
       "      <td>...</td>\n",
       "      <td>...</td>\n",
       "      <td>...</td>\n",
       "      <td>...</td>\n",
       "      <td>...</td>\n",
       "      <td>...</td>\n",
       "      <td>...</td>\n",
       "      <td>...</td>\n",
       "      <td>...</td>\n",
       "      <td>...</td>\n",
       "      <td>...</td>\n",
       "      <td>...</td>\n",
       "      <td>...</td>\n",
       "      <td>...</td>\n",
       "      <td>...</td>\n",
       "      <td>...</td>\n",
       "      <td>...</td>\n",
       "      <td>...</td>\n",
       "      <td>...</td>\n",
       "      <td>...</td>\n",
       "    </tr>\n",
       "    <tr>\n",
       "      <th>2866705</th>\n",
       "      <td>1.005875e+20</td>\n",
       "      <td>Christy Flanagan</td>\n",
       "      <td>1558307566729</td>\n",
       "      <td>4</td>\n",
       "      <td>NaN</td>\n",
       "      <td>NaN</td>\n",
       "      <td>{'time': 1558395889016, 'text': 'Thank you, we...</td>\n",
       "      <td>0x88e77b72f6649745:0x79b4f1ce48d76510</td>\n",
       "      <td>Boston Market</td>\n",
       "      <td>Boston Market, 250 E Michigan St, Orlando, FL ...</td>\n",
       "      <td>...</td>\n",
       "      <td>['American restaurant', 'Caterer', 'Chicken re...</td>\n",
       "      <td>4.0</td>\n",
       "      <td>648</td>\n",
       "      <td>₩</td>\n",
       "      <td>[['Tuesday', '11AM–10PM'], ['Wednesday', '11AM...</td>\n",
       "      <td>{'Service options': ['Curbside pickup', 'No-co...</td>\n",
       "      <td>Open ⋅ Closes 10PM</td>\n",
       "      <td>['0x88e77b72f9cc66f3:0x9a50571f55bc84d2', '0x8...</td>\n",
       "      <td>https://www.google.com/maps/place//data=!4m2!3...</td>\n",
       "      <td>POINT (-81.37471 28.51255)</td>\n",
       "    </tr>\n",
       "    <tr>\n",
       "      <th>2866706</th>\n",
       "      <td>1.102315e+20</td>\n",
       "      <td>Mspoetry</td>\n",
       "      <td>1566753936154</td>\n",
       "      <td>3</td>\n",
       "      <td>NaN</td>\n",
       "      <td>NaN</td>\n",
       "      <td>{'time': 1566865864044, 'text': 'We will striv...</td>\n",
       "      <td>0x88e77b72f6649745:0x79b4f1ce48d76510</td>\n",
       "      <td>Boston Market</td>\n",
       "      <td>Boston Market, 250 E Michigan St, Orlando, FL ...</td>\n",
       "      <td>...</td>\n",
       "      <td>['American restaurant', 'Caterer', 'Chicken re...</td>\n",
       "      <td>4.0</td>\n",
       "      <td>648</td>\n",
       "      <td>₩</td>\n",
       "      <td>[['Tuesday', '11AM–10PM'], ['Wednesday', '11AM...</td>\n",
       "      <td>{'Service options': ['Curbside pickup', 'No-co...</td>\n",
       "      <td>Open ⋅ Closes 10PM</td>\n",
       "      <td>['0x88e77b72f9cc66f3:0x9a50571f55bc84d2', '0x8...</td>\n",
       "      <td>https://www.google.com/maps/place//data=!4m2!3...</td>\n",
       "      <td>POINT (-81.37471 28.51255)</td>\n",
       "    </tr>\n",
       "    <tr>\n",
       "      <th>2866707</th>\n",
       "      <td>1.056372e+20</td>\n",
       "      <td>None Done</td>\n",
       "      <td>1575288491524</td>\n",
       "      <td>3</td>\n",
       "      <td>NaN</td>\n",
       "      <td>NaN</td>\n",
       "      <td>{'time': 1575306132300, 'text': 'We will striv...</td>\n",
       "      <td>0x88e77b72f6649745:0x79b4f1ce48d76510</td>\n",
       "      <td>Boston Market</td>\n",
       "      <td>Boston Market, 250 E Michigan St, Orlando, FL ...</td>\n",
       "      <td>...</td>\n",
       "      <td>['American restaurant', 'Caterer', 'Chicken re...</td>\n",
       "      <td>4.0</td>\n",
       "      <td>648</td>\n",
       "      <td>₩</td>\n",
       "      <td>[['Tuesday', '11AM–10PM'], ['Wednesday', '11AM...</td>\n",
       "      <td>{'Service options': ['Curbside pickup', 'No-co...</td>\n",
       "      <td>Open ⋅ Closes 10PM</td>\n",
       "      <td>['0x88e77b72f9cc66f3:0x9a50571f55bc84d2', '0x8...</td>\n",
       "      <td>https://www.google.com/maps/place//data=!4m2!3...</td>\n",
       "      <td>POINT (-81.37471 28.51255)</td>\n",
       "    </tr>\n",
       "    <tr>\n",
       "      <th>2866708</th>\n",
       "      <td>1.001089e+20</td>\n",
       "      <td>David Santillo</td>\n",
       "      <td>1511797427071</td>\n",
       "      <td>3</td>\n",
       "      <td>NaN</td>\n",
       "      <td>NaN</td>\n",
       "      <td>NaN</td>\n",
       "      <td>0x88e77b72f6649745:0x79b4f1ce48d76510</td>\n",
       "      <td>Boston Market</td>\n",
       "      <td>Boston Market, 250 E Michigan St, Orlando, FL ...</td>\n",
       "      <td>...</td>\n",
       "      <td>['American restaurant', 'Caterer', 'Chicken re...</td>\n",
       "      <td>4.0</td>\n",
       "      <td>648</td>\n",
       "      <td>₩</td>\n",
       "      <td>[['Tuesday', '11AM–10PM'], ['Wednesday', '11AM...</td>\n",
       "      <td>{'Service options': ['Curbside pickup', 'No-co...</td>\n",
       "      <td>Open ⋅ Closes 10PM</td>\n",
       "      <td>['0x88e77b72f9cc66f3:0x9a50571f55bc84d2', '0x8...</td>\n",
       "      <td>https://www.google.com/maps/place//data=!4m2!3...</td>\n",
       "      <td>POINT (-81.37471 28.51255)</td>\n",
       "    </tr>\n",
       "    <tr>\n",
       "      <th>2866709</th>\n",
       "      <td>1.137923e+20</td>\n",
       "      <td>hash hash</td>\n",
       "      <td>1554217954408</td>\n",
       "      <td>4</td>\n",
       "      <td>NaN</td>\n",
       "      <td>NaN</td>\n",
       "      <td>{'time': 1554383797677, 'text': 'Thank you for...</td>\n",
       "      <td>0x88e77b72f6649745:0x79b4f1ce48d76510</td>\n",
       "      <td>Boston Market</td>\n",
       "      <td>Boston Market, 250 E Michigan St, Orlando, FL ...</td>\n",
       "      <td>...</td>\n",
       "      <td>['American restaurant', 'Caterer', 'Chicken re...</td>\n",
       "      <td>4.0</td>\n",
       "      <td>648</td>\n",
       "      <td>₩</td>\n",
       "      <td>[['Tuesday', '11AM–10PM'], ['Wednesday', '11AM...</td>\n",
       "      <td>{'Service options': ['Curbside pickup', 'No-co...</td>\n",
       "      <td>Open ⋅ Closes 10PM</td>\n",
       "      <td>['0x88e77b72f9cc66f3:0x9a50571f55bc84d2', '0x8...</td>\n",
       "      <td>https://www.google.com/maps/place//data=!4m2!3...</td>\n",
       "      <td>POINT (-81.37471 28.51255)</td>\n",
       "    </tr>\n",
       "  </tbody>\n",
       "</table>\n",
       "<p>998734 rows × 23 columns</p>\n",
       "</div>"
      ],
      "text/plain": [
       "              user_id            name_x           time  rating  \\\n",
       "2056     1.130683e+20     Edwin Ashurst  1537195868022       5   \n",
       "2057     1.130683e+20     Edwin Ashurst  1537195868022       5   \n",
       "2058     1.059416e+20   Douglas Gummere  1537402367631       1   \n",
       "2059     1.059416e+20   Douglas Gummere  1537402367631       1   \n",
       "2060     1.098577e+20      David Powell  1534936396392       5   \n",
       "...               ...               ...            ...     ...   \n",
       "2866705  1.005875e+20  Christy Flanagan  1558307566729       4   \n",
       "2866706  1.102315e+20          Mspoetry  1566753936154       3   \n",
       "2866707  1.056372e+20         None Done  1575288491524       3   \n",
       "2866708  1.001089e+20    David Santillo  1511797427071       3   \n",
       "2866709  1.137923e+20         hash hash  1554217954408       4   \n",
       "\n",
       "                                                      text pics  \\\n",
       "2056     The salads were lackluster though with well wr...  NaN   \n",
       "2057     The salads were lackluster though with well wr...  NaN   \n",
       "2058     Love this place. Great little restaurant, with...  NaN   \n",
       "2059     Love this place. Great little restaurant, with...  NaN   \n",
       "2060     A classy restaurant to match the charm of the ...  NaN   \n",
       "...                                                    ...  ...   \n",
       "2866705                                                NaN  NaN   \n",
       "2866706                                                NaN  NaN   \n",
       "2866707                                                NaN  NaN   \n",
       "2866708                                                NaN  NaN   \n",
       "2866709                                                NaN  NaN   \n",
       "\n",
       "                                                      resp  \\\n",
       "2056                                                   NaN   \n",
       "2057                                                   NaN   \n",
       "2058                                                   NaN   \n",
       "2059                                                   NaN   \n",
       "2060                                                   NaN   \n",
       "...                                                    ...   \n",
       "2866705  {'time': 1558395889016, 'text': 'Thank you, we...   \n",
       "2866706  {'time': 1566865864044, 'text': 'We will striv...   \n",
       "2866707  {'time': 1575306132300, 'text': 'We will striv...   \n",
       "2866708                                                NaN   \n",
       "2866709  {'time': 1554383797677, 'text': 'Thank you for...   \n",
       "\n",
       "                                       gmap_id  \\\n",
       "2056     0x8894b5a7a7909725:0xe4687299fd288188   \n",
       "2057     0x8894b5a7a7909725:0xe4687299fd288188   \n",
       "2058     0x8894b5a7a7909725:0xe4687299fd288188   \n",
       "2059     0x8894b5a7a7909725:0xe4687299fd288188   \n",
       "2060     0x8894b5a7a7909725:0xe4687299fd288188   \n",
       "...                                        ...   \n",
       "2866705  0x88e77b72f6649745:0x79b4f1ce48d76510   \n",
       "2866706  0x88e77b72f6649745:0x79b4f1ce48d76510   \n",
       "2866707  0x88e77b72f6649745:0x79b4f1ce48d76510   \n",
       "2866708  0x88e77b72f6649745:0x79b4f1ce48d76510   \n",
       "2866709  0x88e77b72f6649745:0x79b4f1ce48d76510   \n",
       "\n",
       "                                                    name_y  \\\n",
       "2056     Gormley's on the river | Modern cuisine in his...   \n",
       "2057     Gormley's on the river | Modern cuisine in his...   \n",
       "2058     Gormley's on the river | Modern cuisine in his...   \n",
       "2059     Gormley's on the river | Modern cuisine in his...   \n",
       "2060     Gormley's on the river | Modern cuisine in his...   \n",
       "...                                                    ...   \n",
       "2866705                                      Boston Market   \n",
       "2866706                                      Boston Market   \n",
       "2866707                                      Boston Market   \n",
       "2866708                                      Boston Market   \n",
       "2866709                                      Boston Market   \n",
       "\n",
       "                                                   address  ...  \\\n",
       "2056     Gormley's on the river | Modern cuisine in his...  ...   \n",
       "2057     Gormley's on the river | Modern cuisine in his...  ...   \n",
       "2058     Gormley's on the river | Modern cuisine in his...  ...   \n",
       "2059     Gormley's on the river | Modern cuisine in his...  ...   \n",
       "2060     Gormley's on the river | Modern cuisine in his...  ...   \n",
       "...                                                    ...  ...   \n",
       "2866705  Boston Market, 250 E Michigan St, Orlando, FL ...  ...   \n",
       "2866706  Boston Market, 250 E Michigan St, Orlando, FL ...  ...   \n",
       "2866707  Boston Market, 250 E Michigan St, Orlando, FL ...  ...   \n",
       "2866708  Boston Market, 250 E Michigan St, Orlando, FL ...  ...   \n",
       "2866709  Boston Market, 250 E Michigan St, Orlando, FL ...  ...   \n",
       "\n",
       "                                                  category  avg_rating  \\\n",
       "2056            ['Modern French restaurant', 'Restaurant']         4.3   \n",
       "2057            ['Modern French restaurant', 'Restaurant']         4.3   \n",
       "2058            ['Modern French restaurant', 'Restaurant']         4.3   \n",
       "2059            ['Modern French restaurant', 'Restaurant']         4.3   \n",
       "2060            ['Modern French restaurant', 'Restaurant']         4.3   \n",
       "...                                                    ...         ...   \n",
       "2866705  ['American restaurant', 'Caterer', 'Chicken re...         4.0   \n",
       "2866706  ['American restaurant', 'Caterer', 'Chicken re...         4.0   \n",
       "2866707  ['American restaurant', 'Caterer', 'Chicken re...         4.0   \n",
       "2866708  ['American restaurant', 'Caterer', 'Chicken re...         4.0   \n",
       "2866709  ['American restaurant', 'Caterer', 'Chicken re...         4.0   \n",
       "\n",
       "         num_of_reviews price  \\\n",
       "2056                 17   NaN   \n",
       "2057                 17   NaN   \n",
       "2058                 17   NaN   \n",
       "2059                 17   NaN   \n",
       "2060                 17   NaN   \n",
       "...                 ...   ...   \n",
       "2866705             648     ₩   \n",
       "2866706             648     ₩   \n",
       "2866707             648     ₩   \n",
       "2866708             648     ₩   \n",
       "2866709             648     ₩   \n",
       "\n",
       "                                                     hours  \\\n",
       "2056     [['Thursday', '5–9PM'], ['Friday', '5–10PM'], ...   \n",
       "2057     [['Thursday', '5–9PM'], ['Friday', '5–10PM'], ...   \n",
       "2058     [['Thursday', '5–9PM'], ['Friday', '5–10PM'], ...   \n",
       "2059     [['Thursday', '5–9PM'], ['Friday', '5–10PM'], ...   \n",
       "2060     [['Thursday', '5–9PM'], ['Friday', '5–10PM'], ...   \n",
       "...                                                    ...   \n",
       "2866705  [['Tuesday', '11AM–10PM'], ['Wednesday', '11AM...   \n",
       "2866706  [['Tuesday', '11AM–10PM'], ['Wednesday', '11AM...   \n",
       "2866707  [['Tuesday', '11AM–10PM'], ['Wednesday', '11AM...   \n",
       "2866708  [['Tuesday', '11AM–10PM'], ['Wednesday', '11AM...   \n",
       "2866709  [['Tuesday', '11AM–10PM'], ['Wednesday', '11AM...   \n",
       "\n",
       "                                                      MISC  \\\n",
       "2056                     {'Service options': ['Delivery']}   \n",
       "2057                     {'Service options': ['Delivery']}   \n",
       "2058                     {'Service options': ['Delivery']}   \n",
       "2059                     {'Service options': ['Delivery']}   \n",
       "2060                     {'Service options': ['Delivery']}   \n",
       "...                                                    ...   \n",
       "2866705  {'Service options': ['Curbside pickup', 'No-co...   \n",
       "2866706  {'Service options': ['Curbside pickup', 'No-co...   \n",
       "2866707  {'Service options': ['Curbside pickup', 'No-co...   \n",
       "2866708  {'Service options': ['Curbside pickup', 'No-co...   \n",
       "2866709  {'Service options': ['Curbside pickup', 'No-co...   \n",
       "\n",
       "                      state  \\\n",
       "2056     Permanently closed   \n",
       "2057     Permanently closed   \n",
       "2058     Permanently closed   \n",
       "2059     Permanently closed   \n",
       "2060     Permanently closed   \n",
       "...                     ...   \n",
       "2866705  Open ⋅ Closes 10PM   \n",
       "2866706  Open ⋅ Closes 10PM   \n",
       "2866707  Open ⋅ Closes 10PM   \n",
       "2866708  Open ⋅ Closes 10PM   \n",
       "2866709  Open ⋅ Closes 10PM   \n",
       "\n",
       "                                          relative_results  \\\n",
       "2056     ['0x8894b5a649e1f5cb:0xe5ef826dc2f3842f', '0x8...   \n",
       "2057     ['0x8894b5a649e1f5cb:0xe5ef826dc2f3842f', '0x8...   \n",
       "2058     ['0x8894b5a649e1f5cb:0xe5ef826dc2f3842f', '0x8...   \n",
       "2059     ['0x8894b5a649e1f5cb:0xe5ef826dc2f3842f', '0x8...   \n",
       "2060     ['0x8894b5a649e1f5cb:0xe5ef826dc2f3842f', '0x8...   \n",
       "...                                                    ...   \n",
       "2866705  ['0x88e77b72f9cc66f3:0x9a50571f55bc84d2', '0x8...   \n",
       "2866706  ['0x88e77b72f9cc66f3:0x9a50571f55bc84d2', '0x8...   \n",
       "2866707  ['0x88e77b72f9cc66f3:0x9a50571f55bc84d2', '0x8...   \n",
       "2866708  ['0x88e77b72f9cc66f3:0x9a50571f55bc84d2', '0x8...   \n",
       "2866709  ['0x88e77b72f9cc66f3:0x9a50571f55bc84d2', '0x8...   \n",
       "\n",
       "                                                       url  \\\n",
       "2056     https://www.google.com/maps/place//data=!4m2!3...   \n",
       "2057     https://www.google.com/maps/place//data=!4m2!3...   \n",
       "2058     https://www.google.com/maps/place//data=!4m2!3...   \n",
       "2059     https://www.google.com/maps/place//data=!4m2!3...   \n",
       "2060     https://www.google.com/maps/place//data=!4m2!3...   \n",
       "...                                                    ...   \n",
       "2866705  https://www.google.com/maps/place//data=!4m2!3...   \n",
       "2866706  https://www.google.com/maps/place//data=!4m2!3...   \n",
       "2866707  https://www.google.com/maps/place//data=!4m2!3...   \n",
       "2866708  https://www.google.com/maps/place//data=!4m2!3...   \n",
       "2866709  https://www.google.com/maps/place//data=!4m2!3...   \n",
       "\n",
       "                           geometry  \n",
       "2056     POINT (-84.98153 29.72695)  \n",
       "2057     POINT (-84.98153 29.72695)  \n",
       "2058     POINT (-84.98153 29.72695)  \n",
       "2059     POINT (-84.98153 29.72695)  \n",
       "2060     POINT (-84.98153 29.72695)  \n",
       "...                             ...  \n",
       "2866705  POINT (-81.37471 28.51255)  \n",
       "2866706  POINT (-81.37471 28.51255)  \n",
       "2866707  POINT (-81.37471 28.51255)  \n",
       "2866708  POINT (-81.37471 28.51255)  \n",
       "2866709  POINT (-81.37471 28.51255)  \n",
       "\n",
       "[998734 rows x 23 columns]"
      ]
     },
     "execution_count": 46,
     "metadata": {},
     "output_type": "execute_result"
    }
   ],
   "source": [
    "# filtramos por florida\n",
    "\n",
    "import geopandas as gpd\n",
    "from shapely.geometry import Point\n",
    "\n",
    "# Cargar el shapefile o GeoJSON de Florida\n",
    "usa = gpd.read_file(\"C:/Users/tomas/Desktop/DS - HENRY/00.LABS/3.PF\\Proyecto_Final/st12_d00.shp\")\n",
    "florida = usa[usa['NAME'] == 'Florida']\n",
    "\n",
    "# Convierte tu DataFrame a un GeoDataFrame\n",
    "geometry = [Point(xy) for xy in zip(filtered_df['longitude'], filtered_df['latitude'])]\n",
    "geo_df = gpd.GeoDataFrame(filtered_df, geometry=geometry)\n",
    "\n",
    "# Filtra solo aquellos puntos que están dentro de Florida\n",
    "florida_points = geo_df[geo_df.geometry.within(florida.geometry.iloc[0])]\n",
    "\n",
    "florida_points"
   ]
  },
  {
   "cell_type": "code",
   "execution_count": null,
   "metadata": {},
   "outputs": [
    {
     "data": {
      "text/plain": [
       "(998734, 23)"
      ]
     },
     "execution_count": 47,
     "metadata": {},
     "output_type": "execute_result"
    }
   ],
   "source": [
    "florida_points.shape"
   ]
  },
  {
   "cell_type": "code",
   "execution_count": null,
   "metadata": {},
   "outputs": [
    {
     "data": {
      "text/plain": [
       "5136"
      ]
     },
     "execution_count": 48,
     "metadata": {},
     "output_type": "execute_result"
    }
   ],
   "source": [
    "florida_points.address.nunique()"
   ]
  },
  {
   "cell_type": "code",
   "execution_count": null,
   "metadata": {},
   "outputs": [],
   "source": [
    "florida_points = florida_points[florida_points[\"text\"].notna()]"
   ]
  },
  {
   "cell_type": "code",
   "execution_count": null,
   "metadata": {},
   "outputs": [
    {
     "data": {
      "text/plain": [
       "5136"
      ]
     },
     "execution_count": 50,
     "metadata": {},
     "output_type": "execute_result"
    }
   ],
   "source": [
    "florida_points.address.nunique()"
   ]
  },
  {
   "cell_type": "code",
   "execution_count": null,
   "metadata": {},
   "outputs": [
    {
     "ename": "MemoryError",
     "evalue": "Unable to allocate 70.5 MiB for an array with shape (15, 616160) and data type object",
     "output_type": "error",
     "traceback": [
      "\u001b[1;31m---------------------------------------------------------------------------\u001b[0m",
      "\u001b[1;31mMemoryError\u001b[0m                               Traceback (most recent call last)",
      "\u001b[1;32mc:\\Users\\tomas\\Desktop\\DS - HENRY\\00.LABS\\3.PF\\Proyecto_Final\\metadatav1.ipynb Celda 28\u001b[0m line \u001b[0;36m1\n\u001b[1;32m----> <a href='vscode-notebook-cell:/c%3A/Users/tomas/Desktop/DS%20-%20HENRY/00.LABS/3.PF/Proyecto_Final/metadatav1.ipynb#X46sZmlsZQ%3D%3D?line=0'>1</a>\u001b[0m florida_points\u001b[39m.\u001b[39;49mto_parquet(\u001b[39m\"\u001b[39;49m\u001b[39mflorida_points.parquet\u001b[39;49m\u001b[39m\"\u001b[39;49m)\n\u001b[0;32m      <a href='vscode-notebook-cell:/c%3A/Users/tomas/Desktop/DS%20-%20HENRY/00.LABS/3.PF/Proyecto_Final/metadatav1.ipynb#X46sZmlsZQ%3D%3D?line=2'>3</a>\u001b[0m \u001b[39m# Exporto este dataset para poder tener la data de interes en un solo conjunto\u001b[39;00m\n",
      "File \u001b[1;32m~\\AppData\\Local\\Packages\\PythonSoftwareFoundation.Python.3.10_qbz5n2kfra8p0\\LocalCache\\local-packages\\Python310\\site-packages\\geopandas\\geodataframe.py:1102\u001b[0m, in \u001b[0;36mGeoDataFrame.to_parquet\u001b[1;34m(self, path, index, compression, schema_version, **kwargs)\u001b[0m\n\u001b[0;32m   1095\u001b[0m     \u001b[39mraise\u001b[39;00m \u001b[39mValueError\u001b[39;00m(\n\u001b[0;32m   1096\u001b[0m         \u001b[39mf\u001b[39m\u001b[39m\"\u001b[39m\u001b[39mGeoPandas only supports using pyarrow as the engine for \u001b[39m\u001b[39m\"\u001b[39m\n\u001b[0;32m   1097\u001b[0m         \u001b[39mf\u001b[39m\u001b[39m\"\u001b[39m\u001b[39mto_parquet: \u001b[39m\u001b[39m{\u001b[39;00mengine\u001b[39m!r}\u001b[39;00m\u001b[39m passed instead.\u001b[39m\u001b[39m\"\u001b[39m\n\u001b[0;32m   1098\u001b[0m     )\n\u001b[0;32m   1100\u001b[0m \u001b[39mfrom\u001b[39;00m \u001b[39mgeopandas\u001b[39;00m\u001b[39m.\u001b[39;00m\u001b[39mio\u001b[39;00m\u001b[39m.\u001b[39;00m\u001b[39marrow\u001b[39;00m \u001b[39mimport\u001b[39;00m _to_parquet\n\u001b[1;32m-> 1102\u001b[0m _to_parquet(\n\u001b[0;32m   1103\u001b[0m     \u001b[39mself\u001b[39m,\n\u001b[0;32m   1104\u001b[0m     path,\n\u001b[0;32m   1105\u001b[0m     compression\u001b[39m=\u001b[39mcompression,\n\u001b[0;32m   1106\u001b[0m     index\u001b[39m=\u001b[39mindex,\n\u001b[0;32m   1107\u001b[0m     schema_version\u001b[39m=\u001b[39mschema_version,\n\u001b[0;32m   1108\u001b[0m     \u001b[39m*\u001b[39m\u001b[39m*\u001b[39mkwargs,\n\u001b[0;32m   1109\u001b[0m )\n",
      "File \u001b[1;32m~\\AppData\\Local\\Packages\\PythonSoftwareFoundation.Python.3.10_qbz5n2kfra8p0\\LocalCache\\local-packages\\Python310\\site-packages\\geopandas\\io\\arrow.py:337\u001b[0m, in \u001b[0;36m_to_parquet\u001b[1;34m(df, path, index, compression, schema_version, **kwargs)\u001b[0m\n\u001b[0;32m    334\u001b[0m         schema_version \u001b[39m=\u001b[39m kwargs\u001b[39m.\u001b[39mpop(\u001b[39m\"\u001b[39m\u001b[39mversion\u001b[39m\u001b[39m\"\u001b[39m)\n\u001b[0;32m    336\u001b[0m path \u001b[39m=\u001b[39m _expand_user(path)\n\u001b[1;32m--> 337\u001b[0m table \u001b[39m=\u001b[39m _geopandas_to_arrow(df, index\u001b[39m=\u001b[39;49mindex, schema_version\u001b[39m=\u001b[39;49mschema_version)\n\u001b[0;32m    338\u001b[0m parquet\u001b[39m.\u001b[39mwrite_table(table, path, compression\u001b[39m=\u001b[39mcompression, \u001b[39m*\u001b[39m\u001b[39m*\u001b[39mkwargs)\n",
      "File \u001b[1;32m~\\AppData\\Local\\Packages\\PythonSoftwareFoundation.Python.3.10_qbz5n2kfra8p0\\LocalCache\\local-packages\\Python310\\site-packages\\geopandas\\io\\arrow.py:276\u001b[0m, in \u001b[0;36m_geopandas_to_arrow\u001b[1;34m(df, index, schema_version)\u001b[0m\n\u001b[0;32m    267\u001b[0m             warnings\u001b[39m.\u001b[39mwarn(\n\u001b[0;32m    268\u001b[0m                 \u001b[39m\"\u001b[39m\u001b[39mThe GeoDataFrame contains 3D geometries, and when using \u001b[39m\u001b[39m\"\u001b[39m\n\u001b[0;32m    269\u001b[0m                 \u001b[39m\"\u001b[39m\u001b[39mshapely < 2.0, such geometries will be written not exactly \u001b[39m\u001b[39m\"\u001b[39m\n\u001b[1;32m   (...)\u001b[0m\n\u001b[0;32m    273\u001b[0m                 stacklevel\u001b[39m=\u001b[39m\u001b[39m2\u001b[39m,\n\u001b[0;32m    274\u001b[0m             )\n\u001b[0;32m    275\u001b[0m             \u001b[39mbreak\u001b[39;00m\n\u001b[1;32m--> 276\u001b[0m df \u001b[39m=\u001b[39m df\u001b[39m.\u001b[39mto_wkb(\u001b[39m*\u001b[39m\u001b[39m*\u001b[39mkwargs)\n\u001b[0;32m    278\u001b[0m table \u001b[39m=\u001b[39m Table\u001b[39m.\u001b[39mfrom_pandas(df, preserve_index\u001b[39m=\u001b[39mindex)\n\u001b[0;32m    280\u001b[0m \u001b[39m# Store geopandas specific file-level metadata\u001b[39;00m\n\u001b[0;32m    281\u001b[0m \u001b[39m# This must be done AFTER creating the table or it is not persisted\u001b[39;00m\n",
      "File \u001b[1;32m~\\AppData\\Local\\Packages\\PythonSoftwareFoundation.Python.3.10_qbz5n2kfra8p0\\LocalCache\\local-packages\\Python310\\site-packages\\geopandas\\geodataframe.py:1010\u001b[0m, in \u001b[0;36mGeoDataFrame.to_wkb\u001b[1;34m(self, hex, **kwargs)\u001b[0m\n\u001b[0;32m    990\u001b[0m \u001b[39mdef\u001b[39;00m \u001b[39mto_wkb\u001b[39m(\u001b[39mself\u001b[39m, \u001b[39mhex\u001b[39m\u001b[39m=\u001b[39m\u001b[39mFalse\u001b[39;00m, \u001b[39m*\u001b[39m\u001b[39m*\u001b[39mkwargs):\n\u001b[0;32m    991\u001b[0m \u001b[39m    \u001b[39m\u001b[39m\"\"\"\u001b[39;00m\n\u001b[0;32m    992\u001b[0m \u001b[39m    Encode all geometry columns in the GeoDataFrame to WKB.\u001b[39;00m\n\u001b[0;32m    993\u001b[0m \n\u001b[1;32m   (...)\u001b[0m\n\u001b[0;32m   1007\u001b[0m \u001b[39m        geometry columns are encoded to WKB\u001b[39;00m\n\u001b[0;32m   1008\u001b[0m \u001b[39m    \"\"\"\u001b[39;00m\n\u001b[1;32m-> 1010\u001b[0m     df \u001b[39m=\u001b[39m DataFrame(\u001b[39mself\u001b[39;49m\u001b[39m.\u001b[39;49mcopy())\n\u001b[0;32m   1012\u001b[0m     \u001b[39m# Encode all geometry columns to WKB\u001b[39;00m\n\u001b[0;32m   1013\u001b[0m     \u001b[39mfor\u001b[39;00m col \u001b[39min\u001b[39;00m df\u001b[39m.\u001b[39mcolumns[df\u001b[39m.\u001b[39mdtypes \u001b[39m==\u001b[39m \u001b[39m\"\u001b[39m\u001b[39mgeometry\u001b[39m\u001b[39m\"\u001b[39m]:\n",
      "File \u001b[1;32m~\\AppData\\Local\\Packages\\PythonSoftwareFoundation.Python.3.10_qbz5n2kfra8p0\\LocalCache\\local-packages\\Python310\\site-packages\\geopandas\\geodataframe.py:1550\u001b[0m, in \u001b[0;36mGeoDataFrame.copy\u001b[1;34m(self, deep)\u001b[0m\n\u001b[0;32m   1548\u001b[0m \u001b[39m@doc\u001b[39m(pd\u001b[39m.\u001b[39mDataFrame)\n\u001b[0;32m   1549\u001b[0m \u001b[39mdef\u001b[39;00m \u001b[39mcopy\u001b[39m(\u001b[39mself\u001b[39m, deep\u001b[39m=\u001b[39m\u001b[39mTrue\u001b[39;00m):\n\u001b[1;32m-> 1550\u001b[0m     copied \u001b[39m=\u001b[39m \u001b[39msuper\u001b[39;49m()\u001b[39m.\u001b[39;49mcopy(deep\u001b[39m=\u001b[39;49mdeep)\n\u001b[0;32m   1551\u001b[0m     \u001b[39mif\u001b[39;00m \u001b[39mtype\u001b[39m(copied) \u001b[39mis\u001b[39;00m pd\u001b[39m.\u001b[39mDataFrame:\n\u001b[0;32m   1552\u001b[0m         copied\u001b[39m.\u001b[39m\u001b[39m__class__\u001b[39m \u001b[39m=\u001b[39m GeoDataFrame\n",
      "File \u001b[1;32m~\\AppData\\Local\\Packages\\PythonSoftwareFoundation.Python.3.10_qbz5n2kfra8p0\\LocalCache\\local-packages\\Python310\\site-packages\\pandas\\core\\generic.py:6368\u001b[0m, in \u001b[0;36mNDFrame.copy\u001b[1;34m(self, deep)\u001b[0m\n\u001b[0;32m   6258\u001b[0m \u001b[39m@final\u001b[39m\n\u001b[0;32m   6259\u001b[0m \u001b[39mdef\u001b[39;00m \u001b[39mcopy\u001b[39m(\u001b[39mself\u001b[39m: NDFrameT, deep: bool_t \u001b[39m|\u001b[39m \u001b[39mNone\u001b[39;00m \u001b[39m=\u001b[39m \u001b[39mTrue\u001b[39;00m) \u001b[39m-\u001b[39m\u001b[39m>\u001b[39m NDFrameT:\n\u001b[0;32m   6260\u001b[0m \u001b[39m    \u001b[39m\u001b[39m\"\"\"\u001b[39;00m\n\u001b[0;32m   6261\u001b[0m \u001b[39m    Make a copy of this object's indices and data.\u001b[39;00m\n\u001b[0;32m   6262\u001b[0m \n\u001b[1;32m   (...)\u001b[0m\n\u001b[0;32m   6366\u001b[0m \u001b[39m    dtype: object\u001b[39;00m\n\u001b[0;32m   6367\u001b[0m \u001b[39m    \"\"\"\u001b[39;00m\n\u001b[1;32m-> 6368\u001b[0m     data \u001b[39m=\u001b[39m \u001b[39mself\u001b[39;49m\u001b[39m.\u001b[39;49m_mgr\u001b[39m.\u001b[39;49mcopy(deep\u001b[39m=\u001b[39;49mdeep)\n\u001b[0;32m   6369\u001b[0m     \u001b[39mself\u001b[39m\u001b[39m.\u001b[39m_clear_item_cache()\n\u001b[0;32m   6370\u001b[0m     \u001b[39mreturn\u001b[39;00m \u001b[39mself\u001b[39m\u001b[39m.\u001b[39m_constructor(data)\u001b[39m.\u001b[39m__finalize__(\u001b[39mself\u001b[39m, method\u001b[39m=\u001b[39m\u001b[39m\"\u001b[39m\u001b[39mcopy\u001b[39m\u001b[39m\"\u001b[39m)\n",
      "File \u001b[1;32m~\\AppData\\Local\\Packages\\PythonSoftwareFoundation.Python.3.10_qbz5n2kfra8p0\\LocalCache\\local-packages\\Python310\\site-packages\\pandas\\core\\internals\\managers.py:649\u001b[0m, in \u001b[0;36mBaseBlockManager.copy\u001b[1;34m(self, deep)\u001b[0m\n\u001b[0;32m    646\u001b[0m \u001b[39melse\u001b[39;00m:\n\u001b[0;32m    647\u001b[0m     new_axes \u001b[39m=\u001b[39m \u001b[39mlist\u001b[39m(\u001b[39mself\u001b[39m\u001b[39m.\u001b[39maxes)\n\u001b[1;32m--> 649\u001b[0m res \u001b[39m=\u001b[39m \u001b[39mself\u001b[39;49m\u001b[39m.\u001b[39;49mapply(\u001b[39m\"\u001b[39;49m\u001b[39mcopy\u001b[39;49m\u001b[39m\"\u001b[39;49m, deep\u001b[39m=\u001b[39;49mdeep)\n\u001b[0;32m    650\u001b[0m new_refs: \u001b[39mlist\u001b[39m[weakref\u001b[39m.\u001b[39mref \u001b[39m|\u001b[39m \u001b[39mNone\u001b[39;00m] \u001b[39m|\u001b[39m \u001b[39mNone\u001b[39;00m\n\u001b[0;32m    651\u001b[0m \u001b[39mif\u001b[39;00m deep:\n",
      "File \u001b[1;32m~\\AppData\\Local\\Packages\\PythonSoftwareFoundation.Python.3.10_qbz5n2kfra8p0\\LocalCache\\local-packages\\Python310\\site-packages\\pandas\\core\\internals\\managers.py:352\u001b[0m, in \u001b[0;36mBaseBlockManager.apply\u001b[1;34m(self, f, align_keys, ignore_failures, **kwargs)\u001b[0m\n\u001b[0;32m    350\u001b[0m         applied \u001b[39m=\u001b[39m b\u001b[39m.\u001b[39mapply(f, \u001b[39m*\u001b[39m\u001b[39m*\u001b[39mkwargs)\n\u001b[0;32m    351\u001b[0m     \u001b[39melse\u001b[39;00m:\n\u001b[1;32m--> 352\u001b[0m         applied \u001b[39m=\u001b[39m \u001b[39mgetattr\u001b[39m(b, f)(\u001b[39m*\u001b[39m\u001b[39m*\u001b[39mkwargs)\n\u001b[0;32m    353\u001b[0m \u001b[39mexcept\u001b[39;00m (\u001b[39mTypeError\u001b[39;00m, \u001b[39mNotImplementedError\u001b[39;00m):\n\u001b[0;32m    354\u001b[0m     \u001b[39mif\u001b[39;00m \u001b[39mnot\u001b[39;00m ignore_failures:\n",
      "File \u001b[1;32m~\\AppData\\Local\\Packages\\PythonSoftwareFoundation.Python.3.10_qbz5n2kfra8p0\\LocalCache\\local-packages\\Python310\\site-packages\\pandas\\core\\internals\\blocks.py:549\u001b[0m, in \u001b[0;36mBlock.copy\u001b[1;34m(self, deep)\u001b[0m\n\u001b[0;32m    547\u001b[0m values \u001b[39m=\u001b[39m \u001b[39mself\u001b[39m\u001b[39m.\u001b[39mvalues\n\u001b[0;32m    548\u001b[0m \u001b[39mif\u001b[39;00m deep:\n\u001b[1;32m--> 549\u001b[0m     values \u001b[39m=\u001b[39m values\u001b[39m.\u001b[39;49mcopy()\n\u001b[0;32m    550\u001b[0m \u001b[39mreturn\u001b[39;00m \u001b[39mtype\u001b[39m(\u001b[39mself\u001b[39m)(values, placement\u001b[39m=\u001b[39m\u001b[39mself\u001b[39m\u001b[39m.\u001b[39m_mgr_locs, ndim\u001b[39m=\u001b[39m\u001b[39mself\u001b[39m\u001b[39m.\u001b[39mndim)\n",
      "\u001b[1;31mMemoryError\u001b[0m: Unable to allocate 70.5 MiB for an array with shape (15, 616160) and data type object"
     ]
    }
   ],
   "source": [
    "florida_points.to_parquet(\"florida_points.parquet\")\n",
    "\n",
    "# Exporto este dataset para poder tener la data de interes en un solo conjunto"
   ]
  },
  {
   "cell_type": "code",
   "execution_count": null,
   "metadata": {},
   "outputs": [
    {
     "ename": "",
     "evalue": "",
     "output_type": "error",
     "traceback": [
      "\u001b[1;31mEl Kernel se bloqueó al ejecutar código en la celda actual o en una celda anterior. Revise el código de las celdas para identificar una posible causa del error. Haga clic <a href='https://aka.ms/vscodeJupyterKernelCrash'>aquí</a> para obtener más información. Vea el [registro] de Jupyter (command:jupyter.viewOutput) para obtener más detalles."
     ]
    }
   ],
   "source": [
    "pivot_table = florida_points.pivot_table(index=['name_y', 'latitude', 'longitude'], values='gmap_id', aggfunc='count').reset_index()\n",
    "\n",
    "pivot_table = pivot_table.rename(columns={'gmap_id': 'review_count'})\n",
    "\n",
    "pivot_table"
   ]
  },
  {
   "cell_type": "code",
   "execution_count": null,
   "metadata": {},
   "outputs": [],
   "source": [
    "florida_points_with_text = florida_points[florida_points[\"text\"].notna()]"
   ]
  },
  {
   "cell_type": "code",
   "execution_count": null,
   "metadata": {},
   "outputs": [
    {
     "data": {
      "text/plain": [
       "McDonald's                          36700\n",
       "Wendy's                             11111\n",
       "Chick-fil-A                          9265\n",
       "Cracker Barrel Old Country Store     8412\n",
       "IHOP                                 8138\n",
       "                                    ...  \n",
       "Villa Fresh Italian Kitchen             3\n",
       "Mi Tierra Restaurant                    3\n",
       "Broadway Cafe                           3\n",
       "Antojos Boricuas II                     3\n",
       "La Lunita Coffee Shop                   2\n",
       "Name: name_y, Length: 4022, dtype: int64"
      ]
     },
     "execution_count": 22,
     "metadata": {},
     "output_type": "execute_result"
    }
   ],
   "source": [
    "florida_points_with_text.name_y.value_counts()"
   ]
  }
 ],
 "metadata": {
  "kernelspec": {
   "display_name": "Python 3",
   "language": "python",
   "name": "python3"
  },
  "language_info": {
   "codemirror_mode": {
    "name": "ipython",
    "version": 3
   },
   "file_extension": ".py",
   "mimetype": "text/x-python",
   "name": "python",
   "nbconvert_exporter": "python",
   "pygments_lexer": "ipython3",
   "version": "3.11.5"
  },
  "orig_nbformat": 4
 },
 "nbformat": 4,
 "nbformat_minor": 2
}
