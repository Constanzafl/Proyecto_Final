{
  "cells": [
    {
      "cell_type": "code",
      "execution_count": 33,
      "metadata": {
        "id": "8mhw5hwy6cCO"
      },
      "outputs": [],
      "source": [
        "import json\n",
        "import os\n",
        "import pandas as pd\n",
        "import pickle\n",
        "import pyarrow.parquet as pq\n",
        "import re"
      ]
    },
    {
      "cell_type": "markdown",
      "metadata": {
        "id": "35iE8cVsFpoR"
      },
      "source": [
        "\n",
        "# Lectura archivo fausto"
      ]
    },
    {
      "cell_type": "code",
      "execution_count": 34,
      "metadata": {
        "colab": {
          "base_uri": "https://localhost:8080/"
        },
        "id": "tg_y8xqhDVk_",
        "outputId": "095cd445-4eb0-4518-c06e-53f90b440aad"
      },
      "outputs": [
        {
          "name": "stdout",
          "output_type": "stream",
          "text": [
            "                         business_name  \\\n",
            "1                   Honduras Nica Cafe   \n",
            "2                   Honduras Nica Cafe   \n",
            "3                   Honduras Nica Cafe   \n",
            "4                   Honduras Nica Cafe   \n",
            "5                   Honduras Nica Cafe   \n",
            "...                                ...   \n",
            "1005932  Top Taste Jamaican Restaurant   \n",
            "1005933  Top Taste Jamaican Restaurant   \n",
            "1005934  Top Taste Jamaican Restaurant   \n",
            "1005935  Top Taste Jamaican Restaurant   \n",
            "1005936  Top Taste Jamaican Restaurant   \n",
            "\n",
            "                                                                     address  \\\n",
            "1                        Honduras Nica Cafe, 280 NW 79th St, Miami, FL 33150   \n",
            "2                        Honduras Nica Cafe, 280 NW 79th St, Miami, FL 33150   \n",
            "3                        Honduras Nica Cafe, 280 NW 79th St, Miami, FL 33150   \n",
            "4                        Honduras Nica Cafe, 280 NW 79th St, Miami, FL 33150   \n",
            "5                        Honduras Nica Cafe, 280 NW 79th St, Miami, FL 33150   \n",
            "...                                                                      ...   \n",
            "1005932  Top Taste Jamaican Restaurant, 27411 S Dixie Hwy, Naranja, FL 33032   \n",
            "1005933  Top Taste Jamaican Restaurant, 27411 S Dixie Hwy, Naranja, FL 33032   \n",
            "1005934  Top Taste Jamaican Restaurant, 27411 S Dixie Hwy, Naranja, FL 33032   \n",
            "1005935  Top Taste Jamaican Restaurant, 27411 S Dixie Hwy, Naranja, FL 33032   \n",
            "1005936  Top Taste Jamaican Restaurant, 27411 S Dixie Hwy, Naranja, FL 33032   \n",
            "\n",
            "        description   latitude  longitude  \\\n",
            "1              None  25.847143 -80.202370   \n",
            "2              None  25.847143 -80.202370   \n",
            "3              None  25.847143 -80.202370   \n",
            "4              None  25.847143 -80.202370   \n",
            "5              None  25.847143 -80.202370   \n",
            "...             ...        ...        ...   \n",
            "1005932        None  25.511515 -80.431449   \n",
            "1005933        None  25.511515 -80.431449   \n",
            "1005934        None  25.511515 -80.431449   \n",
            "1005935        None  25.511515 -80.431449   \n",
            "1005936        None  25.511515 -80.431449   \n",
            "\n",
            "                                               category  avg_rating  \\\n",
            "1                               ['Honduran restaurant']         3.5   \n",
            "2                               ['Honduran restaurant']         3.5   \n",
            "3                               ['Honduran restaurant']         3.5   \n",
            "4                               ['Honduran restaurant']         3.5   \n",
            "5                               ['Honduran restaurant']         3.5   \n",
            "...                                                 ...         ...   \n",
            "1005932  ['Jamaican restaurant' 'Fast food restaurant']         4.3   \n",
            "1005933  ['Jamaican restaurant' 'Fast food restaurant']         4.3   \n",
            "1005934  ['Jamaican restaurant' 'Fast food restaurant']         4.3   \n",
            "1005935  ['Jamaican restaurant' 'Fast food restaurant']         4.3   \n",
            "1005936  ['Jamaican restaurant' 'Fast food restaurant']         4.3   \n",
            "\n",
            "         num_of_reviews price  \\\n",
            "1                    84  None   \n",
            "2                    84  None   \n",
            "3                    84  None   \n",
            "4                    84  None   \n",
            "5                    84  None   \n",
            "...                 ...   ...   \n",
            "1005932              28  None   \n",
            "1005933              28  None   \n",
            "1005934              28  None   \n",
            "1005935              28  None   \n",
            "1005936              28  None   \n",
            "\n",
            "                                                                                                                                                   hours  \\\n",
            "1        [[Thursday, 7AM–9PM], [Friday, 7AM–10PM], [Saturday, 7AM–10PM], [Sunday, 7AM–9PM], [Monday, 7AM–9PM], [Tuesday, 7AM–9PM], [Wednesday, 7AM–9PM]]   \n",
            "2        [[Thursday, 7AM–9PM], [Friday, 7AM–10PM], [Saturday, 7AM–10PM], [Sunday, 7AM–9PM], [Monday, 7AM–9PM], [Tuesday, 7AM–9PM], [Wednesday, 7AM–9PM]]   \n",
            "3        [[Thursday, 7AM–9PM], [Friday, 7AM–10PM], [Saturday, 7AM–10PM], [Sunday, 7AM–9PM], [Monday, 7AM–9PM], [Tuesday, 7AM–9PM], [Wednesday, 7AM–9PM]]   \n",
            "4        [[Thursday, 7AM–9PM], [Friday, 7AM–10PM], [Saturday, 7AM–10PM], [Sunday, 7AM–9PM], [Monday, 7AM–9PM], [Tuesday, 7AM–9PM], [Wednesday, 7AM–9PM]]   \n",
            "5        [[Thursday, 7AM–9PM], [Friday, 7AM–10PM], [Saturday, 7AM–10PM], [Sunday, 7AM–9PM], [Monday, 7AM–9PM], [Tuesday, 7AM–9PM], [Wednesday, 7AM–9PM]]   \n",
            "...                                                                                                                                                  ...   \n",
            "1005932     [[Thursday, 7AM–8PM], [Friday, 7AM–9PM], [Saturday, 7AM–9PM], [Sunday, Closed], [Monday, 7AM–8PM], [Tuesday, 7AM–8PM], [Wednesday, 7AM–8PM]]   \n",
            "1005933     [[Thursday, 7AM–8PM], [Friday, 7AM–9PM], [Saturday, 7AM–9PM], [Sunday, Closed], [Monday, 7AM–8PM], [Tuesday, 7AM–8PM], [Wednesday, 7AM–8PM]]   \n",
            "1005934     [[Thursday, 7AM–8PM], [Friday, 7AM–9PM], [Saturday, 7AM–9PM], [Sunday, Closed], [Monday, 7AM–8PM], [Tuesday, 7AM–8PM], [Wednesday, 7AM–8PM]]   \n",
            "1005935     [[Thursday, 7AM–8PM], [Friday, 7AM–9PM], [Saturday, 7AM–9PM], [Sunday, Closed], [Monday, 7AM–8PM], [Tuesday, 7AM–8PM], [Wednesday, 7AM–8PM]]   \n",
            "1005936     [[Thursday, 7AM–8PM], [Friday, 7AM–9PM], [Saturday, 7AM–9PM], [Sunday, Closed], [Monday, 7AM–8PM], [Tuesday, 7AM–8PM], [Wednesday, 7AM–8PM]]   \n",
            "\n",
            "                                                                                                                                                                                                                                                                                                                MISC  \\\n",
            "1        {'Accessibility': ['Wheelchair accessible entrance'], 'Activities': None, 'Amenities': ['Good for kids'], 'Atmosphere': ['Casual', 'Cozy'], 'Crowd': ['Groups'], 'Dining options': ['Dessert'], 'From the business': None, 'Getting here': None, 'Health & safety': ['Mask required', 'Staff required to...   \n",
            "2        {'Accessibility': ['Wheelchair accessible entrance'], 'Activities': None, 'Amenities': ['Good for kids'], 'Atmosphere': ['Casual', 'Cozy'], 'Crowd': ['Groups'], 'Dining options': ['Dessert'], 'From the business': None, 'Getting here': None, 'Health & safety': ['Mask required', 'Staff required to...   \n",
            "3        {'Accessibility': ['Wheelchair accessible entrance'], 'Activities': None, 'Amenities': ['Good for kids'], 'Atmosphere': ['Casual', 'Cozy'], 'Crowd': ['Groups'], 'Dining options': ['Dessert'], 'From the business': None, 'Getting here': None, 'Health & safety': ['Mask required', 'Staff required to...   \n",
            "4        {'Accessibility': ['Wheelchair accessible entrance'], 'Activities': None, 'Amenities': ['Good for kids'], 'Atmosphere': ['Casual', 'Cozy'], 'Crowd': ['Groups'], 'Dining options': ['Dessert'], 'From the business': None, 'Getting here': None, 'Health & safety': ['Mask required', 'Staff required to...   \n",
            "5        {'Accessibility': ['Wheelchair accessible entrance'], 'Activities': None, 'Amenities': ['Good for kids'], 'Atmosphere': ['Casual', 'Cozy'], 'Crowd': ['Groups'], 'Dining options': ['Dessert'], 'From the business': None, 'Getting here': None, 'Health & safety': ['Mask required', 'Staff required to...   \n",
            "...                                                                                                                                                                                                                                                                                                              ...   \n",
            "1005932  {'Accessibility': None, 'Activities': None, 'Amenities': ['Good for kids'], 'Atmosphere': None, 'Crowd': None, 'Dining options': None, 'From the business': None, 'Getting here': None, 'Health & safety': None, 'Health and safety': None, 'Highlights': None, 'Lodging options': None, 'Offerings': No...   \n",
            "1005933  {'Accessibility': None, 'Activities': None, 'Amenities': ['Good for kids'], 'Atmosphere': None, 'Crowd': None, 'Dining options': None, 'From the business': None, 'Getting here': None, 'Health & safety': None, 'Health and safety': None, 'Highlights': None, 'Lodging options': None, 'Offerings': No...   \n",
            "1005934  {'Accessibility': None, 'Activities': None, 'Amenities': ['Good for kids'], 'Atmosphere': None, 'Crowd': None, 'Dining options': None, 'From the business': None, 'Getting here': None, 'Health & safety': None, 'Health and safety': None, 'Highlights': None, 'Lodging options': None, 'Offerings': No...   \n",
            "1005935  {'Accessibility': None, 'Activities': None, 'Amenities': ['Good for kids'], 'Atmosphere': None, 'Crowd': None, 'Dining options': None, 'From the business': None, 'Getting here': None, 'Health & safety': None, 'Health and safety': None, 'Highlights': None, 'Lodging options': None, 'Offerings': No...   \n",
            "1005936  {'Accessibility': None, 'Activities': None, 'Amenities': ['Good for kids'], 'Atmosphere': None, 'Crowd': None, 'Dining options': None, 'From the business': None, 'Getting here': None, 'Health & safety': None, 'Health and safety': None, 'Highlights': None, 'Lodging options': None, 'Offerings': No...   \n",
            "\n",
            "                                     state       user_name        time  \\\n",
            "1        Closes soon ⋅ 9PM ⋅ Opens 7AM Fri    Cindys 4luvz  17/04/2021   \n",
            "2        Closes soon ⋅ 9PM ⋅ Opens 7AM Fri         Ash Jay  07/06/2021   \n",
            "3        Closes soon ⋅ 9PM ⋅ Opens 7AM Fri        Henmo Mo  10/03/2020   \n",
            "4        Closes soon ⋅ 9PM ⋅ Opens 7AM Fri    javier tapia  06/09/2020   \n",
            "5        Closes soon ⋅ 9PM ⋅ Opens 7AM Fri  Fernando Mejia  02/07/2019   \n",
            "...                                    ...             ...         ...   \n",
            "1005932                 Permanently closed          Pa Paw  29/06/2018   \n",
            "1005933                 Permanently closed     V A N Brown  27/11/2017   \n",
            "1005934                 Permanently closed     Kim Quijano  24/05/2018   \n",
            "1005935                 Permanently closed   The Clip Shop  21/10/2017   \n",
            "1005936                 Permanently closed   Isabel Suarez  15/12/2018   \n",
            "\n",
            "         rating  \\\n",
            "1           4.0   \n",
            "2           5.0   \n",
            "3           5.0   \n",
            "4           3.0   \n",
            "5           5.0   \n",
            "...         ...   \n",
            "1005932     4.0   \n",
            "1005933     5.0   \n",
            "1005934     5.0   \n",
            "1005935     5.0   \n",
            "1005936     5.0   \n",
            "\n",
            "                                                                                                                                                                                                                                                                                                                text  \n",
            "1                                                               The nacatamal is a good size and taste ok. The pupusas are decent but not as tasty as I've had elsewhere. The sauce they gave is not spicy which I was expecting it to be. Taste good tho. Slaw is plain. Baleadas are the only thing I give an A+ .  \n",
            "2                                                                                                                                                                                                                                                                            Love this place thats my favorite place  \n",
            "3        Food was fresh,  delicious and reminded me of everything I miss about home. Better than mom's cooking. Simple food made fresh lifts the soul. Not the prettiest place but definitely a  gem in the area. You can call ahead. Daily specials. Low prices. Loved every bite and will definitely be back. T...  \n",
            "4                                                                                                                                                                                                                                                                                             Good food great prices  \n",
            "5                                                                                                                      Best baleadas in town. I always have baleadas con chorizo. The soup is delicious. Sopa the res (beef soup) it's available every day. Bean soup with chicharrones and seafood soup on weekends  \n",
            "...                                                                                                                                                                                                                                                                                                              ...  \n",
            "1005932                                                                                                                                                                                                                                                                                               Quite and cozy  \n",
            "1005933                                                                                                                                                                                                                                                                                                    wonderful  \n",
            "1005934                                                                                                                                                                                                                                                                                                      Yummy!!  \n",
            "1005935                                                                                                                                                                                                                                                    Jerk Pork was on point, real friendly owner, recommended.  \n",
            "1005936                                                                                                                                                                                                                    (Translated by Google) The rating says it all\\n\\n(Original)\\nLa calificación lo dice todo  \n",
            "\n",
            "[616166 rows x 16 columns]\n"
          ]
        }
      ],
      "source": [
        "ruta_absoluta6 = 'archivos_parquet_florida/2_ETL_FLORIDA_FILTRADO_x_RESTO_x_MAPA_x_TEXTO.parquet'\n",
        "\n",
        "\n",
        "# Obtener la ruta absoluta al archivo Parquet\n",
        "ruta_absoluta6 = os.path.abspath(ruta_absoluta6)\n",
        "\n",
        "# Verificar si el archivo existe\n",
        "if os.path.exists(ruta_absoluta6):\n",
        "    # Cargar el archivo Parquet en un DataFrame\n",
        "    df6 = pd.read_parquet(ruta_absoluta6)\n",
        "\n",
        "    # Ahora puedes trabajar con el DataFrame df\n",
        "    print(df6)\n",
        "else:\n",
        "    print(f\"El archivo {ruta_absoluta6} no existe.\")"
      ]
    },
    {
      "cell_type": "code",
      "execution_count": 35,
      "metadata": {
        "colab": {
          "base_uri": "https://localhost:8080/"
        },
        "id": "tZcLPG8WmXYZ",
        "outputId": "2759ec40-e640-4924-d1a1-cd6dbf8f233a"
      },
      "outputs": [
        {
          "data": {
            "text/plain": [
              "(616166, 16)"
            ]
          },
          "execution_count": 35,
          "metadata": {},
          "output_type": "execute_result"
        }
      ],
      "source": [
        "df6.shape"
      ]
    },
    {
      "cell_type": "code",
      "execution_count": 36,
      "metadata": {
        "colab": {
          "base_uri": "https://localhost:8080/"
        },
        "id": "LgPTylghFCbw",
        "outputId": "9cc3e0f9-0c21-43ee-dbee-74d20a50088b"
      },
      "outputs": [
        {
          "data": {
            "text/plain": [
              "Index(['business_name', 'address', 'description', 'latitude', 'longitude',\n",
              "       'category', 'avg_rating', 'num_of_reviews', 'price', 'hours', 'MISC',\n",
              "       'state', 'user_name', 'time', 'rating', 'text'],\n",
              "      dtype='object')"
            ]
          },
          "execution_count": 36,
          "metadata": {},
          "output_type": "execute_result"
        }
      ],
      "source": [
        "df6.columns"
      ]
    },
    {
      "cell_type": "code",
      "execution_count": 37,
      "metadata": {
        "colab": {
          "base_uri": "https://localhost:8080/"
        },
        "id": "zCVNrh1Ff2MU",
        "outputId": "70755a00-cf65-48aa-920e-c28a5eab4122"
      },
      "outputs": [
        {
          "data": {
            "text/plain": [
              "array(['Closes soon ⋅ 9PM ⋅ Opens 7AM Fri', 'Open ⋅ Closes 1AM',\n",
              "       'Open ⋅ Closes 10PM', 'Closes soon ⋅ 8PM ⋅ Opens 11AM Fri',\n",
              "       'Open ⋅ Closes 10:30PM', 'Permanently closed', 'Open ⋅ Closes 9PM',\n",
              "       'Open ⋅ Closes 8PM', 'Open ⋅ Closes 7:30PM', 'Temporarily closed',\n",
              "       'Closed ⋅ Opens 12PM', 'Closed ⋅ Opens 11AM',\n",
              "       'Closed ⋅ Opens 6:30PM', 'Closed ⋅ Opens 4PM',\n",
              "       'Closed ⋅ Opens 10PM', None, 'Open 24 hours',\n",
              "       'Closed ⋅ Opens 10AM', 'Closed ⋅ Opens 11AM Thu',\n",
              "       'Closed ⋅ Opens 10AM Thu', 'Closed ⋅ Opens 7AM Thu',\n",
              "       'Closed ⋅ Opens 8:30AM Thu',\n",
              "       'Closes soon ⋅ 9PM ⋅ Opens 10:30AM Thu', 'Open now',\n",
              "       'Open ⋅ Closes 9:30PM', 'Open ⋅ Closes 7PM', 'Open ⋅ Closes 12AM',\n",
              "       'Closed ⋅ Opens 12AM Thu', 'Open ⋅ Closes 4PM',\n",
              "       'Closed ⋅ Opens 11:30AM', 'Open ⋅ Closes 6PM',\n",
              "       'Closed ⋅ Opens 12:30PM', 'Opens soon ⋅ 8AM',\n",
              "       'Closed ⋅ Opens 11AM Wed', 'Open ⋅ Closes 11PM',\n",
              "       'Closed ⋅ Opens 10AM Wed', 'Closed ⋅ Opens 7PM Sat',\n",
              "       'Closes soon ⋅ 8PM ⋅ Opens 10AM Wed', 'Closed ⋅ Opens 11:30AM Wed',\n",
              "       'Closed ⋅ Opens 6PM Wed', 'Opens soon ⋅ 11AM', 'Opens soon ⋅ 10AM',\n",
              "       'Closed ⋅ Opens 2PM Thu', 'Closed ⋅ Opens 10:30AM',\n",
              "       'Closed ⋅ Opens 8AM Wed', 'Closed ⋅ Opens 4:30PM',\n",
              "       'Closed ⋅ Opens 8AM', 'Closed ⋅ Opens 9AM',\n",
              "       'Closed ⋅ Opens 5PM Wed', 'Closed ⋅ Opens 11AM Tue',\n",
              "       'Closes soon ⋅ 9:30PM ⋅ Opens 11AM Tue', 'Closed ⋅ Opens 7AM Tue',\n",
              "       'Closed ⋅ Opens 6PM Tue', 'Closed ⋅ Opens 4PM Tue',\n",
              "       'Closed ⋅ Opens 10AM Tue', 'Closed ⋅ Opens 1PM',\n",
              "       'Closed ⋅ Opens 7:30AM', 'Closed ⋅ Opens 6AM',\n",
              "       'Closed ⋅ Opens 5:30PM Wed', 'Closed ⋅ Opens 7AM',\n",
              "       'Closed ⋅ Opens 4PM Thu', 'Closed ⋅ Opens 11:30AM Mon',\n",
              "       'Closed ⋅ Opens 4:30PM Mon', 'Closed ⋅ Opens 9AM Mon',\n",
              "       'Closed ⋅ Opens 10AM Mon', 'Closed ⋅ Opens 11AM Mon',\n",
              "       'Closes soon ⋅ 10PM ⋅ Opens 4PM Mon', 'Closed ⋅ Opens 12PM Mon',\n",
              "       'Closed ⋅ Opens 8AM Mon', 'Closes soon ⋅ 9PM ⋅ Opens 4PM Mon',\n",
              "       'Closes soon ⋅ 7PM ⋅ Opens 7AM Mon', 'Opens soon ⋅ 5PM',\n",
              "       'Closed ⋅ Opens 9PM', 'Closed ⋅ Opens 7AM Mon',\n",
              "       'Closed ⋅ Opens 7PM', 'Open ⋅ Closes 5:30PM',\n",
              "       'Closed ⋅ Opens 1:30PM', 'Closed ⋅ Opens 6:30AM Mon',\n",
              "       'Closed ⋅ Opens 3PM', 'Closed ⋅ Opens 5PM', 'Closed ⋅ Opens 5AM',\n",
              "       'Open ⋅ Closes 5:30AM ⋅ Reopens 6:30PM', 'Closed ⋅ Opens 12PM Sun',\n",
              "       'Closed ⋅ Opens 8:30AM Mon', 'Closed ⋅ Opens 11AM Sun',\n",
              "       'Closed ⋅ Opens 10AM Sun', 'Closes soon ⋅ 10PM ⋅ Opens 7AM Mon',\n",
              "       'Open ⋅ Closes 2:30PM', 'Closed ⋅ Opens 10AM Sat',\n",
              "       'Closed ⋅ Opens 11AM Sat', 'Closed ⋅ Opens 6AM Sat',\n",
              "       'Closes soon ⋅ 11PM ⋅ Opens 10:30AM Sat',\n",
              "       'Closes soon ⋅ 9PM ⋅ Opens 5PM Sat', 'Closed ⋅ Opens 8AM Sat',\n",
              "       'Closed ⋅ Opens 7AM Sat', 'Open ⋅ Closes 2AM',\n",
              "       'Closes soon ⋅ 7:30PM ⋅ Opens 9AM Sat', 'Closed ⋅ Opens 9AM Sat',\n",
              "       'Closed ⋅ Opens 8AM Tue', 'Open ⋅ Closes 8:30PM',\n",
              "       'Opens soon ⋅ 4PM', 'Open ⋅ Closes 3:30PM',\n",
              "       'Closed ⋅ Opens 10:15AM', 'Closed ⋅ Opens 9AM Fri',\n",
              "       'Closed ⋅ Opens 11:30AM Fri', 'Closed ⋅ Opens 11AM Fri',\n",
              "       'Closed ⋅ Opens 6:30AM Fri', 'Closed ⋅ Opens 7AM Fri',\n",
              "       'Open ⋅ Closes 2PM', 'Closed ⋅ Opens 6:30AM',\n",
              "       'Closed ⋅ Opens 8AM Thu', 'Closed ⋅ Opens 6:30AM Thu',\n",
              "       'Open ⋅ Closes 6AM Thu', 'Closed ⋅ Opens 9AM Thu',\n",
              "       'Closed ⋅ Opens 4PM Wed', 'Closed ⋅ Opens 7:30AM Wed',\n",
              "       'Closes soon ⋅ 10PM ⋅ Opens 12PM Wed', 'Closed ⋅ Opens 7:45AM Wed',\n",
              "       'Closes soon ⋅ 9PM ⋅ Opens 11AM Wed',\n",
              "       'Closes soon ⋅ 9PM ⋅ Opens 9AM Wed',\n",
              "       'Closes soon ⋅ 8:30PM ⋅ Opens 10AM Wed', 'Closed ⋅ Opens 7AM Wed',\n",
              "       'Closed ⋅ Opens 6PM Thu', 'Closed ⋅ Opens 6PM',\n",
              "       'Open ⋅ Closes 12PM', 'Open ⋅ Closes 5PM', 'Closed ⋅ Opens 5:30PM',\n",
              "       'Closed ⋅ Opens 10:45AM', 'Closed ⋅ Opens 8:30AM',\n",
              "       'Closed ⋅ Opens 12PM Sat', 'Closed ⋅ Opens 5PM Tue',\n",
              "       'Closes soon ⋅ 10PM ⋅ Opens 5PM Tue',\n",
              "       'Closes soon ⋅ 9:30PM ⋅ Opens 11:30AM Tue',\n",
              "       'Closed ⋅ Opens 6AM Tue', 'Open ⋅ Closes 9:15PM',\n",
              "       'Closes soon ⋅ 7PM ⋅ Opens 7AM Tue', 'Closed ⋅ Opens 9AM Tue',\n",
              "       'Closed ⋅ Opens 5AM Tue', 'Open ⋅ Closes 12:30AM',\n",
              "       'Open ⋅ Closes 3PM', 'Open ⋅ Closes 4AM', 'Closed ⋅ Opens 7PM Tue',\n",
              "       'Closed ⋅ Opens 2PM', 'Closed ⋅ Opens 7:30AM Tue',\n",
              "       'Closed ⋅ Opens 10:30AM Mon', 'Closed ⋅ Opens 12PM Tue',\n",
              "       'Closed ⋅ Opens 7:30AM Mon', 'Closed ⋅ Opens 6AM Mon',\n",
              "       'Closed ⋅ Opens 5PM Mon', 'Open ⋅ Closes 3AM', 'Open ⋅ Closes 1PM',\n",
              "       'Opens soon ⋅ 9AM', 'Closed ⋅ Opens 3PM Wed',\n",
              "       'Closed ⋅ Opens 3:30PM', 'Closed ⋅ Opens 11:30AM Tue',\n",
              "       'Closes soon ⋅ 1AM ⋅ Reopens 7AM',\n",
              "       'Open ⋅ Closes 5AM ⋅ Reopens 10AM',\n",
              "       'Closes soon ⋅ 1AM ⋅ Reopens 11AM', 'Opens soon ⋅ 12AM',\n",
              "       'Closed ⋅ Opens 10:30AM Sun', 'Closed ⋅ Opens 9AM Sun',\n",
              "       'Closes soon ⋅ 9:30PM ⋅ Opens 12PM Sun',\n",
              "       'Closed ⋅ Opens 9:30AM Sun', 'Closed ⋅ Opens 8:30AM Sun',\n",
              "       'Closed ⋅ Opens 8AM Sun', 'Closes soon ⋅ 6PM ⋅ Opens 10AM Sun',\n",
              "       'Closed ⋅ Opens 7AM Sun', 'Closed ⋅ Opens 7:30AM Sun',\n",
              "       'Open ⋅ Closes 3PM ⋅ Reopens 5PM', 'Opens soon ⋅ 11:30AM',\n",
              "       'Closed ⋅ Opens 5PM Sat', 'Closes soon ⋅ 12AM ⋅ Opens 11AM Sat',\n",
              "       'Closed ⋅ Opens 1AM Sat', 'Closed ⋅ Opens 7:30AM Thu',\n",
              "       'Closes soon ⋅ 2:30PM ⋅ Reopens 5PM', 'Closed ⋅ Opens 2PM Wed',\n",
              "       'Closed ⋅ Opens 10:30AM Wed', 'Closed ⋅ Opens 12PM Wed',\n",
              "       'Closes soon ⋅ 10PM ⋅ Opens 11:30AM Sat',\n",
              "       'Closed ⋅ Opens 6:30PM Fri',\n",
              "       'Closes soon ⋅ 2:30AM ⋅ Opens 10PM Fri',\n",
              "       'Closes soon ⋅ 12AM ⋅ Opens 3PM Wed', 'Closed ⋅ Opens 10:11PM Wed',\n",
              "       'Open ⋅ Closes 2AM ⋅ Reopens 11AM', 'Closed ⋅ Opens 4PM Mon',\n",
              "       'Closed ⋅ Opens 9:30AM Mon', 'Closed ⋅ Opens 5AM Sat',\n",
              "       'Closes soon ⋅ 12AM ⋅ Opens 3PM Fri', 'Open ⋅ Closes 9AM Thu',\n",
              "       'Closed ⋅ Opens 12AM Wed', 'Closes soon ⋅ 1AM ⋅ Reopens 10AM',\n",
              "       'Closed ⋅ Opens 11:30AM Sat', 'Closed ⋅ Opens 4PM Sat',\n",
              "       'Closed ⋅ Opens 10:30AM Fri', 'Opens soon ⋅ 5:30PM',\n",
              "       'Open ⋅ Closes 11:30PM', 'Closed ⋅ Opens 6PM Fri',\n",
              "       'Closes soon ⋅ 12:30AM ⋅ Reopens 7AM', 'Closed ⋅ Opens 5PM Thu',\n",
              "       'Closed ⋅ Opens 8:30AM Wed', 'Closes soon ⋅ 9PM ⋅ Opens 7AM Tue',\n",
              "       'Closes soon ⋅ 9PM ⋅ Opens 11AM Tue',\n",
              "       'Open ⋅ Closes 12PM ⋅ Reopens 5PM',\n",
              "       'Closes soon ⋅ 12AM ⋅ Opens 11AM Sun', 'Closed ⋅ Opens 6:30AM Sun',\n",
              "       'Opens soon ⋅ 11:30PM', 'Open ⋅ Closes 2:30AM',\n",
              "       'Closed ⋅ Opens 2:30PM', 'Closes soon ⋅ 12AM ⋅ Opens 11AM Thu',\n",
              "       'Closes soon ⋅ 7PM ⋅ Opens 11AM Thu',\n",
              "       'Closes soon ⋅ 4PM ⋅ Opens 7AM Thu', 'Closed ⋅ Opens 9AM Wed',\n",
              "       'Closed ⋅ Opens 9PM Thu', 'Closes soon ⋅ 10PM ⋅ Opens 10AM Mon',\n",
              "       'Closes soon ⋅ 10PM ⋅ Opens 8AM Sun', 'Closed ⋅ Opens 10:30AM Sat',\n",
              "       'Closes soon ⋅ 10PM ⋅ Opens 10:30AM Sat',\n",
              "       'Closes soon ⋅ 9PM ⋅ Opens 10:30AM Sat',\n",
              "       'Closes soon ⋅ 9PM ⋅ Opens 11AM Sat',\n",
              "       'Closes soon ⋅ 8:30PM ⋅ Opens 9AM Sat', 'Open ⋅ Closes 5AM Sat',\n",
              "       'Open ⋅ Closes 1:30AM', 'Open ⋅ Closes 2PM ⋅ Reopens 5PM',\n",
              "       'Opens soon ⋅ 6:30AM', 'Opens soon ⋅ 7AM', 'Closed ⋅ Opens 6:45AM',\n",
              "       'Closed ⋅ Opens 5:30AM', 'Closed ⋅ Opens 10AM Fri',\n",
              "       'Closed ⋅ Opens 5AM Fri', 'Closes soon ⋅ 12AM ⋅ Opens 6PM Fri',\n",
              "       'Closed ⋅ Opens 7:30AM Fri',\n",
              "       'Closes soon ⋅ 11:30PM ⋅ Opens 10AM Fri',\n",
              "       'Closed ⋅ Opens 12PM Fri', 'Closed ⋅ Opens 10:45AM Fri',\n",
              "       'Closed ⋅ Opens 6AM Fri', 'Closes soon ⋅ 10PM ⋅ Opens 6AM Fri',\n",
              "       'Closes soon ⋅ 9:30PM ⋅ Opens 11AM Fri', 'Closed ⋅ Opens 4PM Fri',\n",
              "       'Closes soon ⋅ 4PM ⋅ Opens 7AM Fri',\n",
              "       'Closes soon ⋅ 3:30PM ⋅ Opens 8AM Fri', 'Open ⋅ Closes 6:15PM',\n",
              "       'Closes soon ⋅ 2PM ⋅ Opens 5:30AM Fri', 'Open ⋅ Closes 1:30PM',\n",
              "       'Opens soon ⋅ 5AM', 'Closed ⋅ Opens 9:30AM',\n",
              "       'Closed ⋅ Opens 11:30AM Thu', 'Closed ⋅ Opens 10:30AM Thu',\n",
              "       'Closes soon ⋅ 11PM ⋅ Opens 10:30AM Thu',\n",
              "       'Closes soon ⋅ 10PM ⋅ Opens 4PM Thu', 'Closed ⋅ Opens 11:45AM Thu',\n",
              "       'Closes soon ⋅ 10PM ⋅ Opens 11AM Thu',\n",
              "       'Closes soon ⋅ 10PM ⋅ Opens 4:30AM Thu',\n",
              "       'Closes soon ⋅ 9PM ⋅ Opens 11AM Thu',\n",
              "       'Closes soon ⋅ 9PM ⋅ Opens 8AM Thu',\n",
              "       'Closes soon ⋅ 9PM ⋅ Opens 7AM Thu', 'Closed ⋅ Opens 5:30AM Thu',\n",
              "       'Closed ⋅ Opens 8PM', 'Closes soon ⋅ 6PM ⋅ Opens 8AM Thu',\n",
              "       'Closed ⋅ Opens 3PM Thu', 'Open ⋅ Closes 4:30PM',\n",
              "       'Closes soon ⋅ 1AM ⋅ Opens 7PM Thu',\n",
              "       'Open ⋅ Closes 2AM ⋅ Reopens 9AM', 'Closed ⋅ Opens 5AM Wed',\n",
              "       'Closes soon ⋅ 11PM ⋅ Opens 10AM Wed', 'Closed ⋅ Opens 6AM Wed',\n",
              "       'Opens soon ⋅ 12PM', 'Closed ⋅ Opens 11:59AM',\n",
              "       'Closed ⋅ Opens 7PM Wed', 'Closed ⋅ Opens 11:45AM',\n",
              "       'Closed ⋅ Opens 10:30AM Tue', 'Closes soon ⋅ 3PM ⋅ Opens 6AM Tue',\n",
              "       'Closed ⋅ Opens 3AM Tue', 'Opens soon ⋅ 10:30AM',\n",
              "       'Closed ⋅ Opens 6:30PM Tue', 'Closed ⋅ Opens 11:15AM',\n",
              "       'Closed ⋅ Opens 5AM Mon', 'Closes soon ⋅ 12AM ⋅ Opens 10AM Mon',\n",
              "       'Closes soon ⋅ 12AM ⋅ Opens 8AM Mon', 'Closed ⋅ Opens 10:45AM Mon',\n",
              "       'Closes soon ⋅ 10PM ⋅ Opens 5PM Mon',\n",
              "       'Closes soon ⋅ 10PM ⋅ Opens 11AM Mon',\n",
              "       'Closes soon ⋅ 10PM ⋅ Opens 12PM Tue',\n",
              "       'Closes soon ⋅ 10PM ⋅ Opens 6AM Mon',\n",
              "       'Closes soon ⋅ 9PM ⋅ Opens 6AM Mon',\n",
              "       'Closes soon ⋅ 9PM ⋅ Opens 11AM Mon',\n",
              "       'Closes soon ⋅ 9PM ⋅ Opens 12PM Mon', 'Open ⋅ Closes 5AM Mon',\n",
              "       'Closes soon ⋅ 3PM ⋅ Reopens 5PM', 'Open ⋅ Closes 9:45PM',\n",
              "       'Closed ⋅ Opens 10:30PM', 'Closed ⋅ Opens 9:45AM',\n",
              "       'Open ⋅ Closes 3AM ⋅ Reopens 3PM',\n",
              "       'Closes soon ⋅ 12AM ⋅ Opens 8AM Sun', 'Closed ⋅ Opens 5AM Sun',\n",
              "       'Closed ⋅ Opens 4PM Sun', 'Closes soon ⋅ 10PM ⋅ Opens 11:30AM Sun',\n",
              "       'Closes soon ⋅ 9PM ⋅ Opens 10AM Sun',\n",
              "       'Closes soon ⋅ 10PM ⋅ Opens 11AM Sun',\n",
              "       'Closes soon ⋅ 10PM ⋅ Opens 12PM Sun',\n",
              "       'Closes soon ⋅ 9:30PM ⋅ Opens 11AM Sun',\n",
              "       'Closes soon ⋅ 10PM ⋅ Opens 9AM Sun',\n",
              "       'Closes soon ⋅ 9PM ⋅ Opens 12PM Tue',\n",
              "       'Closes soon ⋅ 8PM ⋅ Opens 11AM Mon',\n",
              "       'Closes soon ⋅ 8PM ⋅ Opens 11AM Sun', 'Closed ⋅ Opens 1:59AM Sat',\n",
              "       'Closes soon ⋅ 10PM ⋅ Opens 10:30AM Wed',\n",
              "       'Closes soon ⋅ 10PM ⋅ Opens 11AM Wed', 'Closed ⋅ Opens 4:30PM Wed',\n",
              "       'Closes soon ⋅ 10PM ⋅ Opens 10AM Wed',\n",
              "       'Closes soon ⋅ 8PM ⋅ Opens 11AM Wed', 'Closed ⋅ Opens 6:30AM Wed',\n",
              "       'Closed ⋅ Opens 3PM Sat', 'Closed ⋅ Opens 8:30AM Sat',\n",
              "       'Closed ⋅ Opens 8AM Fri', 'Closes soon ⋅ 9PM ⋅ Opens 9AM Thu',\n",
              "       'Closes soon ⋅ 8PM ⋅ Opens 11AM Thu', 'Opens soon ⋅ 3PM',\n",
              "       'Closes soon ⋅ 6PM ⋅ Opens 9AM Wed', 'Closed ⋅ Opens 6:15AM',\n",
              "       'Closes soon ⋅ 9PM ⋅ Opens 6AM Tue',\n",
              "       'Closes soon ⋅ 7PM ⋅ Opens 8AM Tue', 'Closed ⋅ Opens 8:30AM Tue',\n",
              "       'Closes soon ⋅ 11PM ⋅ Opens 11AM Mon',\n",
              "       'Closes soon ⋅ 9:30PM ⋅ Opens 11AM Mon',\n",
              "       'Closes soon ⋅ 2AM ⋅ Reopens 11AM', 'Closed ⋅ Opens 11:30AM Sun',\n",
              "       'Closes soon ⋅ 5PM ⋅ Opens 7AM Sun',\n",
              "       'Closes soon ⋅ 12AM ⋅ Opens 8:30AM Sat', 'Closed',\n",
              "       'Closed ⋅ Opens 4:30PM Tue', 'Closes soon ⋅ 1AM ⋅ Reopens 9:30AM',\n",
              "       'Closed ⋅ Opens 1PM Thu', 'Closes soon ⋅ 6PM ⋅ Opens 11AM Wed',\n",
              "       'Closes soon ⋅ 8PM ⋅ Opens 7AM Tue', 'Closed ⋅ Opens 4:30AM',\n",
              "       'Closed ⋅ Opens 12PM Thu', 'Closes soon ⋅ 5PM ⋅ Opens 9AM Mon',\n",
              "       'Closed ⋅ Opens 6AM Sun', 'Closed ⋅ Opens 4AM Sat',\n",
              "       'Open ⋅ Closes 6:30PM', 'Open ⋅ Closes 11AM Sat',\n",
              "       'Closes soon ⋅ 10PM ⋅ Opens 4PM Fri'], dtype=object)"
            ]
          },
          "execution_count": 37,
          "metadata": {},
          "output_type": "execute_result"
        }
      ],
      "source": [
        "df6.state.unique()"
      ]
    },
    {
      "cell_type": "code",
      "execution_count": 38,
      "metadata": {
        "id": "ukw1aTJ0gByi"
      },
      "outputs": [],
      "source": [
        "# Saco los registros de restaurantes ya cerrados\n",
        "\n",
        "df6 = df6[df6[\"state\"]!= \"Permanently closed\"]"
      ]
    },
    {
      "cell_type": "code",
      "execution_count": 39,
      "metadata": {
        "colab": {
          "base_uri": "https://localhost:8080/"
        },
        "id": "h1VyWMIkrWGu",
        "outputId": "a1752e08-fb23-4509-bdc8-47c1faf53da2"
      },
      "outputs": [
        {
          "data": {
            "text/plain": [
              "(580926, 16)"
            ]
          },
          "execution_count": 39,
          "metadata": {},
          "output_type": "execute_result"
        }
      ],
      "source": [
        "df6.shape"
      ]
    },
    {
      "cell_type": "markdown",
      "metadata": {
        "id": "gx9TuTPAipwM"
      },
      "source": [
        "Estos estan cerrados, si bien puede ser que se re ubicaron o cerraron completamente, las reviews crreo que no habria que contemplarlas, ya que la experiencia en ese lugar y con esa atencion fue recibida en esos establecimientos. Por ejemplo Sarku sigue vigente pero en otro lugares, casa lario cerro, etc"
      ]
    },
    {
      "cell_type": "code",
      "execution_count": 40,
      "metadata": {
        "colab": {
          "base_uri": "https://localhost:8080/"
        },
        "id": "yCJtxImSFGtF",
        "outputId": "854be1d4-970c-4e4a-dfb9-3f9d1620dff4"
      },
      "outputs": [
        {
          "data": {
            "text/plain": [
              "McDonald's                          36700\n",
              "Wendy's                             11079\n",
              "Chick-fil-A                          9248\n",
              "Cracker Barrel Old Country Store     8412\n",
              "IHOP                                 8107\n",
              "                                    ...  \n",
              "Coral Gate Café                         3\n",
              "Broadway Cafe                           3\n",
              "La Zeta Mexicana                        3\n",
              "Antojos Boricuas II                     3\n",
              "La Lunita Coffee Shop                   2\n",
              "Name: business_name, Length: 2894, dtype: int64"
            ]
          },
          "execution_count": 40,
          "metadata": {},
          "output_type": "execute_result"
        }
      ],
      "source": [
        "restaurants = df6.business_name.value_counts()\n",
        "restaurants"
      ]
    },
    {
      "cell_type": "code",
      "execution_count": 41,
      "metadata": {
        "colab": {
          "base_uri": "https://localhost:8080/"
        },
        "id": "TkxovPDJGoPu",
        "outputId": "4ba50efa-3c1a-41ed-d68f-13813b6e7a46"
      },
      "outputs": [
        {
          "data": {
            "text/plain": [
              "McDonald's                            36700\n",
              "Wendy's                               11079\n",
              "Chick-fil-A                            9248\n",
              "Cracker Barrel Old Country Store       8412\n",
              "IHOP                                   8107\n",
              "                                      ...  \n",
              "Bodega Olé                               11\n",
              "The Taco Joint                           11\n",
              "The Bang Shack                           11\n",
              "Odaly's Delight Café                     11\n",
              "La Nueva Banana Restaurant & grill       11\n",
              "Name: business_name, Length: 2347, dtype: int64"
            ]
          },
          "execution_count": 41,
          "metadata": {},
          "output_type": "execute_result"
        }
      ],
      "source": [
        "restaurants[restaurants>10]"
      ]
    },
    {
      "cell_type": "markdown",
      "metadata": {
        "id": "wEyK6mgUG6ya"
      },
      "source": [
        "Hay algunos restaurantes que son cadenas como podemos ver arriba"
      ]
    },
    {
      "cell_type": "code",
      "execution_count": 42,
      "metadata": {
        "colab": {
          "base_uri": "https://localhost:8080/"
        },
        "id": "_OD0ps15G3s3",
        "outputId": "0b8b609c-70b8-46d3-e5dc-9f11660e7200"
      },
      "outputs": [
        {
          "data": {
            "text/plain": [
              "1          ['Honduran restaurant']\n",
              "2          ['Honduran restaurant']\n",
              "3          ['Honduran restaurant']\n",
              "4          ['Honduran restaurant']\n",
              "5          ['Honduran restaurant']\n",
              "                    ...           \n",
              "1005897     ['Italian restaurant']\n",
              "1005898     ['Italian restaurant']\n",
              "1005899     ['Italian restaurant']\n",
              "1005900     ['Italian restaurant']\n",
              "1005901     ['Italian restaurant']\n",
              "Name: category, Length: 580926, dtype: object"
            ]
          },
          "execution_count": 42,
          "metadata": {},
          "output_type": "execute_result"
        }
      ],
      "source": [
        "df6.category"
      ]
    },
    {
      "cell_type": "code",
      "execution_count": 43,
      "metadata": {
        "colab": {
          "base_uri": "https://localhost:8080/"
        },
        "id": "EK74f0c-HESj",
        "outputId": "cbf44fc8-df3d-4fdf-de8d-5f6d4858a663"
      },
      "outputs": [
        {
          "name": "stdout",
          "output_type": "stream",
          "text": [
            "                                                                                                                     Category  \\\n",
            "0         ['Fast food restaurant' 'Breakfast restaurant' 'Coffee shop'\\n 'Hamburger restaurant' 'Restaurant' 'Sandwich shop']   \n",
            "1                                                                                                              ['Restaurant']   \n",
            "2                                                                ['Fast food restaurant' 'Hamburger restaurant' 'Restaurant']   \n",
            "3                                                                                                      ['Seafood restaurant']   \n",
            "4     ['Fast food restaurant' 'Breakfast restaurant' 'Caterer'\\n 'Chicken restaurant' 'Delivery service' 'Family restaurant']   \n",
            "...                                                                                                                       ...   \n",
            "1390                                                                                ['Cuban restaurant' 'Takeout Restaurant']   \n",
            "1391                                                                                      ['Cuban restaurant' 'Banquet hall']   \n",
            "1392                                                       ['Bistro' 'Breakfast restaurant' 'Coffee shop' 'Lunch restaurant']   \n",
            "1393               ['Sandwich shop' 'Deli' 'Dessert shop' 'Takeout Restaurant' 'Restaurant'\\n 'Salad shop' 'Soup restaurant']   \n",
            "1394          ['Pizza restaurant' 'Caterer' 'Delivery service' 'Italian restaurant'\\n 'Pasta shop' 'Restaurant' 'Salad shop']   \n",
            "\n",
            "      Count  \n",
            "0     36322  \n",
            "1     13953  \n",
            "2     11299  \n",
            "3      9357  \n",
            "4      9232  \n",
            "...     ...  \n",
            "1390      5  \n",
            "1391      4  \n",
            "1392      4  \n",
            "1393      4  \n",
            "1394      3  \n",
            "\n",
            "[1395 rows x 2 columns]\n"
          ]
        }
      ],
      "source": [
        "# Explode the column into separate rows\n",
        "df_exploded = df6.explode('category')\n",
        "\n",
        "# Perform value counts to see all the categories\n",
        "value_counts = df_exploded['category'].value_counts().reset_index()\n",
        "value_counts.columns = ['Category', 'Count']\n",
        "\n",
        "# Display the result\n",
        "print(value_counts)"
      ]
    },
    {
      "cell_type": "code",
      "execution_count": 44,
      "metadata": {
        "colab": {
          "base_uri": "https://localhost:8080/"
        },
        "id": "8ZTDsvboNcvo",
        "outputId": "e06eff8f-cdbc-4d6a-c7f7-deb65648beed"
      },
      "outputs": [
        {
          "data": {
            "text/plain": [
              "array([\"['Honduran restaurant']\", \"['Restaurant']\",\n",
              "       \"['Jamaican restaurant']\", ..., \"['Restaurant' 'Bar' 'Cafe']\",\n",
              "       \"['Seafood restaurant' 'Cajun restaurant']\",\n",
              "       \"['Ice cream shop' 'Churreria' 'Coffee shop' 'Hot dog restaurant'\\n 'Sandwich shop' 'Soft drinks shop']\"],\n",
              "      dtype=object)"
            ]
          },
          "execution_count": 44,
          "metadata": {},
          "output_type": "execute_result"
        }
      ],
      "source": [
        "df_exploded.category.unique()"
      ]
    },
    {
      "cell_type": "markdown",
      "metadata": {
        "id": "h6X3HsDFUtLP"
      },
      "source": [
        "Van estas categorias??\n",
        "\n",
        "- Caterer\n",
        "- 'Fruit and vegetable store'\n",
        "-  'Juice shop'\n",
        "- 'Event planner'\n",
        "- 'Party equipment rental service'\n",
        "- 'Gas station'\n",
        "- 'Alternative fuel station'\n",
        "- 'ATM'\n",
        "- 'Convenience store'\n",
        "- 'Electric vehicle charging station'\n",
        "- 'Catering'\n",
        "- 'Fire protection service'\n",
        "- HVAC contractor\n",
        "- 'Restaurant supply store'\n",
        "- Appliance parts supplier\n",
        "- 'Appliance store'\n",
        "- 'Commercial refrigerator supplier'\n",
        "- 'Industrial equipment supplier'\n",
        "- 'Kitchen supply store'\n",
        "- 'Small appliance repair service'\n",
        "- 'Used appliance store'\n",
        "- Wellness center\n",
        "- 'Acupuncture clinic'}\n",
        "- 'Alternative medicine practitioner'\n",
        "- 'Fitness center'\n",
        "- 'Hair salon'\n",
        "- 'Holistic medicine practitioner\n",
        "- 'Meditation center\n",
        "- 'Pilates studio'\n",
        "- 'Yoga studio'\n",
        "- 'Health spa'\n",
        "- 'Spa and health club'\n",
        "- 'Grocery store'\n",
        "- 'Book store'\n",
        "- 'Vitamin & supplements store'\n",
        "- 'Car wash'\n",
        "- 'Banner store'\n",
        "- 'Digital printing service'\n",
        "- 'Print shop'\n",
        "-  'Market\n",
        "- 'Dollar store'\n",
        "- 'Discount store'\n",
        "- 'General store'\n",
        "- 'Home goods store'\n",
        "- 'Office supply store'\n",
        "- 'Party store'\n",
        "- 'School supply store'\n",
        "- 'Variety store'\n",
        "- 'Software company'\n",
        "- 'Accounting software company'\n",
        "- 'Business to business service'\n",
        "- 'Computer networking center'\n",
        "- 'Financial institution'\n",
        "-  'Website designer'\n",
        "- 'Performing arts group'\n",
        "- 'Service establishment'\n",
        "- 'Mobile caterer'\n",
        "- 'Box lunch supplier'\n",
        "- 'Indoor playground'\n",
        "-  \"Children's party service\"\n",
        "- 'Park'\n",
        "- 'Playground'\n",
        "- 'Video arcade'\n",
        "- 'Manufacturer'\n",
        "- 'Horseback riding service'\n",
        "- 'Pony ride service'\n",
        "- 'Fresh food market'\n",
        "- 'Tourist attraction'\n",
        "- 'Weight loss service'\n",
        "-  'Eating disorder treatment center'\n",
        "- 'Wi-Fi spot'\n",
        "- 'Butcher shop'\n",
        "- 'Hotel'\n",
        "-  'Resort hotel'\n",
        "- 'Dance club'\n",
        "- 'Airline ticket agency'\n",
        "-  'Courier service'\n",
        "- 'Gift shop'\n",
        "- 'Money transfer service'\n",
        "-   'Shipping service'\n",
        "- 'Gym'\n",
        "- 'Gymnastics center'\n",
        "- 'Parkour spot'\n",
        "- 'Rock climbing gym'\n",
        "- 'Market operator'\n",
        "- 'Grocery delivery service'\n",
        "-   'Appliance repair service'\n",
        "- 'Store'\n",
        "- 'Condiments supplier'\n",
        "- 'Recreation center'\n",
        "- 'Stadium'\n",
        "- 'Plaza'\n",
        "- \"Children's amusement center\"\n",
        "- 'Art gallery'\n",
        "- 'Musical club'\n",
        "- 'Rock music club'\n",
        "-   'Wellness program'\n",
        "- 'Liquor store'\n",
        "-   'Candy store'\n",
        "- 'Gas company'\n",
        "- 'Wedding venue'\n",
        "- 'Hookah store'\n",
        "- 'Party planner'\n",
        "- 'Produce wholesaler'\n",
        "- 'Wholesale grocer'\n",
        "-  'Drive-in movie theater'\n",
        "- 'Coaching center'\n",
        "- 'Chocolate shop'\n",
        "- 'Corporate office'\n",
        "-  'Flower delivery'\n",
        "- 'Milk delivery service'\n",
        "- 'Adult entertainment club'\n",
        "- 'Boutique'\n",
        "- 'Clothing store'\n",
        "-   'Furniture store'\n",
        "- 'Vintage clothing store'\n",
        "- 'Shopping mall'\n",
        "-   'Movie theater'\n",
        "- 'Wholesale market'\n",
        "- 'Dry ice supplier'\n",
        "-   'Chemical wholesaler'\n",
        "- 'Industrial gas supplier'\n",
        "- 'Stage'\n",
        "-   'Amusement center'\n",
        "- 'Wedding buffet'\n",
        "- Food producer\n",
        "     "
      ]
    },
    {
      "cell_type": "code",
      "execution_count": 45,
      "metadata": {
        "id": "L2cQ3c4ae1Z5"
      },
      "outputs": [],
      "source": [
        "categories_not_to_include = [\"Caterer\", 'Fruit and vegetable store', 'Juice shop', 'Event planner', 'Party equipment rental service', 'Gas station', 'Alternative fuel station', 'ATM', 'Convenience store', 'Electric vehicle charging station', 'Catering', 'Fire protection service', 'HVAC contractor', 'Restaurant supply store',\n",
        "'Appliance parts supplier', 'Appliance store', 'Commercial refrigerator supplier', 'Industrial equipment supplier', 'Kitchen supply store', 'Small appliance repair service', 'Used appliance store', 'Wellness center', 'Acupuncture clinic', 'Alternative medicine practitioner', 'Fitness center',\n",
        "'Hair salon', 'Holistic medicine practitioner', 'Meditation center', 'Pilates studio', 'Yoga studio', 'Health spa', 'Spa and health club', 'Grocery store', 'Book store', 'Vitamin & supplements store', 'Car wash', 'Banner store', 'Digital printing service' , 'Print shop',  'Market', 'Dollar store',\n",
        "'Discount store', 'General store', 'Home goods store', 'Office supply store', 'Party store', 'School supply store', 'Variety store', 'Software company', 'Accounting software company', 'Business to business service', 'Computer networking center', 'Financial institution',  'Website designer', 'Performing arts group'\n",
        ", 'Service establishment', 'Mobile caterer', 'Box lunch supplier', 'Indoor playground',  \"Children's party service\", 'Park', 'Playground', 'Video arcade', 'Manufacturer', 'Horseback riding service', 'Pony ride service', 'Fresh food market', 'Tourist attraction', 'Weight loss service', 'Eating disorder treatment center'\n",
        ", 'Wi,Fi spot', 'Butcher shop', 'Hotel',  'Resort hotel',  'Airline ticket agency',  'Courier service', 'Gift shop', 'Money transfer service',   'Shipping service', 'Gym', 'Gymnastics center', 'Parkour spot', 'Rock climbing gym', 'Market operator', 'Grocery delivery service','Appliance repair service'\n",
        ", 'Store', 'Condiments supplier', 'Recreation center', 'Stadium', 'Plaza', \"Children's amusement center\", 'Art gallery',   'Wellness program', 'Liquor store',   'Candy store', 'Gas company', 'Wedding venue', 'Hookah store', 'Party planner', 'Produce wholesaler', 'Wholesale grocer'\n",
        ",  'Drive-in movie theater', 'Coaching center', 'Chocolate shop', 'Corporate office',  'Flower delivery', 'Milk delivery service', 'Adult entertainment club', 'Boutique', 'Clothing store',   'Furniture store', 'Vintage clothing store', 'Shopping mall',   'Movie theater', 'Wholesale market', 'Dry ice supplier'\n",
        ",   'Chemical wholesaler', 'Industrial gas supplier', 'Stage',   'Amusement center', 'Wedding buffet', 'Food producer']"
      ]
    },
    {
      "cell_type": "code",
      "execution_count": 46,
      "metadata": {
        "colab": {
          "base_uri": "https://localhost:8080/",
          "height": 479
        },
        "id": "brA9-XCjjzEi",
        "outputId": "19bb2b29-eb61-4ef2-c0c9-a1089794cd1e"
      },
      "outputs": [
        {
          "data": {
            "text/html": [
              "<div>\n",
              "<style scoped>\n",
              "    .dataframe tbody tr th:only-of-type {\n",
              "        vertical-align: middle;\n",
              "    }\n",
              "\n",
              "    .dataframe tbody tr th {\n",
              "        vertical-align: top;\n",
              "    }\n",
              "\n",
              "    .dataframe thead th {\n",
              "        text-align: right;\n",
              "    }\n",
              "</style>\n",
              "<table border=\"1\" class=\"dataframe\">\n",
              "  <thead>\n",
              "    <tr style=\"text-align: right;\">\n",
              "      <th></th>\n",
              "      <th>business_name</th>\n",
              "      <th>address</th>\n",
              "      <th>description</th>\n",
              "      <th>latitude</th>\n",
              "      <th>longitude</th>\n",
              "      <th>category</th>\n",
              "      <th>avg_rating</th>\n",
              "      <th>num_of_reviews</th>\n",
              "      <th>price</th>\n",
              "      <th>hours</th>\n",
              "      <th>MISC</th>\n",
              "      <th>state</th>\n",
              "      <th>user_name</th>\n",
              "      <th>time</th>\n",
              "      <th>rating</th>\n",
              "      <th>text</th>\n",
              "    </tr>\n",
              "  </thead>\n",
              "  <tbody>\n",
              "    <tr>\n",
              "      <th>560</th>\n",
              "      <td>Subway</td>\n",
              "      <td>Subway, 5555 Golden Gate Pkwy Unit 113, Naples, FL 34116</td>\n",
              "      <td>Casual counter-serve chain for build-your-own sandwiches &amp; salads, with health-conscious options.</td>\n",
              "      <td>26.175061</td>\n",
              "      <td>-81.717576</td>\n",
              "      <td>['Sandwich shop' 'Caterer' 'Fast food restaurant' 'Takeout Restaurant'\\n 'Restaurant']</td>\n",
              "      <td>3.5</td>\n",
              "      <td>98</td>\n",
              "      <td>$</td>\n",
              "      <td>[[Thursday, 9AM–9PM], [Friday, 9AM–9PM], [Saturday, 9AM–9PM], [Sunday, 9AM–9PM], [Monday, 9AM–9PM], [Tuesday, 9AM–9PM], [Wednesday, 9AM–9PM]]</td>\n",
              "      <td>{'Accessibility': None, 'Activities': None, 'Amenities': None, 'Atmosphere': None, 'Crowd': None, 'Dining options': ['Lunch', 'Catering'], 'From the business': None, 'Getting here': None, 'Health &amp; safety': None, 'Health and safety': None, 'Highlights': None, 'Lodging options': None, 'Offerings'...</td>\n",
              "      <td>Open ⋅ Closes 9PM</td>\n",
              "      <td>Jay Hadding</td>\n",
              "      <td>13/02/2019</td>\n",
              "      <td>4.0</td>\n",
              "      <td>Nana's Diner move next to Subway Subway is actually really good but the picture West from Nana's Diner and they're really good also</td>\n",
              "    </tr>\n",
              "    <tr>\n",
              "      <th>561</th>\n",
              "      <td>Subway</td>\n",
              "      <td>Subway, 5555 Golden Gate Pkwy Unit 113, Naples, FL 34116</td>\n",
              "      <td>Casual counter-serve chain for build-your-own sandwiches &amp; salads, with health-conscious options.</td>\n",
              "      <td>26.175061</td>\n",
              "      <td>-81.717576</td>\n",
              "      <td>['Sandwich shop' 'Caterer' 'Fast food restaurant' 'Takeout Restaurant'\\n 'Restaurant']</td>\n",
              "      <td>3.5</td>\n",
              "      <td>98</td>\n",
              "      <td>$</td>\n",
              "      <td>[[Thursday, 9AM–9PM], [Friday, 9AM–9PM], [Saturday, 9AM–9PM], [Sunday, 9AM–9PM], [Monday, 9AM–9PM], [Tuesday, 9AM–9PM], [Wednesday, 9AM–9PM]]</td>\n",
              "      <td>{'Accessibility': None, 'Activities': None, 'Amenities': None, 'Atmosphere': None, 'Crowd': None, 'Dining options': ['Lunch', 'Catering'], 'From the business': None, 'Getting here': None, 'Health &amp; safety': None, 'Health and safety': None, 'Highlights': None, 'Lodging options': None, 'Offerings'...</td>\n",
              "      <td>Open ⋅ Closes 9PM</td>\n",
              "      <td>Janine Dorbad</td>\n",
              "      <td>08/05/2021</td>\n",
              "      <td>5.0</td>\n",
              "      <td>Loved the steak n cheese sub with an array of delicious  sauces  on your sub</td>\n",
              "    </tr>\n",
              "    <tr>\n",
              "      <th>562</th>\n",
              "      <td>Subway</td>\n",
              "      <td>Subway, 5555 Golden Gate Pkwy Unit 113, Naples, FL 34116</td>\n",
              "      <td>Casual counter-serve chain for build-your-own sandwiches &amp; salads, with health-conscious options.</td>\n",
              "      <td>26.175061</td>\n",
              "      <td>-81.717576</td>\n",
              "      <td>['Sandwich shop' 'Caterer' 'Fast food restaurant' 'Takeout Restaurant'\\n 'Restaurant']</td>\n",
              "      <td>3.5</td>\n",
              "      <td>98</td>\n",
              "      <td>$</td>\n",
              "      <td>[[Thursday, 9AM–9PM], [Friday, 9AM–9PM], [Saturday, 9AM–9PM], [Sunday, 9AM–9PM], [Monday, 9AM–9PM], [Tuesday, 9AM–9PM], [Wednesday, 9AM–9PM]]</td>\n",
              "      <td>{'Accessibility': None, 'Activities': None, 'Amenities': None, 'Atmosphere': None, 'Crowd': None, 'Dining options': ['Lunch', 'Catering'], 'From the business': None, 'Getting here': None, 'Health &amp; safety': None, 'Health and safety': None, 'Highlights': None, 'Lodging options': None, 'Offerings'...</td>\n",
              "      <td>Open ⋅ Closes 9PM</td>\n",
              "      <td>KEN ST</td>\n",
              "      <td>14/01/2021</td>\n",
              "      <td>1.0</td>\n",
              "      <td>Very poor customer service. The lady wouldnt get off the phone. I couldnt tell if she was talking to me or the person on the phone. Dont go here. Try slicers on Pineridge.</td>\n",
              "    </tr>\n",
              "    <tr>\n",
              "      <th>563</th>\n",
              "      <td>Subway</td>\n",
              "      <td>Subway, 5555 Golden Gate Pkwy Unit 113, Naples, FL 34116</td>\n",
              "      <td>Casual counter-serve chain for build-your-own sandwiches &amp; salads, with health-conscious options.</td>\n",
              "      <td>26.175061</td>\n",
              "      <td>-81.717576</td>\n",
              "      <td>['Sandwich shop' 'Caterer' 'Fast food restaurant' 'Takeout Restaurant'\\n 'Restaurant']</td>\n",
              "      <td>3.5</td>\n",
              "      <td>98</td>\n",
              "      <td>$</td>\n",
              "      <td>[[Thursday, 9AM–9PM], [Friday, 9AM–9PM], [Saturday, 9AM–9PM], [Sunday, 9AM–9PM], [Monday, 9AM–9PM], [Tuesday, 9AM–9PM], [Wednesday, 9AM–9PM]]</td>\n",
              "      <td>{'Accessibility': None, 'Activities': None, 'Amenities': None, 'Atmosphere': None, 'Crowd': None, 'Dining options': ['Lunch', 'Catering'], 'From the business': None, 'Getting here': None, 'Health &amp; safety': None, 'Health and safety': None, 'Highlights': None, 'Lodging options': None, 'Offerings'...</td>\n",
              "      <td>Open ⋅ Closes 9PM</td>\n",
              "      <td>Jordy</td>\n",
              "      <td>05/03/2021</td>\n",
              "      <td>1.0</td>\n",
              "      <td>Little old lady that works here is turning away customers with her attitude. Her coworker is just as bad. No cares given.</td>\n",
              "    </tr>\n",
              "    <tr>\n",
              "      <th>564</th>\n",
              "      <td>Subway</td>\n",
              "      <td>Subway, 5555 Golden Gate Pkwy Unit 113, Naples, FL 34116</td>\n",
              "      <td>Casual counter-serve chain for build-your-own sandwiches &amp; salads, with health-conscious options.</td>\n",
              "      <td>26.175061</td>\n",
              "      <td>-81.717576</td>\n",
              "      <td>['Sandwich shop' 'Caterer' 'Fast food restaurant' 'Takeout Restaurant'\\n 'Restaurant']</td>\n",
              "      <td>3.5</td>\n",
              "      <td>98</td>\n",
              "      <td>$</td>\n",
              "      <td>[[Thursday, 9AM–9PM], [Friday, 9AM–9PM], [Saturday, 9AM–9PM], [Sunday, 9AM–9PM], [Monday, 9AM–9PM], [Tuesday, 9AM–9PM], [Wednesday, 9AM–9PM]]</td>\n",
              "      <td>{'Accessibility': None, 'Activities': None, 'Amenities': None, 'Atmosphere': None, 'Crowd': None, 'Dining options': ['Lunch', 'Catering'], 'From the business': None, 'Getting here': None, 'Health &amp; safety': None, 'Health and safety': None, 'Highlights': None, 'Lodging options': None, 'Offerings'...</td>\n",
              "      <td>Open ⋅ Closes 9PM</td>\n",
              "      <td>Bourbon Hunter</td>\n",
              "      <td>04/01/2021</td>\n",
              "      <td>1.0</td>\n",
              "      <td>Yelled at me and told me to leave if I don’t have a mask rite when walking through the door even tho there is no law in Florida saying that despite what Naples says.</td>\n",
              "    </tr>\n",
              "  </tbody>\n",
              "</table>\n",
              "</div>"
            ],
            "text/plain": [
              "    business_name                                                   address  \\\n",
              "560        Subway  Subway, 5555 Golden Gate Pkwy Unit 113, Naples, FL 34116   \n",
              "561        Subway  Subway, 5555 Golden Gate Pkwy Unit 113, Naples, FL 34116   \n",
              "562        Subway  Subway, 5555 Golden Gate Pkwy Unit 113, Naples, FL 34116   \n",
              "563        Subway  Subway, 5555 Golden Gate Pkwy Unit 113, Naples, FL 34116   \n",
              "564        Subway  Subway, 5555 Golden Gate Pkwy Unit 113, Naples, FL 34116   \n",
              "\n",
              "                                                                                           description  \\\n",
              "560  Casual counter-serve chain for build-your-own sandwiches & salads, with health-conscious options.   \n",
              "561  Casual counter-serve chain for build-your-own sandwiches & salads, with health-conscious options.   \n",
              "562  Casual counter-serve chain for build-your-own sandwiches & salads, with health-conscious options.   \n",
              "563  Casual counter-serve chain for build-your-own sandwiches & salads, with health-conscious options.   \n",
              "564  Casual counter-serve chain for build-your-own sandwiches & salads, with health-conscious options.   \n",
              "\n",
              "      latitude  longitude  \\\n",
              "560  26.175061 -81.717576   \n",
              "561  26.175061 -81.717576   \n",
              "562  26.175061 -81.717576   \n",
              "563  26.175061 -81.717576   \n",
              "564  26.175061 -81.717576   \n",
              "\n",
              "                                                                                   category  \\\n",
              "560  ['Sandwich shop' 'Caterer' 'Fast food restaurant' 'Takeout Restaurant'\\n 'Restaurant']   \n",
              "561  ['Sandwich shop' 'Caterer' 'Fast food restaurant' 'Takeout Restaurant'\\n 'Restaurant']   \n",
              "562  ['Sandwich shop' 'Caterer' 'Fast food restaurant' 'Takeout Restaurant'\\n 'Restaurant']   \n",
              "563  ['Sandwich shop' 'Caterer' 'Fast food restaurant' 'Takeout Restaurant'\\n 'Restaurant']   \n",
              "564  ['Sandwich shop' 'Caterer' 'Fast food restaurant' 'Takeout Restaurant'\\n 'Restaurant']   \n",
              "\n",
              "     avg_rating  num_of_reviews price  \\\n",
              "560         3.5              98     $   \n",
              "561         3.5              98     $   \n",
              "562         3.5              98     $   \n",
              "563         3.5              98     $   \n",
              "564         3.5              98     $   \n",
              "\n",
              "                                                                                                                                             hours  \\\n",
              "560  [[Thursday, 9AM–9PM], [Friday, 9AM–9PM], [Saturday, 9AM–9PM], [Sunday, 9AM–9PM], [Monday, 9AM–9PM], [Tuesday, 9AM–9PM], [Wednesday, 9AM–9PM]]   \n",
              "561  [[Thursday, 9AM–9PM], [Friday, 9AM–9PM], [Saturday, 9AM–9PM], [Sunday, 9AM–9PM], [Monday, 9AM–9PM], [Tuesday, 9AM–9PM], [Wednesday, 9AM–9PM]]   \n",
              "562  [[Thursday, 9AM–9PM], [Friday, 9AM–9PM], [Saturday, 9AM–9PM], [Sunday, 9AM–9PM], [Monday, 9AM–9PM], [Tuesday, 9AM–9PM], [Wednesday, 9AM–9PM]]   \n",
              "563  [[Thursday, 9AM–9PM], [Friday, 9AM–9PM], [Saturday, 9AM–9PM], [Sunday, 9AM–9PM], [Monday, 9AM–9PM], [Tuesday, 9AM–9PM], [Wednesday, 9AM–9PM]]   \n",
              "564  [[Thursday, 9AM–9PM], [Friday, 9AM–9PM], [Saturday, 9AM–9PM], [Sunday, 9AM–9PM], [Monday, 9AM–9PM], [Tuesday, 9AM–9PM], [Wednesday, 9AM–9PM]]   \n",
              "\n",
              "                                                                                                                                                                                                                                                                                                            MISC  \\\n",
              "560  {'Accessibility': None, 'Activities': None, 'Amenities': None, 'Atmosphere': None, 'Crowd': None, 'Dining options': ['Lunch', 'Catering'], 'From the business': None, 'Getting here': None, 'Health & safety': None, 'Health and safety': None, 'Highlights': None, 'Lodging options': None, 'Offerings'...   \n",
              "561  {'Accessibility': None, 'Activities': None, 'Amenities': None, 'Atmosphere': None, 'Crowd': None, 'Dining options': ['Lunch', 'Catering'], 'From the business': None, 'Getting here': None, 'Health & safety': None, 'Health and safety': None, 'Highlights': None, 'Lodging options': None, 'Offerings'...   \n",
              "562  {'Accessibility': None, 'Activities': None, 'Amenities': None, 'Atmosphere': None, 'Crowd': None, 'Dining options': ['Lunch', 'Catering'], 'From the business': None, 'Getting here': None, 'Health & safety': None, 'Health and safety': None, 'Highlights': None, 'Lodging options': None, 'Offerings'...   \n",
              "563  {'Accessibility': None, 'Activities': None, 'Amenities': None, 'Atmosphere': None, 'Crowd': None, 'Dining options': ['Lunch', 'Catering'], 'From the business': None, 'Getting here': None, 'Health & safety': None, 'Health and safety': None, 'Highlights': None, 'Lodging options': None, 'Offerings'...   \n",
              "564  {'Accessibility': None, 'Activities': None, 'Amenities': None, 'Atmosphere': None, 'Crowd': None, 'Dining options': ['Lunch', 'Catering'], 'From the business': None, 'Getting here': None, 'Health & safety': None, 'Health and safety': None, 'Highlights': None, 'Lodging options': None, 'Offerings'...   \n",
              "\n",
              "                 state       user_name        time  rating  \\\n",
              "560  Open ⋅ Closes 9PM     Jay Hadding  13/02/2019     4.0   \n",
              "561  Open ⋅ Closes 9PM   Janine Dorbad  08/05/2021     5.0   \n",
              "562  Open ⋅ Closes 9PM          KEN ST  14/01/2021     1.0   \n",
              "563  Open ⋅ Closes 9PM           Jordy  05/03/2021     1.0   \n",
              "564  Open ⋅ Closes 9PM  Bourbon Hunter  04/01/2021     1.0   \n",
              "\n",
              "                                                                                                                                                                            text  \n",
              "560                                          Nana's Diner move next to Subway Subway is actually really good but the picture West from Nana's Diner and they're really good also  \n",
              "561                                                                                                 Loved the steak n cheese sub with an array of delicious  sauces  on your sub  \n",
              "562  Very poor customer service. The lady wouldnt get off the phone. I couldnt tell if she was talking to me or the person on the phone. Dont go here. Try slicers on Pineridge.  \n",
              "563                                                    Little old lady that works here is turning away customers with her attitude. Her coworker is just as bad. No cares given.  \n",
              "564        Yelled at me and told me to leave if I don’t have a mask rite when walking through the door even tho there is no law in Florida saying that despite what Naples says.  "
            ]
          },
          "execution_count": 46,
          "metadata": {},
          "output_type": "execute_result"
        }
      ],
      "source": [
        "# Filter the DataFrame to exclude categories_not_to_include\n",
        "#filtered_df = df6[~df6['category'].apply(lambda x: any(cat in x for cat in categories_not_to_include))]\n",
        "filtered_df = df6[df6['category'].apply(lambda x: any(cat in x for cat in categories_not_to_include))]\n",
        "\n",
        "# Display the filtered DataFrame\n",
        "filtered_df.head()\n"
      ]
    },
    {
      "cell_type": "code",
      "execution_count": 47,
      "metadata": {
        "id": "_FxS1swCrs4f"
      },
      "outputs": [],
      "source": [
        "pd.set_option('display.max_colwidth', 300)\n",
        "# Set the option to display all columns\n",
        "pd.set_option('display.max_columns', None)"
      ]
    },
    {
      "cell_type": "markdown",
      "metadata": {
        "id": "YQluAFxiOYLT"
      },
      "source": [
        " Pongo a verme los registros a ver si realmente sirven o no esas categorias que a priori parecen erroneas o al menos no de nuestro interes"
      ]
    },
    {
      "cell_type": "code",
      "execution_count": 48,
      "metadata": {
        "colab": {
          "base_uri": "https://localhost:8080/",
          "height": 1000
        },
        "id": "loe5IcW-pfW0",
        "outputId": "3530e74e-3238-416e-fc06-90bc726fa6eb"
      },
      "outputs": [
        {
          "data": {
            "text/html": [
              "<div>\n",
              "<style scoped>\n",
              "    .dataframe tbody tr th:only-of-type {\n",
              "        vertical-align: middle;\n",
              "    }\n",
              "\n",
              "    .dataframe tbody tr th {\n",
              "        vertical-align: top;\n",
              "    }\n",
              "\n",
              "    .dataframe thead th {\n",
              "        text-align: right;\n",
              "    }\n",
              "</style>\n",
              "<table border=\"1\" class=\"dataframe\">\n",
              "  <thead>\n",
              "    <tr style=\"text-align: right;\">\n",
              "      <th></th>\n",
              "      <th>business_name</th>\n",
              "      <th>category</th>\n",
              "    </tr>\n",
              "  </thead>\n",
              "  <tbody>\n",
              "    <tr>\n",
              "      <th>560</th>\n",
              "      <td>Subway</td>\n",
              "      <td>['Sandwich shop' 'Caterer' 'Fast food restaurant' 'Takeout Restaurant'\\n 'Restaurant']</td>\n",
              "    </tr>\n",
              "    <tr>\n",
              "      <th>561</th>\n",
              "      <td>Subway</td>\n",
              "      <td>['Sandwich shop' 'Caterer' 'Fast food restaurant' 'Takeout Restaurant'\\n 'Restaurant']</td>\n",
              "    </tr>\n",
              "    <tr>\n",
              "      <th>562</th>\n",
              "      <td>Subway</td>\n",
              "      <td>['Sandwich shop' 'Caterer' 'Fast food restaurant' 'Takeout Restaurant'\\n 'Restaurant']</td>\n",
              "    </tr>\n",
              "    <tr>\n",
              "      <th>563</th>\n",
              "      <td>Subway</td>\n",
              "      <td>['Sandwich shop' 'Caterer' 'Fast food restaurant' 'Takeout Restaurant'\\n 'Restaurant']</td>\n",
              "    </tr>\n",
              "    <tr>\n",
              "      <th>564</th>\n",
              "      <td>Subway</td>\n",
              "      <td>['Sandwich shop' 'Caterer' 'Fast food restaurant' 'Takeout Restaurant'\\n 'Restaurant']</td>\n",
              "    </tr>\n",
              "    <tr>\n",
              "      <th>565</th>\n",
              "      <td>Subway</td>\n",
              "      <td>['Sandwich shop' 'Caterer' 'Fast food restaurant' 'Takeout Restaurant'\\n 'Restaurant']</td>\n",
              "    </tr>\n",
              "    <tr>\n",
              "      <th>566</th>\n",
              "      <td>Subway</td>\n",
              "      <td>['Sandwich shop' 'Caterer' 'Fast food restaurant' 'Takeout Restaurant'\\n 'Restaurant']</td>\n",
              "    </tr>\n",
              "    <tr>\n",
              "      <th>567</th>\n",
              "      <td>Subway</td>\n",
              "      <td>['Sandwich shop' 'Caterer' 'Fast food restaurant' 'Takeout Restaurant'\\n 'Restaurant']</td>\n",
              "    </tr>\n",
              "    <tr>\n",
              "      <th>568</th>\n",
              "      <td>Subway</td>\n",
              "      <td>['Sandwich shop' 'Caterer' 'Fast food restaurant' 'Takeout Restaurant'\\n 'Restaurant']</td>\n",
              "    </tr>\n",
              "    <tr>\n",
              "      <th>569</th>\n",
              "      <td>Subway</td>\n",
              "      <td>['Sandwich shop' 'Caterer' 'Fast food restaurant' 'Takeout Restaurant'\\n 'Restaurant']</td>\n",
              "    </tr>\n",
              "    <tr>\n",
              "      <th>570</th>\n",
              "      <td>Subway</td>\n",
              "      <td>['Sandwich shop' 'Caterer' 'Fast food restaurant' 'Takeout Restaurant'\\n 'Restaurant']</td>\n",
              "    </tr>\n",
              "    <tr>\n",
              "      <th>571</th>\n",
              "      <td>Subway</td>\n",
              "      <td>['Sandwich shop' 'Caterer' 'Fast food restaurant' 'Takeout Restaurant'\\n 'Restaurant']</td>\n",
              "    </tr>\n",
              "    <tr>\n",
              "      <th>572</th>\n",
              "      <td>Subway</td>\n",
              "      <td>['Sandwich shop' 'Caterer' 'Fast food restaurant' 'Takeout Restaurant'\\n 'Restaurant']</td>\n",
              "    </tr>\n",
              "    <tr>\n",
              "      <th>573</th>\n",
              "      <td>Subway</td>\n",
              "      <td>['Sandwich shop' 'Caterer' 'Fast food restaurant' 'Takeout Restaurant'\\n 'Restaurant']</td>\n",
              "    </tr>\n",
              "    <tr>\n",
              "      <th>574</th>\n",
              "      <td>Subway</td>\n",
              "      <td>['Sandwich shop' 'Caterer' 'Fast food restaurant' 'Takeout Restaurant'\\n 'Restaurant']</td>\n",
              "    </tr>\n",
              "    <tr>\n",
              "      <th>575</th>\n",
              "      <td>Subway</td>\n",
              "      <td>['Sandwich shop' 'Caterer' 'Fast food restaurant' 'Takeout Restaurant'\\n 'Restaurant']</td>\n",
              "    </tr>\n",
              "    <tr>\n",
              "      <th>576</th>\n",
              "      <td>Subway</td>\n",
              "      <td>['Sandwich shop' 'Caterer' 'Fast food restaurant' 'Takeout Restaurant'\\n 'Restaurant']</td>\n",
              "    </tr>\n",
              "    <tr>\n",
              "      <th>577</th>\n",
              "      <td>Subway</td>\n",
              "      <td>['Sandwich shop' 'Caterer' 'Fast food restaurant' 'Takeout Restaurant'\\n 'Restaurant']</td>\n",
              "    </tr>\n",
              "    <tr>\n",
              "      <th>578</th>\n",
              "      <td>Subway</td>\n",
              "      <td>['Sandwich shop' 'Caterer' 'Fast food restaurant' 'Takeout Restaurant'\\n 'Restaurant']</td>\n",
              "    </tr>\n",
              "    <tr>\n",
              "      <th>579</th>\n",
              "      <td>Subway</td>\n",
              "      <td>['Sandwich shop' 'Caterer' 'Fast food restaurant' 'Takeout Restaurant'\\n 'Restaurant']</td>\n",
              "    </tr>\n",
              "    <tr>\n",
              "      <th>580</th>\n",
              "      <td>Subway</td>\n",
              "      <td>['Sandwich shop' 'Caterer' 'Fast food restaurant' 'Takeout Restaurant'\\n 'Restaurant']</td>\n",
              "    </tr>\n",
              "    <tr>\n",
              "      <th>581</th>\n",
              "      <td>Subway</td>\n",
              "      <td>['Sandwich shop' 'Caterer' 'Fast food restaurant' 'Takeout Restaurant'\\n 'Restaurant']</td>\n",
              "    </tr>\n",
              "    <tr>\n",
              "      <th>582</th>\n",
              "      <td>Subway</td>\n",
              "      <td>['Sandwich shop' 'Caterer' 'Fast food restaurant' 'Takeout Restaurant'\\n 'Restaurant']</td>\n",
              "    </tr>\n",
              "    <tr>\n",
              "      <th>583</th>\n",
              "      <td>Subway</td>\n",
              "      <td>['Sandwich shop' 'Caterer' 'Fast food restaurant' 'Takeout Restaurant'\\n 'Restaurant']</td>\n",
              "    </tr>\n",
              "    <tr>\n",
              "      <th>584</th>\n",
              "      <td>Subway</td>\n",
              "      <td>['Sandwich shop' 'Caterer' 'Fast food restaurant' 'Takeout Restaurant'\\n 'Restaurant']</td>\n",
              "    </tr>\n",
              "    <tr>\n",
              "      <th>585</th>\n",
              "      <td>Subway</td>\n",
              "      <td>['Sandwich shop' 'Caterer' 'Fast food restaurant' 'Takeout Restaurant'\\n 'Restaurant']</td>\n",
              "    </tr>\n",
              "    <tr>\n",
              "      <th>586</th>\n",
              "      <td>Subway</td>\n",
              "      <td>['Sandwich shop' 'Caterer' 'Fast food restaurant' 'Takeout Restaurant'\\n 'Restaurant']</td>\n",
              "    </tr>\n",
              "    <tr>\n",
              "      <th>587</th>\n",
              "      <td>Subway</td>\n",
              "      <td>['Sandwich shop' 'Caterer' 'Fast food restaurant' 'Takeout Restaurant'\\n 'Restaurant']</td>\n",
              "    </tr>\n",
              "    <tr>\n",
              "      <th>588</th>\n",
              "      <td>Subway</td>\n",
              "      <td>['Sandwich shop' 'Caterer' 'Fast food restaurant' 'Takeout Restaurant'\\n 'Restaurant']</td>\n",
              "    </tr>\n",
              "    <tr>\n",
              "      <th>589</th>\n",
              "      <td>Subway</td>\n",
              "      <td>['Sandwich shop' 'Caterer' 'Fast food restaurant' 'Takeout Restaurant'\\n 'Restaurant']</td>\n",
              "    </tr>\n",
              "    <tr>\n",
              "      <th>590</th>\n",
              "      <td>Subway</td>\n",
              "      <td>['Sandwich shop' 'Caterer' 'Fast food restaurant' 'Takeout Restaurant'\\n 'Restaurant']</td>\n",
              "    </tr>\n",
              "    <tr>\n",
              "      <th>591</th>\n",
              "      <td>Subway</td>\n",
              "      <td>['Sandwich shop' 'Caterer' 'Fast food restaurant' 'Takeout Restaurant'\\n 'Restaurant']</td>\n",
              "    </tr>\n",
              "    <tr>\n",
              "      <th>879</th>\n",
              "      <td>Perry's Original Roadside BBQ &amp; Catering</td>\n",
              "      <td>['Caterer' 'Barbecue restaurant' 'Takeout Restaurant']</td>\n",
              "    </tr>\n",
              "    <tr>\n",
              "      <th>880</th>\n",
              "      <td>Perry's Original Roadside BBQ &amp; Catering</td>\n",
              "      <td>['Caterer' 'Barbecue restaurant' 'Takeout Restaurant']</td>\n",
              "    </tr>\n",
              "    <tr>\n",
              "      <th>881</th>\n",
              "      <td>Perry's Original Roadside BBQ &amp; Catering</td>\n",
              "      <td>['Caterer' 'Barbecue restaurant' 'Takeout Restaurant']</td>\n",
              "    </tr>\n",
              "    <tr>\n",
              "      <th>882</th>\n",
              "      <td>Perry's Original Roadside BBQ &amp; Catering</td>\n",
              "      <td>['Caterer' 'Barbecue restaurant' 'Takeout Restaurant']</td>\n",
              "    </tr>\n",
              "    <tr>\n",
              "      <th>883</th>\n",
              "      <td>Perry's Original Roadside BBQ &amp; Catering</td>\n",
              "      <td>['Caterer' 'Barbecue restaurant' 'Takeout Restaurant']</td>\n",
              "    </tr>\n",
              "    <tr>\n",
              "      <th>884</th>\n",
              "      <td>Perry's Original Roadside BBQ &amp; Catering</td>\n",
              "      <td>['Caterer' 'Barbecue restaurant' 'Takeout Restaurant']</td>\n",
              "    </tr>\n",
              "    <tr>\n",
              "      <th>885</th>\n",
              "      <td>Perry's Original Roadside BBQ &amp; Catering</td>\n",
              "      <td>['Caterer' 'Barbecue restaurant' 'Takeout Restaurant']</td>\n",
              "    </tr>\n",
              "    <tr>\n",
              "      <th>886</th>\n",
              "      <td>Perry's Original Roadside BBQ &amp; Catering</td>\n",
              "      <td>['Caterer' 'Barbecue restaurant' 'Takeout Restaurant']</td>\n",
              "    </tr>\n",
              "    <tr>\n",
              "      <th>887</th>\n",
              "      <td>Perry's Original Roadside BBQ &amp; Catering</td>\n",
              "      <td>['Caterer' 'Barbecue restaurant' 'Takeout Restaurant']</td>\n",
              "    </tr>\n",
              "    <tr>\n",
              "      <th>888</th>\n",
              "      <td>Perry's Original Roadside BBQ &amp; Catering</td>\n",
              "      <td>['Caterer' 'Barbecue restaurant' 'Takeout Restaurant']</td>\n",
              "    </tr>\n",
              "    <tr>\n",
              "      <th>889</th>\n",
              "      <td>Perry's Original Roadside BBQ &amp; Catering</td>\n",
              "      <td>['Caterer' 'Barbecue restaurant' 'Takeout Restaurant']</td>\n",
              "    </tr>\n",
              "    <tr>\n",
              "      <th>890</th>\n",
              "      <td>Perry's Original Roadside BBQ &amp; Catering</td>\n",
              "      <td>['Caterer' 'Barbecue restaurant' 'Takeout Restaurant']</td>\n",
              "    </tr>\n",
              "    <tr>\n",
              "      <th>1067</th>\n",
              "      <td>Shell</td>\n",
              "      <td>['Gas station' 'Alternative fuel station' 'ATM' 'Car wash'\\n 'Convenience store' 'Electric vehicle charging station' 'Restaurant']</td>\n",
              "    </tr>\n",
              "    <tr>\n",
              "      <th>1068</th>\n",
              "      <td>Shell</td>\n",
              "      <td>['Gas station' 'Alternative fuel station' 'ATM' 'Car wash'\\n 'Convenience store' 'Electric vehicle charging station' 'Restaurant']</td>\n",
              "    </tr>\n",
              "    <tr>\n",
              "      <th>1069</th>\n",
              "      <td>Shell</td>\n",
              "      <td>['Gas station' 'Alternative fuel station' 'ATM' 'Car wash'\\n 'Convenience store' 'Electric vehicle charging station' 'Restaurant']</td>\n",
              "    </tr>\n",
              "    <tr>\n",
              "      <th>1070</th>\n",
              "      <td>Shell</td>\n",
              "      <td>['Gas station' 'Alternative fuel station' 'ATM' 'Car wash'\\n 'Convenience store' 'Electric vehicle charging station' 'Restaurant']</td>\n",
              "    </tr>\n",
              "    <tr>\n",
              "      <th>1071</th>\n",
              "      <td>Shell</td>\n",
              "      <td>['Gas station' 'Alternative fuel station' 'ATM' 'Car wash'\\n 'Convenience store' 'Electric vehicle charging station' 'Restaurant']</td>\n",
              "    </tr>\n",
              "    <tr>\n",
              "      <th>1072</th>\n",
              "      <td>Shell</td>\n",
              "      <td>['Gas station' 'Alternative fuel station' 'ATM' 'Car wash'\\n 'Convenience store' 'Electric vehicle charging station' 'Restaurant']</td>\n",
              "    </tr>\n",
              "  </tbody>\n",
              "</table>\n",
              "</div>"
            ],
            "text/plain": [
              "                                 business_name  \\\n",
              "560                                     Subway   \n",
              "561                                     Subway   \n",
              "562                                     Subway   \n",
              "563                                     Subway   \n",
              "564                                     Subway   \n",
              "565                                     Subway   \n",
              "566                                     Subway   \n",
              "567                                     Subway   \n",
              "568                                     Subway   \n",
              "569                                     Subway   \n",
              "570                                     Subway   \n",
              "571                                     Subway   \n",
              "572                                     Subway   \n",
              "573                                     Subway   \n",
              "574                                     Subway   \n",
              "575                                     Subway   \n",
              "576                                     Subway   \n",
              "577                                     Subway   \n",
              "578                                     Subway   \n",
              "579                                     Subway   \n",
              "580                                     Subway   \n",
              "581                                     Subway   \n",
              "582                                     Subway   \n",
              "583                                     Subway   \n",
              "584                                     Subway   \n",
              "585                                     Subway   \n",
              "586                                     Subway   \n",
              "587                                     Subway   \n",
              "588                                     Subway   \n",
              "589                                     Subway   \n",
              "590                                     Subway   \n",
              "591                                     Subway   \n",
              "879   Perry's Original Roadside BBQ & Catering   \n",
              "880   Perry's Original Roadside BBQ & Catering   \n",
              "881   Perry's Original Roadside BBQ & Catering   \n",
              "882   Perry's Original Roadside BBQ & Catering   \n",
              "883   Perry's Original Roadside BBQ & Catering   \n",
              "884   Perry's Original Roadside BBQ & Catering   \n",
              "885   Perry's Original Roadside BBQ & Catering   \n",
              "886   Perry's Original Roadside BBQ & Catering   \n",
              "887   Perry's Original Roadside BBQ & Catering   \n",
              "888   Perry's Original Roadside BBQ & Catering   \n",
              "889   Perry's Original Roadside BBQ & Catering   \n",
              "890   Perry's Original Roadside BBQ & Catering   \n",
              "1067                                     Shell   \n",
              "1068                                     Shell   \n",
              "1069                                     Shell   \n",
              "1070                                     Shell   \n",
              "1071                                     Shell   \n",
              "1072                                     Shell   \n",
              "\n",
              "                                                                                                                                category  \n",
              "560                                               ['Sandwich shop' 'Caterer' 'Fast food restaurant' 'Takeout Restaurant'\\n 'Restaurant']  \n",
              "561                                               ['Sandwich shop' 'Caterer' 'Fast food restaurant' 'Takeout Restaurant'\\n 'Restaurant']  \n",
              "562                                               ['Sandwich shop' 'Caterer' 'Fast food restaurant' 'Takeout Restaurant'\\n 'Restaurant']  \n",
              "563                                               ['Sandwich shop' 'Caterer' 'Fast food restaurant' 'Takeout Restaurant'\\n 'Restaurant']  \n",
              "564                                               ['Sandwich shop' 'Caterer' 'Fast food restaurant' 'Takeout Restaurant'\\n 'Restaurant']  \n",
              "565                                               ['Sandwich shop' 'Caterer' 'Fast food restaurant' 'Takeout Restaurant'\\n 'Restaurant']  \n",
              "566                                               ['Sandwich shop' 'Caterer' 'Fast food restaurant' 'Takeout Restaurant'\\n 'Restaurant']  \n",
              "567                                               ['Sandwich shop' 'Caterer' 'Fast food restaurant' 'Takeout Restaurant'\\n 'Restaurant']  \n",
              "568                                               ['Sandwich shop' 'Caterer' 'Fast food restaurant' 'Takeout Restaurant'\\n 'Restaurant']  \n",
              "569                                               ['Sandwich shop' 'Caterer' 'Fast food restaurant' 'Takeout Restaurant'\\n 'Restaurant']  \n",
              "570                                               ['Sandwich shop' 'Caterer' 'Fast food restaurant' 'Takeout Restaurant'\\n 'Restaurant']  \n",
              "571                                               ['Sandwich shop' 'Caterer' 'Fast food restaurant' 'Takeout Restaurant'\\n 'Restaurant']  \n",
              "572                                               ['Sandwich shop' 'Caterer' 'Fast food restaurant' 'Takeout Restaurant'\\n 'Restaurant']  \n",
              "573                                               ['Sandwich shop' 'Caterer' 'Fast food restaurant' 'Takeout Restaurant'\\n 'Restaurant']  \n",
              "574                                               ['Sandwich shop' 'Caterer' 'Fast food restaurant' 'Takeout Restaurant'\\n 'Restaurant']  \n",
              "575                                               ['Sandwich shop' 'Caterer' 'Fast food restaurant' 'Takeout Restaurant'\\n 'Restaurant']  \n",
              "576                                               ['Sandwich shop' 'Caterer' 'Fast food restaurant' 'Takeout Restaurant'\\n 'Restaurant']  \n",
              "577                                               ['Sandwich shop' 'Caterer' 'Fast food restaurant' 'Takeout Restaurant'\\n 'Restaurant']  \n",
              "578                                               ['Sandwich shop' 'Caterer' 'Fast food restaurant' 'Takeout Restaurant'\\n 'Restaurant']  \n",
              "579                                               ['Sandwich shop' 'Caterer' 'Fast food restaurant' 'Takeout Restaurant'\\n 'Restaurant']  \n",
              "580                                               ['Sandwich shop' 'Caterer' 'Fast food restaurant' 'Takeout Restaurant'\\n 'Restaurant']  \n",
              "581                                               ['Sandwich shop' 'Caterer' 'Fast food restaurant' 'Takeout Restaurant'\\n 'Restaurant']  \n",
              "582                                               ['Sandwich shop' 'Caterer' 'Fast food restaurant' 'Takeout Restaurant'\\n 'Restaurant']  \n",
              "583                                               ['Sandwich shop' 'Caterer' 'Fast food restaurant' 'Takeout Restaurant'\\n 'Restaurant']  \n",
              "584                                               ['Sandwich shop' 'Caterer' 'Fast food restaurant' 'Takeout Restaurant'\\n 'Restaurant']  \n",
              "585                                               ['Sandwich shop' 'Caterer' 'Fast food restaurant' 'Takeout Restaurant'\\n 'Restaurant']  \n",
              "586                                               ['Sandwich shop' 'Caterer' 'Fast food restaurant' 'Takeout Restaurant'\\n 'Restaurant']  \n",
              "587                                               ['Sandwich shop' 'Caterer' 'Fast food restaurant' 'Takeout Restaurant'\\n 'Restaurant']  \n",
              "588                                               ['Sandwich shop' 'Caterer' 'Fast food restaurant' 'Takeout Restaurant'\\n 'Restaurant']  \n",
              "589                                               ['Sandwich shop' 'Caterer' 'Fast food restaurant' 'Takeout Restaurant'\\n 'Restaurant']  \n",
              "590                                               ['Sandwich shop' 'Caterer' 'Fast food restaurant' 'Takeout Restaurant'\\n 'Restaurant']  \n",
              "591                                               ['Sandwich shop' 'Caterer' 'Fast food restaurant' 'Takeout Restaurant'\\n 'Restaurant']  \n",
              "879                                                                               ['Caterer' 'Barbecue restaurant' 'Takeout Restaurant']  \n",
              "880                                                                               ['Caterer' 'Barbecue restaurant' 'Takeout Restaurant']  \n",
              "881                                                                               ['Caterer' 'Barbecue restaurant' 'Takeout Restaurant']  \n",
              "882                                                                               ['Caterer' 'Barbecue restaurant' 'Takeout Restaurant']  \n",
              "883                                                                               ['Caterer' 'Barbecue restaurant' 'Takeout Restaurant']  \n",
              "884                                                                               ['Caterer' 'Barbecue restaurant' 'Takeout Restaurant']  \n",
              "885                                                                               ['Caterer' 'Barbecue restaurant' 'Takeout Restaurant']  \n",
              "886                                                                               ['Caterer' 'Barbecue restaurant' 'Takeout Restaurant']  \n",
              "887                                                                               ['Caterer' 'Barbecue restaurant' 'Takeout Restaurant']  \n",
              "888                                                                               ['Caterer' 'Barbecue restaurant' 'Takeout Restaurant']  \n",
              "889                                                                               ['Caterer' 'Barbecue restaurant' 'Takeout Restaurant']  \n",
              "890                                                                               ['Caterer' 'Barbecue restaurant' 'Takeout Restaurant']  \n",
              "1067  ['Gas station' 'Alternative fuel station' 'ATM' 'Car wash'\\n 'Convenience store' 'Electric vehicle charging station' 'Restaurant']  \n",
              "1068  ['Gas station' 'Alternative fuel station' 'ATM' 'Car wash'\\n 'Convenience store' 'Electric vehicle charging station' 'Restaurant']  \n",
              "1069  ['Gas station' 'Alternative fuel station' 'ATM' 'Car wash'\\n 'Convenience store' 'Electric vehicle charging station' 'Restaurant']  \n",
              "1070  ['Gas station' 'Alternative fuel station' 'ATM' 'Car wash'\\n 'Convenience store' 'Electric vehicle charging station' 'Restaurant']  \n",
              "1071  ['Gas station' 'Alternative fuel station' 'ATM' 'Car wash'\\n 'Convenience store' 'Electric vehicle charging station' 'Restaurant']  \n",
              "1072  ['Gas station' 'Alternative fuel station' 'ATM' 'Car wash'\\n 'Convenience store' 'Electric vehicle charging station' 'Restaurant']  "
            ]
          },
          "execution_count": 48,
          "metadata": {},
          "output_type": "execute_result"
        }
      ],
      "source": [
        "filtered_df[[\"business_name\", \"category\"]].head(50)"
      ]
    },
    {
      "cell_type": "markdown",
      "metadata": {
        "id": "OZIa1w5Hx6Gk"
      },
      "source": [
        "Aca limpie un poco las categorias que previamente eran hibridas y tras revisar el dataframe anterior filtrado y con gran cantidad de registros, compartian categorias relevantes para nuestra data de restaurantes"
      ]
    },
    {
      "cell_type": "code",
      "execution_count": 49,
      "metadata": {
        "id": "RXe7f7mqpn5V"
      },
      "outputs": [],
      "source": [
        "categories_not_to_include = ['Event planner', 'Party equipment rental service', 'Gas station', 'Alternative fuel station', 'ATM', 'Electric vehicle charging station', 'Fire protection service', 'HVAC contractor',\n",
        "'Appliance parts supplier', 'Appliance store', 'Commercial refrigerator supplier', 'Industrial equipment supplier', 'Kitchen supply store', 'Small appliance repair service', 'Used appliance store', 'Wellness center', 'Acupuncture clinic', 'Alternative medicine practitioner', 'Fitness center',\n",
        "'Hair salon', 'Holistic medicine practitioner', 'Meditation center', 'Pilates studio', 'Yoga studio', 'Health spa', 'Spa and health club', 'Car wash', 'Banner store', 'Digital printing service' , 'Print shop', 'Dollar store',\n",
        "'Discount store', 'General store', 'Home goods store',  'Party store', 'School supply store', 'Variety store', 'Software company', 'Accounting software company', 'Business to business service', 'Computer networking center', 'Financial institution',  'Website designer', 'Performing arts group'\n",
        ", 'Service establishment', 'Mobile caterer', 'Box lunch supplier', 'Indoor playground',  \"Children's party service\", 'Park', 'Playground', 'Video arcade', 'Manufacturer', 'Horseback riding service', 'Pony ride service', 'Tourist attraction', 'Weight loss service', 'Eating disorder treatment center'\n",
        ", 'Wi,Fi spot', 'Butcher shop', 'Airline ticket agency',  'Courier service', 'Gift shop', 'Money transfer service',   'Shipping service', 'Gym', 'Gymnastics center', 'Parkour spot', 'Rock climbing gym', 'Market operator','Appliance repair service'\n",
        ",  'Recreation center', 'Stadium', 'Plaza', \"Children's amusement center\", 'Art gallery',   'Wellness program', 'Liquor store',   'Candy store', 'Gas company', 'Wedding venue', 'Party planner', 'Produce wholesaler',\n",
        " 'Drive-in movie theater', 'Coaching center', 'Chocolate shop', 'Corporate office',  'Flower delivery', 'Milk delivery service', 'Adult entertainment club', 'Boutique', 'Clothing store',   'Furniture store', 'Vintage clothing store', 'Shopping mall',   'Movie theater', 'Wholesale market', 'Dry ice supplier'\n",
        ",   'Chemical wholesaler', 'Industrial gas supplier', 'Stage',   'Amusement center', 'Wedding buffet', 'Food producer']"
      ]
    },
    {
      "cell_type": "code",
      "execution_count": 50,
      "metadata": {
        "colab": {
          "base_uri": "https://localhost:8080/",
          "height": 1000
        },
        "id": "lP4MrzhBxdsI",
        "outputId": "a53de686-ad4b-419c-f3a3-779726b0b66e"
      },
      "outputs": [
        {
          "data": {
            "text/html": [
              "<div>\n",
              "<style scoped>\n",
              "    .dataframe tbody tr th:only-of-type {\n",
              "        vertical-align: middle;\n",
              "    }\n",
              "\n",
              "    .dataframe tbody tr th {\n",
              "        vertical-align: top;\n",
              "    }\n",
              "\n",
              "    .dataframe thead th {\n",
              "        text-align: right;\n",
              "    }\n",
              "</style>\n",
              "<table border=\"1\" class=\"dataframe\">\n",
              "  <thead>\n",
              "    <tr style=\"text-align: right;\">\n",
              "      <th></th>\n",
              "      <th>business_name</th>\n",
              "      <th>category</th>\n",
              "    </tr>\n",
              "  </thead>\n",
              "  <tbody>\n",
              "    <tr>\n",
              "      <th>1004260</th>\n",
              "      <td>Shell</td>\n",
              "      <td>['Gas station' 'Alternative fuel station' 'ATM' 'Car wash'\\n 'Convenience store' 'Electric vehicle charging station' 'Restaurant']</td>\n",
              "    </tr>\n",
              "    <tr>\n",
              "      <th>1004261</th>\n",
              "      <td>Shell</td>\n",
              "      <td>['Gas station' 'Alternative fuel station' 'ATM' 'Car wash'\\n 'Convenience store' 'Electric vehicle charging station' 'Restaurant']</td>\n",
              "    </tr>\n",
              "    <tr>\n",
              "      <th>1004262</th>\n",
              "      <td>Shell</td>\n",
              "      <td>['Gas station' 'Alternative fuel station' 'ATM' 'Car wash'\\n 'Convenience store' 'Electric vehicle charging station' 'Restaurant']</td>\n",
              "    </tr>\n",
              "    <tr>\n",
              "      <th>1004263</th>\n",
              "      <td>Shell</td>\n",
              "      <td>['Gas station' 'Alternative fuel station' 'ATM' 'Car wash'\\n 'Convenience store' 'Electric vehicle charging station' 'Restaurant']</td>\n",
              "    </tr>\n",
              "    <tr>\n",
              "      <th>1004264</th>\n",
              "      <td>Shell</td>\n",
              "      <td>['Gas station' 'Alternative fuel station' 'ATM' 'Car wash'\\n 'Convenience store' 'Electric vehicle charging station' 'Restaurant']</td>\n",
              "    </tr>\n",
              "    <tr>\n",
              "      <th>1004265</th>\n",
              "      <td>Shell</td>\n",
              "      <td>['Gas station' 'Alternative fuel station' 'ATM' 'Car wash'\\n 'Convenience store' 'Electric vehicle charging station' 'Restaurant']</td>\n",
              "    </tr>\n",
              "    <tr>\n",
              "      <th>1004266</th>\n",
              "      <td>Shell</td>\n",
              "      <td>['Gas station' 'Alternative fuel station' 'ATM' 'Car wash'\\n 'Convenience store' 'Electric vehicle charging station' 'Restaurant']</td>\n",
              "    </tr>\n",
              "    <tr>\n",
              "      <th>1004267</th>\n",
              "      <td>Shell</td>\n",
              "      <td>['Gas station' 'Alternative fuel station' 'ATM' 'Car wash'\\n 'Convenience store' 'Electric vehicle charging station' 'Restaurant']</td>\n",
              "    </tr>\n",
              "    <tr>\n",
              "      <th>1004268</th>\n",
              "      <td>Shell</td>\n",
              "      <td>['Gas station' 'Alternative fuel station' 'ATM' 'Car wash'\\n 'Convenience store' 'Electric vehicle charging station' 'Restaurant']</td>\n",
              "    </tr>\n",
              "    <tr>\n",
              "      <th>1004269</th>\n",
              "      <td>Shell</td>\n",
              "      <td>['Gas station' 'Alternative fuel station' 'ATM' 'Car wash'\\n 'Convenience store' 'Electric vehicle charging station' 'Restaurant']</td>\n",
              "    </tr>\n",
              "    <tr>\n",
              "      <th>1004270</th>\n",
              "      <td>Shell</td>\n",
              "      <td>['Gas station' 'Alternative fuel station' 'ATM' 'Car wash'\\n 'Convenience store' 'Electric vehicle charging station' 'Restaurant']</td>\n",
              "    </tr>\n",
              "    <tr>\n",
              "      <th>1004271</th>\n",
              "      <td>Shell</td>\n",
              "      <td>['Gas station' 'Alternative fuel station' 'ATM' 'Car wash'\\n 'Convenience store' 'Electric vehicle charging station' 'Restaurant']</td>\n",
              "    </tr>\n",
              "    <tr>\n",
              "      <th>1004272</th>\n",
              "      <td>Shell</td>\n",
              "      <td>['Gas station' 'Alternative fuel station' 'ATM' 'Car wash'\\n 'Convenience store' 'Electric vehicle charging station' 'Restaurant']</td>\n",
              "    </tr>\n",
              "    <tr>\n",
              "      <th>1004273</th>\n",
              "      <td>Shell</td>\n",
              "      <td>['Gas station' 'Alternative fuel station' 'ATM' 'Car wash'\\n 'Convenience store' 'Electric vehicle charging station' 'Restaurant']</td>\n",
              "    </tr>\n",
              "    <tr>\n",
              "      <th>1004274</th>\n",
              "      <td>Shell</td>\n",
              "      <td>['Gas station' 'Alternative fuel station' 'ATM' 'Car wash'\\n 'Convenience store' 'Electric vehicle charging station' 'Restaurant']</td>\n",
              "    </tr>\n",
              "    <tr>\n",
              "      <th>1004275</th>\n",
              "      <td>Shell</td>\n",
              "      <td>['Gas station' 'Alternative fuel station' 'ATM' 'Car wash'\\n 'Convenience store' 'Electric vehicle charging station' 'Restaurant']</td>\n",
              "    </tr>\n",
              "    <tr>\n",
              "      <th>1004276</th>\n",
              "      <td>Shell</td>\n",
              "      <td>['Gas station' 'Alternative fuel station' 'ATM' 'Car wash'\\n 'Convenience store' 'Electric vehicle charging station' 'Restaurant']</td>\n",
              "    </tr>\n",
              "    <tr>\n",
              "      <th>1004277</th>\n",
              "      <td>Shell</td>\n",
              "      <td>['Gas station' 'Alternative fuel station' 'ATM' 'Car wash'\\n 'Convenience store' 'Electric vehicle charging station' 'Restaurant']</td>\n",
              "    </tr>\n",
              "    <tr>\n",
              "      <th>1005221</th>\n",
              "      <td>Wawa</td>\n",
              "      <td>['Convenience store' 'Breakfast restaurant' 'Cafe' 'Candy store'\\n 'Cheesesteak restaurant' 'Coffee shop' 'Fast food restaurant'\\n 'Gas station' 'Hoagie restaurant' 'Sandwich shop']</td>\n",
              "    </tr>\n",
              "    <tr>\n",
              "      <th>1005222</th>\n",
              "      <td>Wawa</td>\n",
              "      <td>['Convenience store' 'Breakfast restaurant' 'Cafe' 'Candy store'\\n 'Cheesesteak restaurant' 'Coffee shop' 'Fast food restaurant'\\n 'Gas station' 'Hoagie restaurant' 'Sandwich shop']</td>\n",
              "    </tr>\n",
              "    <tr>\n",
              "      <th>1005223</th>\n",
              "      <td>Wawa</td>\n",
              "      <td>['Convenience store' 'Breakfast restaurant' 'Cafe' 'Candy store'\\n 'Cheesesteak restaurant' 'Coffee shop' 'Fast food restaurant'\\n 'Gas station' 'Hoagie restaurant' 'Sandwich shop']</td>\n",
              "    </tr>\n",
              "    <tr>\n",
              "      <th>1005224</th>\n",
              "      <td>Wawa</td>\n",
              "      <td>['Convenience store' 'Breakfast restaurant' 'Cafe' 'Candy store'\\n 'Cheesesteak restaurant' 'Coffee shop' 'Fast food restaurant'\\n 'Gas station' 'Hoagie restaurant' 'Sandwich shop']</td>\n",
              "    </tr>\n",
              "    <tr>\n",
              "      <th>1005225</th>\n",
              "      <td>Wawa</td>\n",
              "      <td>['Convenience store' 'Breakfast restaurant' 'Cafe' 'Candy store'\\n 'Cheesesteak restaurant' 'Coffee shop' 'Fast food restaurant'\\n 'Gas station' 'Hoagie restaurant' 'Sandwich shop']</td>\n",
              "    </tr>\n",
              "    <tr>\n",
              "      <th>1005226</th>\n",
              "      <td>Wawa</td>\n",
              "      <td>['Convenience store' 'Breakfast restaurant' 'Cafe' 'Candy store'\\n 'Cheesesteak restaurant' 'Coffee shop' 'Fast food restaurant'\\n 'Gas station' 'Hoagie restaurant' 'Sandwich shop']</td>\n",
              "    </tr>\n",
              "    <tr>\n",
              "      <th>1005227</th>\n",
              "      <td>Wawa</td>\n",
              "      <td>['Convenience store' 'Breakfast restaurant' 'Cafe' 'Candy store'\\n 'Cheesesteak restaurant' 'Coffee shop' 'Fast food restaurant'\\n 'Gas station' 'Hoagie restaurant' 'Sandwich shop']</td>\n",
              "    </tr>\n",
              "    <tr>\n",
              "      <th>1005228</th>\n",
              "      <td>Wawa</td>\n",
              "      <td>['Convenience store' 'Breakfast restaurant' 'Cafe' 'Candy store'\\n 'Cheesesteak restaurant' 'Coffee shop' 'Fast food restaurant'\\n 'Gas station' 'Hoagie restaurant' 'Sandwich shop']</td>\n",
              "    </tr>\n",
              "    <tr>\n",
              "      <th>1005229</th>\n",
              "      <td>Wawa</td>\n",
              "      <td>['Convenience store' 'Breakfast restaurant' 'Cafe' 'Candy store'\\n 'Cheesesteak restaurant' 'Coffee shop' 'Fast food restaurant'\\n 'Gas station' 'Hoagie restaurant' 'Sandwich shop']</td>\n",
              "    </tr>\n",
              "    <tr>\n",
              "      <th>1005230</th>\n",
              "      <td>Wawa</td>\n",
              "      <td>['Convenience store' 'Breakfast restaurant' 'Cafe' 'Candy store'\\n 'Cheesesteak restaurant' 'Coffee shop' 'Fast food restaurant'\\n 'Gas station' 'Hoagie restaurant' 'Sandwich shop']</td>\n",
              "    </tr>\n",
              "    <tr>\n",
              "      <th>1005231</th>\n",
              "      <td>Wawa</td>\n",
              "      <td>['Convenience store' 'Breakfast restaurant' 'Cafe' 'Candy store'\\n 'Cheesesteak restaurant' 'Coffee shop' 'Fast food restaurant'\\n 'Gas station' 'Hoagie restaurant' 'Sandwich shop']</td>\n",
              "    </tr>\n",
              "    <tr>\n",
              "      <th>1005232</th>\n",
              "      <td>Wawa</td>\n",
              "      <td>['Convenience store' 'Breakfast restaurant' 'Cafe' 'Candy store'\\n 'Cheesesteak restaurant' 'Coffee shop' 'Fast food restaurant'\\n 'Gas station' 'Hoagie restaurant' 'Sandwich shop']</td>\n",
              "    </tr>\n",
              "    <tr>\n",
              "      <th>1005233</th>\n",
              "      <td>Wawa</td>\n",
              "      <td>['Convenience store' 'Breakfast restaurant' 'Cafe' 'Candy store'\\n 'Cheesesteak restaurant' 'Coffee shop' 'Fast food restaurant'\\n 'Gas station' 'Hoagie restaurant' 'Sandwich shop']</td>\n",
              "    </tr>\n",
              "    <tr>\n",
              "      <th>1005234</th>\n",
              "      <td>Wawa</td>\n",
              "      <td>['Convenience store' 'Breakfast restaurant' 'Cafe' 'Candy store'\\n 'Cheesesteak restaurant' 'Coffee shop' 'Fast food restaurant'\\n 'Gas station' 'Hoagie restaurant' 'Sandwich shop']</td>\n",
              "    </tr>\n",
              "    <tr>\n",
              "      <th>1005235</th>\n",
              "      <td>Wawa</td>\n",
              "      <td>['Convenience store' 'Breakfast restaurant' 'Cafe' 'Candy store'\\n 'Cheesesteak restaurant' 'Coffee shop' 'Fast food restaurant'\\n 'Gas station' 'Hoagie restaurant' 'Sandwich shop']</td>\n",
              "    </tr>\n",
              "    <tr>\n",
              "      <th>1005236</th>\n",
              "      <td>Wawa</td>\n",
              "      <td>['Convenience store' 'Breakfast restaurant' 'Cafe' 'Candy store'\\n 'Cheesesteak restaurant' 'Coffee shop' 'Fast food restaurant'\\n 'Gas station' 'Hoagie restaurant' 'Sandwich shop']</td>\n",
              "    </tr>\n",
              "    <tr>\n",
              "      <th>1005237</th>\n",
              "      <td>Wawa</td>\n",
              "      <td>['Convenience store' 'Breakfast restaurant' 'Cafe' 'Candy store'\\n 'Cheesesteak restaurant' 'Coffee shop' 'Fast food restaurant'\\n 'Gas station' 'Hoagie restaurant' 'Sandwich shop']</td>\n",
              "    </tr>\n",
              "    <tr>\n",
              "      <th>1005238</th>\n",
              "      <td>Wawa</td>\n",
              "      <td>['Convenience store' 'Breakfast restaurant' 'Cafe' 'Candy store'\\n 'Cheesesteak restaurant' 'Coffee shop' 'Fast food restaurant'\\n 'Gas station' 'Hoagie restaurant' 'Sandwich shop']</td>\n",
              "    </tr>\n",
              "    <tr>\n",
              "      <th>1005239</th>\n",
              "      <td>Wawa</td>\n",
              "      <td>['Convenience store' 'Breakfast restaurant' 'Cafe' 'Candy store'\\n 'Cheesesteak restaurant' 'Coffee shop' 'Fast food restaurant'\\n 'Gas station' 'Hoagie restaurant' 'Sandwich shop']</td>\n",
              "    </tr>\n",
              "    <tr>\n",
              "      <th>1005240</th>\n",
              "      <td>Wawa</td>\n",
              "      <td>['Convenience store' 'Breakfast restaurant' 'Cafe' 'Candy store'\\n 'Cheesesteak restaurant' 'Coffee shop' 'Fast food restaurant'\\n 'Gas station' 'Hoagie restaurant' 'Sandwich shop']</td>\n",
              "    </tr>\n",
              "    <tr>\n",
              "      <th>1005241</th>\n",
              "      <td>Wawa</td>\n",
              "      <td>['Convenience store' 'Breakfast restaurant' 'Cafe' 'Candy store'\\n 'Cheesesteak restaurant' 'Coffee shop' 'Fast food restaurant'\\n 'Gas station' 'Hoagie restaurant' 'Sandwich shop']</td>\n",
              "    </tr>\n",
              "    <tr>\n",
              "      <th>1005242</th>\n",
              "      <td>Wawa</td>\n",
              "      <td>['Convenience store' 'Breakfast restaurant' 'Cafe' 'Candy store'\\n 'Cheesesteak restaurant' 'Coffee shop' 'Fast food restaurant'\\n 'Gas station' 'Hoagie restaurant' 'Sandwich shop']</td>\n",
              "    </tr>\n",
              "    <tr>\n",
              "      <th>1005243</th>\n",
              "      <td>Wawa</td>\n",
              "      <td>['Convenience store' 'Breakfast restaurant' 'Cafe' 'Candy store'\\n 'Cheesesteak restaurant' 'Coffee shop' 'Fast food restaurant'\\n 'Gas station' 'Hoagie restaurant' 'Sandwich shop']</td>\n",
              "    </tr>\n",
              "    <tr>\n",
              "      <th>1005244</th>\n",
              "      <td>Wawa</td>\n",
              "      <td>['Convenience store' 'Breakfast restaurant' 'Cafe' 'Candy store'\\n 'Cheesesteak restaurant' 'Coffee shop' 'Fast food restaurant'\\n 'Gas station' 'Hoagie restaurant' 'Sandwich shop']</td>\n",
              "    </tr>\n",
              "    <tr>\n",
              "      <th>1005245</th>\n",
              "      <td>Wawa</td>\n",
              "      <td>['Convenience store' 'Breakfast restaurant' 'Cafe' 'Candy store'\\n 'Cheesesteak restaurant' 'Coffee shop' 'Fast food restaurant'\\n 'Gas station' 'Hoagie restaurant' 'Sandwich shop']</td>\n",
              "    </tr>\n",
              "    <tr>\n",
              "      <th>1005246</th>\n",
              "      <td>Wawa</td>\n",
              "      <td>['Convenience store' 'Breakfast restaurant' 'Cafe' 'Candy store'\\n 'Cheesesteak restaurant' 'Coffee shop' 'Fast food restaurant'\\n 'Gas station' 'Hoagie restaurant' 'Sandwich shop']</td>\n",
              "    </tr>\n",
              "    <tr>\n",
              "      <th>1005247</th>\n",
              "      <td>Wawa</td>\n",
              "      <td>['Convenience store' 'Breakfast restaurant' 'Cafe' 'Candy store'\\n 'Cheesesteak restaurant' 'Coffee shop' 'Fast food restaurant'\\n 'Gas station' 'Hoagie restaurant' 'Sandwich shop']</td>\n",
              "    </tr>\n",
              "    <tr>\n",
              "      <th>1005248</th>\n",
              "      <td>Wawa</td>\n",
              "      <td>['Convenience store' 'Breakfast restaurant' 'Cafe' 'Candy store'\\n 'Cheesesteak restaurant' 'Coffee shop' 'Fast food restaurant'\\n 'Gas station' 'Hoagie restaurant' 'Sandwich shop']</td>\n",
              "    </tr>\n",
              "    <tr>\n",
              "      <th>1005249</th>\n",
              "      <td>Wawa</td>\n",
              "      <td>['Convenience store' 'Breakfast restaurant' 'Cafe' 'Candy store'\\n 'Cheesesteak restaurant' 'Coffee shop' 'Fast food restaurant'\\n 'Gas station' 'Hoagie restaurant' 'Sandwich shop']</td>\n",
              "    </tr>\n",
              "    <tr>\n",
              "      <th>1005250</th>\n",
              "      <td>Wawa</td>\n",
              "      <td>['Convenience store' 'Breakfast restaurant' 'Cafe' 'Candy store'\\n 'Cheesesteak restaurant' 'Coffee shop' 'Fast food restaurant'\\n 'Gas station' 'Hoagie restaurant' 'Sandwich shop']</td>\n",
              "    </tr>\n",
              "    <tr>\n",
              "      <th>1005251</th>\n",
              "      <td>Wawa</td>\n",
              "      <td>['Convenience store' 'Breakfast restaurant' 'Cafe' 'Candy store'\\n 'Cheesesteak restaurant' 'Coffee shop' 'Fast food restaurant'\\n 'Gas station' 'Hoagie restaurant' 'Sandwich shop']</td>\n",
              "    </tr>\n",
              "    <tr>\n",
              "      <th>1005252</th>\n",
              "      <td>Wawa</td>\n",
              "      <td>['Convenience store' 'Breakfast restaurant' 'Cafe' 'Candy store'\\n 'Cheesesteak restaurant' 'Coffee shop' 'Fast food restaurant'\\n 'Gas station' 'Hoagie restaurant' 'Sandwich shop']</td>\n",
              "    </tr>\n",
              "  </tbody>\n",
              "</table>\n",
              "</div>"
            ],
            "text/plain": [
              "        business_name  \\\n",
              "1004260         Shell   \n",
              "1004261         Shell   \n",
              "1004262         Shell   \n",
              "1004263         Shell   \n",
              "1004264         Shell   \n",
              "1004265         Shell   \n",
              "1004266         Shell   \n",
              "1004267         Shell   \n",
              "1004268         Shell   \n",
              "1004269         Shell   \n",
              "1004270         Shell   \n",
              "1004271         Shell   \n",
              "1004272         Shell   \n",
              "1004273         Shell   \n",
              "1004274         Shell   \n",
              "1004275         Shell   \n",
              "1004276         Shell   \n",
              "1004277         Shell   \n",
              "1005221          Wawa   \n",
              "1005222          Wawa   \n",
              "1005223          Wawa   \n",
              "1005224          Wawa   \n",
              "1005225          Wawa   \n",
              "1005226          Wawa   \n",
              "1005227          Wawa   \n",
              "1005228          Wawa   \n",
              "1005229          Wawa   \n",
              "1005230          Wawa   \n",
              "1005231          Wawa   \n",
              "1005232          Wawa   \n",
              "1005233          Wawa   \n",
              "1005234          Wawa   \n",
              "1005235          Wawa   \n",
              "1005236          Wawa   \n",
              "1005237          Wawa   \n",
              "1005238          Wawa   \n",
              "1005239          Wawa   \n",
              "1005240          Wawa   \n",
              "1005241          Wawa   \n",
              "1005242          Wawa   \n",
              "1005243          Wawa   \n",
              "1005244          Wawa   \n",
              "1005245          Wawa   \n",
              "1005246          Wawa   \n",
              "1005247          Wawa   \n",
              "1005248          Wawa   \n",
              "1005249          Wawa   \n",
              "1005250          Wawa   \n",
              "1005251          Wawa   \n",
              "1005252          Wawa   \n",
              "\n",
              "                                                                                                                                                                                      category  \n",
              "1004260                                                     ['Gas station' 'Alternative fuel station' 'ATM' 'Car wash'\\n 'Convenience store' 'Electric vehicle charging station' 'Restaurant']  \n",
              "1004261                                                     ['Gas station' 'Alternative fuel station' 'ATM' 'Car wash'\\n 'Convenience store' 'Electric vehicle charging station' 'Restaurant']  \n",
              "1004262                                                     ['Gas station' 'Alternative fuel station' 'ATM' 'Car wash'\\n 'Convenience store' 'Electric vehicle charging station' 'Restaurant']  \n",
              "1004263                                                     ['Gas station' 'Alternative fuel station' 'ATM' 'Car wash'\\n 'Convenience store' 'Electric vehicle charging station' 'Restaurant']  \n",
              "1004264                                                     ['Gas station' 'Alternative fuel station' 'ATM' 'Car wash'\\n 'Convenience store' 'Electric vehicle charging station' 'Restaurant']  \n",
              "1004265                                                     ['Gas station' 'Alternative fuel station' 'ATM' 'Car wash'\\n 'Convenience store' 'Electric vehicle charging station' 'Restaurant']  \n",
              "1004266                                                     ['Gas station' 'Alternative fuel station' 'ATM' 'Car wash'\\n 'Convenience store' 'Electric vehicle charging station' 'Restaurant']  \n",
              "1004267                                                     ['Gas station' 'Alternative fuel station' 'ATM' 'Car wash'\\n 'Convenience store' 'Electric vehicle charging station' 'Restaurant']  \n",
              "1004268                                                     ['Gas station' 'Alternative fuel station' 'ATM' 'Car wash'\\n 'Convenience store' 'Electric vehicle charging station' 'Restaurant']  \n",
              "1004269                                                     ['Gas station' 'Alternative fuel station' 'ATM' 'Car wash'\\n 'Convenience store' 'Electric vehicle charging station' 'Restaurant']  \n",
              "1004270                                                     ['Gas station' 'Alternative fuel station' 'ATM' 'Car wash'\\n 'Convenience store' 'Electric vehicle charging station' 'Restaurant']  \n",
              "1004271                                                     ['Gas station' 'Alternative fuel station' 'ATM' 'Car wash'\\n 'Convenience store' 'Electric vehicle charging station' 'Restaurant']  \n",
              "1004272                                                     ['Gas station' 'Alternative fuel station' 'ATM' 'Car wash'\\n 'Convenience store' 'Electric vehicle charging station' 'Restaurant']  \n",
              "1004273                                                     ['Gas station' 'Alternative fuel station' 'ATM' 'Car wash'\\n 'Convenience store' 'Electric vehicle charging station' 'Restaurant']  \n",
              "1004274                                                     ['Gas station' 'Alternative fuel station' 'ATM' 'Car wash'\\n 'Convenience store' 'Electric vehicle charging station' 'Restaurant']  \n",
              "1004275                                                     ['Gas station' 'Alternative fuel station' 'ATM' 'Car wash'\\n 'Convenience store' 'Electric vehicle charging station' 'Restaurant']  \n",
              "1004276                                                     ['Gas station' 'Alternative fuel station' 'ATM' 'Car wash'\\n 'Convenience store' 'Electric vehicle charging station' 'Restaurant']  \n",
              "1004277                                                     ['Gas station' 'Alternative fuel station' 'ATM' 'Car wash'\\n 'Convenience store' 'Electric vehicle charging station' 'Restaurant']  \n",
              "1005221  ['Convenience store' 'Breakfast restaurant' 'Cafe' 'Candy store'\\n 'Cheesesteak restaurant' 'Coffee shop' 'Fast food restaurant'\\n 'Gas station' 'Hoagie restaurant' 'Sandwich shop']  \n",
              "1005222  ['Convenience store' 'Breakfast restaurant' 'Cafe' 'Candy store'\\n 'Cheesesteak restaurant' 'Coffee shop' 'Fast food restaurant'\\n 'Gas station' 'Hoagie restaurant' 'Sandwich shop']  \n",
              "1005223  ['Convenience store' 'Breakfast restaurant' 'Cafe' 'Candy store'\\n 'Cheesesteak restaurant' 'Coffee shop' 'Fast food restaurant'\\n 'Gas station' 'Hoagie restaurant' 'Sandwich shop']  \n",
              "1005224  ['Convenience store' 'Breakfast restaurant' 'Cafe' 'Candy store'\\n 'Cheesesteak restaurant' 'Coffee shop' 'Fast food restaurant'\\n 'Gas station' 'Hoagie restaurant' 'Sandwich shop']  \n",
              "1005225  ['Convenience store' 'Breakfast restaurant' 'Cafe' 'Candy store'\\n 'Cheesesteak restaurant' 'Coffee shop' 'Fast food restaurant'\\n 'Gas station' 'Hoagie restaurant' 'Sandwich shop']  \n",
              "1005226  ['Convenience store' 'Breakfast restaurant' 'Cafe' 'Candy store'\\n 'Cheesesteak restaurant' 'Coffee shop' 'Fast food restaurant'\\n 'Gas station' 'Hoagie restaurant' 'Sandwich shop']  \n",
              "1005227  ['Convenience store' 'Breakfast restaurant' 'Cafe' 'Candy store'\\n 'Cheesesteak restaurant' 'Coffee shop' 'Fast food restaurant'\\n 'Gas station' 'Hoagie restaurant' 'Sandwich shop']  \n",
              "1005228  ['Convenience store' 'Breakfast restaurant' 'Cafe' 'Candy store'\\n 'Cheesesteak restaurant' 'Coffee shop' 'Fast food restaurant'\\n 'Gas station' 'Hoagie restaurant' 'Sandwich shop']  \n",
              "1005229  ['Convenience store' 'Breakfast restaurant' 'Cafe' 'Candy store'\\n 'Cheesesteak restaurant' 'Coffee shop' 'Fast food restaurant'\\n 'Gas station' 'Hoagie restaurant' 'Sandwich shop']  \n",
              "1005230  ['Convenience store' 'Breakfast restaurant' 'Cafe' 'Candy store'\\n 'Cheesesteak restaurant' 'Coffee shop' 'Fast food restaurant'\\n 'Gas station' 'Hoagie restaurant' 'Sandwich shop']  \n",
              "1005231  ['Convenience store' 'Breakfast restaurant' 'Cafe' 'Candy store'\\n 'Cheesesteak restaurant' 'Coffee shop' 'Fast food restaurant'\\n 'Gas station' 'Hoagie restaurant' 'Sandwich shop']  \n",
              "1005232  ['Convenience store' 'Breakfast restaurant' 'Cafe' 'Candy store'\\n 'Cheesesteak restaurant' 'Coffee shop' 'Fast food restaurant'\\n 'Gas station' 'Hoagie restaurant' 'Sandwich shop']  \n",
              "1005233  ['Convenience store' 'Breakfast restaurant' 'Cafe' 'Candy store'\\n 'Cheesesteak restaurant' 'Coffee shop' 'Fast food restaurant'\\n 'Gas station' 'Hoagie restaurant' 'Sandwich shop']  \n",
              "1005234  ['Convenience store' 'Breakfast restaurant' 'Cafe' 'Candy store'\\n 'Cheesesteak restaurant' 'Coffee shop' 'Fast food restaurant'\\n 'Gas station' 'Hoagie restaurant' 'Sandwich shop']  \n",
              "1005235  ['Convenience store' 'Breakfast restaurant' 'Cafe' 'Candy store'\\n 'Cheesesteak restaurant' 'Coffee shop' 'Fast food restaurant'\\n 'Gas station' 'Hoagie restaurant' 'Sandwich shop']  \n",
              "1005236  ['Convenience store' 'Breakfast restaurant' 'Cafe' 'Candy store'\\n 'Cheesesteak restaurant' 'Coffee shop' 'Fast food restaurant'\\n 'Gas station' 'Hoagie restaurant' 'Sandwich shop']  \n",
              "1005237  ['Convenience store' 'Breakfast restaurant' 'Cafe' 'Candy store'\\n 'Cheesesteak restaurant' 'Coffee shop' 'Fast food restaurant'\\n 'Gas station' 'Hoagie restaurant' 'Sandwich shop']  \n",
              "1005238  ['Convenience store' 'Breakfast restaurant' 'Cafe' 'Candy store'\\n 'Cheesesteak restaurant' 'Coffee shop' 'Fast food restaurant'\\n 'Gas station' 'Hoagie restaurant' 'Sandwich shop']  \n",
              "1005239  ['Convenience store' 'Breakfast restaurant' 'Cafe' 'Candy store'\\n 'Cheesesteak restaurant' 'Coffee shop' 'Fast food restaurant'\\n 'Gas station' 'Hoagie restaurant' 'Sandwich shop']  \n",
              "1005240  ['Convenience store' 'Breakfast restaurant' 'Cafe' 'Candy store'\\n 'Cheesesteak restaurant' 'Coffee shop' 'Fast food restaurant'\\n 'Gas station' 'Hoagie restaurant' 'Sandwich shop']  \n",
              "1005241  ['Convenience store' 'Breakfast restaurant' 'Cafe' 'Candy store'\\n 'Cheesesteak restaurant' 'Coffee shop' 'Fast food restaurant'\\n 'Gas station' 'Hoagie restaurant' 'Sandwich shop']  \n",
              "1005242  ['Convenience store' 'Breakfast restaurant' 'Cafe' 'Candy store'\\n 'Cheesesteak restaurant' 'Coffee shop' 'Fast food restaurant'\\n 'Gas station' 'Hoagie restaurant' 'Sandwich shop']  \n",
              "1005243  ['Convenience store' 'Breakfast restaurant' 'Cafe' 'Candy store'\\n 'Cheesesteak restaurant' 'Coffee shop' 'Fast food restaurant'\\n 'Gas station' 'Hoagie restaurant' 'Sandwich shop']  \n",
              "1005244  ['Convenience store' 'Breakfast restaurant' 'Cafe' 'Candy store'\\n 'Cheesesteak restaurant' 'Coffee shop' 'Fast food restaurant'\\n 'Gas station' 'Hoagie restaurant' 'Sandwich shop']  \n",
              "1005245  ['Convenience store' 'Breakfast restaurant' 'Cafe' 'Candy store'\\n 'Cheesesteak restaurant' 'Coffee shop' 'Fast food restaurant'\\n 'Gas station' 'Hoagie restaurant' 'Sandwich shop']  \n",
              "1005246  ['Convenience store' 'Breakfast restaurant' 'Cafe' 'Candy store'\\n 'Cheesesteak restaurant' 'Coffee shop' 'Fast food restaurant'\\n 'Gas station' 'Hoagie restaurant' 'Sandwich shop']  \n",
              "1005247  ['Convenience store' 'Breakfast restaurant' 'Cafe' 'Candy store'\\n 'Cheesesteak restaurant' 'Coffee shop' 'Fast food restaurant'\\n 'Gas station' 'Hoagie restaurant' 'Sandwich shop']  \n",
              "1005248  ['Convenience store' 'Breakfast restaurant' 'Cafe' 'Candy store'\\n 'Cheesesteak restaurant' 'Coffee shop' 'Fast food restaurant'\\n 'Gas station' 'Hoagie restaurant' 'Sandwich shop']  \n",
              "1005249  ['Convenience store' 'Breakfast restaurant' 'Cafe' 'Candy store'\\n 'Cheesesteak restaurant' 'Coffee shop' 'Fast food restaurant'\\n 'Gas station' 'Hoagie restaurant' 'Sandwich shop']  \n",
              "1005250  ['Convenience store' 'Breakfast restaurant' 'Cafe' 'Candy store'\\n 'Cheesesteak restaurant' 'Coffee shop' 'Fast food restaurant'\\n 'Gas station' 'Hoagie restaurant' 'Sandwich shop']  \n",
              "1005251  ['Convenience store' 'Breakfast restaurant' 'Cafe' 'Candy store'\\n 'Cheesesteak restaurant' 'Coffee shop' 'Fast food restaurant'\\n 'Gas station' 'Hoagie restaurant' 'Sandwich shop']  \n",
              "1005252  ['Convenience store' 'Breakfast restaurant' 'Cafe' 'Candy store'\\n 'Cheesesteak restaurant' 'Coffee shop' 'Fast food restaurant'\\n 'Gas station' 'Hoagie restaurant' 'Sandwich shop']  "
            ]
          },
          "execution_count": 50,
          "metadata": {},
          "output_type": "execute_result"
        }
      ],
      "source": [
        "# Filter the DataFrame to exclude categories_not_to_include\n",
        "#filtered_df = df6[~df6['category'].apply(lambda x: any(cat in x for cat in categories_not_to_include))]\n",
        "filtered_df = df6[df6['category'].apply(lambda x: any(cat in x for cat in categories_not_to_include))]\n",
        "\n",
        "# Display the filtered DataFrame\n",
        "filtered_df\n",
        "filtered_df[[\"business_name\", \"category\"]].tail(50)"
      ]
    },
    {
      "cell_type": "code",
      "execution_count": 51,
      "metadata": {
        "colab": {
          "base_uri": "https://localhost:8080/",
          "height": 81
        },
        "id": "ippC8ldSzCt6",
        "outputId": "deaf7666-6670-4a0b-8854-ddff0d3f1d39"
      },
      "outputs": [
        {
          "data": {
            "text/html": [
              "<div>\n",
              "<style scoped>\n",
              "    .dataframe tbody tr th:only-of-type {\n",
              "        vertical-align: middle;\n",
              "    }\n",
              "\n",
              "    .dataframe tbody tr th {\n",
              "        vertical-align: top;\n",
              "    }\n",
              "\n",
              "    .dataframe thead th {\n",
              "        text-align: right;\n",
              "    }\n",
              "</style>\n",
              "<table border=\"1\" class=\"dataframe\">\n",
              "  <thead>\n",
              "    <tr style=\"text-align: right;\">\n",
              "      <th></th>\n",
              "      <th>business_name</th>\n",
              "      <th>category</th>\n",
              "    </tr>\n",
              "  </thead>\n",
              "  <tbody>\n",
              "  </tbody>\n",
              "</table>\n",
              "</div>"
            ],
            "text/plain": [
              "Empty DataFrame\n",
              "Columns: [business_name, category]\n",
              "Index: []"
            ]
          },
          "execution_count": 51,
          "metadata": {},
          "output_type": "execute_result"
        }
      ],
      "source": [
        "check_cat = df6[[\"business_name\", \"category\"]]\n",
        "check_cat[check_cat['category'].apply(lambda x: any(re.search(\"Book store\", category) for category in x))]\n"
      ]
    },
    {
      "cell_type": "markdown",
      "metadata": {
        "id": "5SuukeAKzRmc"
      },
      "source": [
        "Book store es relevante porque es un cafe con tienda de libros"
      ]
    },
    {
      "cell_type": "code",
      "execution_count": 52,
      "metadata": {
        "colab": {
          "base_uri": "https://localhost:8080/",
          "height": 81
        },
        "id": "qmREvrXWzqIJ",
        "outputId": "287dba1d-b3d1-4a59-a16d-9b4a5aa1bb4e"
      },
      "outputs": [
        {
          "data": {
            "text/html": [
              "<div>\n",
              "<style scoped>\n",
              "    .dataframe tbody tr th:only-of-type {\n",
              "        vertical-align: middle;\n",
              "    }\n",
              "\n",
              "    .dataframe tbody tr th {\n",
              "        vertical-align: top;\n",
              "    }\n",
              "\n",
              "    .dataframe thead th {\n",
              "        text-align: right;\n",
              "    }\n",
              "</style>\n",
              "<table border=\"1\" class=\"dataframe\">\n",
              "  <thead>\n",
              "    <tr style=\"text-align: right;\">\n",
              "      <th></th>\n",
              "      <th>business_name</th>\n",
              "      <th>category</th>\n",
              "    </tr>\n",
              "  </thead>\n",
              "  <tbody>\n",
              "  </tbody>\n",
              "</table>\n",
              "</div>"
            ],
            "text/plain": [
              "Empty DataFrame\n",
              "Columns: [business_name, category]\n",
              "Index: []"
            ]
          },
          "execution_count": 52,
          "metadata": {},
          "output_type": "execute_result"
        }
      ],
      "source": [
        "check_cat[check_cat['category'].apply(lambda x: any(re.search(\"Performing arts group\", category) for category in x))]"
      ]
    },
    {
      "cell_type": "markdown",
      "metadata": {
        "id": "7R5Ngwk80Hd_"
      },
      "source": [
        "Otro caso que es relevante ya que es restaurant con show de arte"
      ]
    },
    {
      "cell_type": "code",
      "execution_count": 53,
      "metadata": {
        "colab": {
          "base_uri": "https://localhost:8080/",
          "height": 175
        },
        "id": "sl3hB50u0F_g",
        "outputId": "f4b16558-afc1-4bea-c496-9964b6a187e1"
      },
      "outputs": [
        {
          "data": {
            "text/html": [
              "<div>\n",
              "<style scoped>\n",
              "    .dataframe tbody tr th:only-of-type {\n",
              "        vertical-align: middle;\n",
              "    }\n",
              "\n",
              "    .dataframe tbody tr th {\n",
              "        vertical-align: top;\n",
              "    }\n",
              "\n",
              "    .dataframe thead th {\n",
              "        text-align: right;\n",
              "    }\n",
              "</style>\n",
              "<table border=\"1\" class=\"dataframe\">\n",
              "  <thead>\n",
              "    <tr style=\"text-align: right;\">\n",
              "      <th></th>\n",
              "      <th>business_name</th>\n",
              "      <th>category</th>\n",
              "    </tr>\n",
              "  </thead>\n",
              "  <tbody>\n",
              "  </tbody>\n",
              "</table>\n",
              "</div>"
            ],
            "text/plain": [
              "Empty DataFrame\n",
              "Columns: [business_name, category]\n",
              "Index: []"
            ]
          },
          "execution_count": 53,
          "metadata": {},
          "output_type": "execute_result"
        }
      ],
      "source": [
        "check_cat[check_cat['category'].apply(lambda x: any(re.search(\"Service establishment\", category) for category in x))]"
      ]
    },
    {
      "cell_type": "markdown",
      "metadata": {
        "id": "bknIoAHj0yBE"
      },
      "source": [
        "Tambien es relevante"
      ]
    },
    {
      "cell_type": "code",
      "execution_count": 54,
      "metadata": {
        "colab": {
          "base_uri": "https://localhost:8080/",
          "height": 206
        },
        "id": "fpISuoLP0lNP",
        "outputId": "7cfbd968-51a1-40c1-bc7e-3e81368573f8"
      },
      "outputs": [
        {
          "data": {
            "text/html": [
              "<div>\n",
              "<style scoped>\n",
              "    .dataframe tbody tr th:only-of-type {\n",
              "        vertical-align: middle;\n",
              "    }\n",
              "\n",
              "    .dataframe tbody tr th {\n",
              "        vertical-align: top;\n",
              "    }\n",
              "\n",
              "    .dataframe thead th {\n",
              "        text-align: right;\n",
              "    }\n",
              "</style>\n",
              "<table border=\"1\" class=\"dataframe\">\n",
              "  <thead>\n",
              "    <tr style=\"text-align: right;\">\n",
              "      <th></th>\n",
              "      <th>business_name</th>\n",
              "      <th>category</th>\n",
              "    </tr>\n",
              "  </thead>\n",
              "  <tbody>\n",
              "  </tbody>\n",
              "</table>\n",
              "</div>"
            ],
            "text/plain": [
              "Empty DataFrame\n",
              "Columns: [business_name, category]\n",
              "Index: []"
            ]
          },
          "execution_count": 54,
          "metadata": {},
          "output_type": "execute_result"
        }
      ],
      "source": [
        "check_cat[check_cat['category'].apply(lambda x: any(re.search(\"Mobile caterer\", category) for category in x))]"
      ]
    },
    {
      "cell_type": "markdown",
      "metadata": {
        "id": "2F_wKg3i1CTc"
      },
      "source": [
        "Relevante"
      ]
    },
    {
      "cell_type": "code",
      "execution_count": 55,
      "metadata": {
        "colab": {
          "base_uri": "https://localhost:8080/",
          "height": 81
        },
        "id": "jGI4kYxt1SNo",
        "outputId": "adf47219-96cf-45a9-d59d-530e14d25eb7"
      },
      "outputs": [
        {
          "data": {
            "text/html": [
              "<div>\n",
              "<style scoped>\n",
              "    .dataframe tbody tr th:only-of-type {\n",
              "        vertical-align: middle;\n",
              "    }\n",
              "\n",
              "    .dataframe tbody tr th {\n",
              "        vertical-align: top;\n",
              "    }\n",
              "\n",
              "    .dataframe thead th {\n",
              "        text-align: right;\n",
              "    }\n",
              "</style>\n",
              "<table border=\"1\" class=\"dataframe\">\n",
              "  <thead>\n",
              "    <tr style=\"text-align: right;\">\n",
              "      <th></th>\n",
              "      <th>business_name</th>\n",
              "      <th>category</th>\n",
              "    </tr>\n",
              "  </thead>\n",
              "  <tbody>\n",
              "  </tbody>\n",
              "</table>\n",
              "</div>"
            ],
            "text/plain": [
              "Empty DataFrame\n",
              "Columns: [business_name, category]\n",
              "Index: []"
            ]
          },
          "execution_count": 55,
          "metadata": {},
          "output_type": "execute_result"
        }
      ],
      "source": [
        "check_cat[check_cat['category'].apply(lambda x: any(re.search(\"Manufacturer\", category) for category in x))]"
      ]
    },
    {
      "cell_type": "markdown",
      "metadata": {
        "id": "u3ck5lfQ1gXc"
      },
      "source": [
        "Relevante"
      ]
    },
    {
      "cell_type": "code",
      "execution_count": 56,
      "metadata": {
        "colab": {
          "base_uri": "https://localhost:8080/",
          "height": 81
        },
        "id": "upLFR7621fXI",
        "outputId": "fb4c4054-5e25-4c3a-ca43-a9c3f911b659"
      },
      "outputs": [
        {
          "data": {
            "text/html": [
              "<div>\n",
              "<style scoped>\n",
              "    .dataframe tbody tr th:only-of-type {\n",
              "        vertical-align: middle;\n",
              "    }\n",
              "\n",
              "    .dataframe tbody tr th {\n",
              "        vertical-align: top;\n",
              "    }\n",
              "\n",
              "    .dataframe thead th {\n",
              "        text-align: right;\n",
              "    }\n",
              "</style>\n",
              "<table border=\"1\" class=\"dataframe\">\n",
              "  <thead>\n",
              "    <tr style=\"text-align: right;\">\n",
              "      <th></th>\n",
              "      <th>business_name</th>\n",
              "      <th>category</th>\n",
              "    </tr>\n",
              "  </thead>\n",
              "  <tbody>\n",
              "  </tbody>\n",
              "</table>\n",
              "</div>"
            ],
            "text/plain": [
              "Empty DataFrame\n",
              "Columns: [business_name, category]\n",
              "Index: []"
            ]
          },
          "execution_count": 56,
          "metadata": {},
          "output_type": "execute_result"
        }
      ],
      "source": [
        "check_cat[check_cat['category'].apply(lambda x: any(re.search(\"Pony ride service\", category) for category in x))]#Horseback riding service, Pony ride service"
      ]
    },
    {
      "cell_type": "markdown",
      "metadata": {
        "id": "VzmyrysQ2hcK"
      },
      "source": [
        "Relevante"
      ]
    },
    {
      "cell_type": "code",
      "execution_count": 57,
      "metadata": {
        "colab": {
          "base_uri": "https://localhost:8080/",
          "height": 81
        },
        "id": "VxPcir0a1tfp",
        "outputId": "c9cfec2e-761d-42ee-a86c-d2ad65300dbd"
      },
      "outputs": [
        {
          "data": {
            "text/html": [
              "<div>\n",
              "<style scoped>\n",
              "    .dataframe tbody tr th:only-of-type {\n",
              "        vertical-align: middle;\n",
              "    }\n",
              "\n",
              "    .dataframe tbody tr th {\n",
              "        vertical-align: top;\n",
              "    }\n",
              "\n",
              "    .dataframe thead th {\n",
              "        text-align: right;\n",
              "    }\n",
              "</style>\n",
              "<table border=\"1\" class=\"dataframe\">\n",
              "  <thead>\n",
              "    <tr style=\"text-align: right;\">\n",
              "      <th></th>\n",
              "      <th>business_name</th>\n",
              "      <th>category</th>\n",
              "    </tr>\n",
              "  </thead>\n",
              "  <tbody>\n",
              "  </tbody>\n",
              "</table>\n",
              "</div>"
            ],
            "text/plain": [
              "Empty DataFrame\n",
              "Columns: [business_name, category]\n",
              "Index: []"
            ]
          },
          "execution_count": 57,
          "metadata": {},
          "output_type": "execute_result"
        }
      ],
      "source": [
        "check_cat[check_cat['category'].apply(lambda x: any(re.search(\"Tourist attraction\", category) for category in x))]"
      ]
    },
    {
      "cell_type": "markdown",
      "metadata": {
        "id": "1SuOV0OU2on0"
      },
      "source": [
        "Relevabte"
      ]
    },
    {
      "cell_type": "code",
      "execution_count": 58,
      "metadata": {
        "colab": {
          "base_uri": "https://localhost:8080/",
          "height": 112
        },
        "id": "uXCxItGQ2mEo",
        "outputId": "6717efaf-d9ee-4a8b-ad6d-fa4f2da97171"
      },
      "outputs": [
        {
          "data": {
            "text/html": [
              "<div>\n",
              "<style scoped>\n",
              "    .dataframe tbody tr th:only-of-type {\n",
              "        vertical-align: middle;\n",
              "    }\n",
              "\n",
              "    .dataframe tbody tr th {\n",
              "        vertical-align: top;\n",
              "    }\n",
              "\n",
              "    .dataframe thead th {\n",
              "        text-align: right;\n",
              "    }\n",
              "</style>\n",
              "<table border=\"1\" class=\"dataframe\">\n",
              "  <thead>\n",
              "    <tr style=\"text-align: right;\">\n",
              "      <th></th>\n",
              "      <th>business_name</th>\n",
              "      <th>category</th>\n",
              "    </tr>\n",
              "  </thead>\n",
              "  <tbody>\n",
              "  </tbody>\n",
              "</table>\n",
              "</div>"
            ],
            "text/plain": [
              "Empty DataFrame\n",
              "Columns: [business_name, category]\n",
              "Index: []"
            ]
          },
          "execution_count": 58,
          "metadata": {},
          "output_type": "execute_result"
        }
      ],
      "source": [
        "check_cat[check_cat['category'].apply(lambda x: any(re.search(\"Weight loss service\", category) for category in x))]"
      ]
    },
    {
      "cell_type": "markdown",
      "metadata": {
        "id": "PzBOpb1V29tp"
      },
      "source": [
        "Relevante"
      ]
    },
    {
      "cell_type": "code",
      "execution_count": 59,
      "metadata": {
        "colab": {
          "base_uri": "https://localhost:8080/",
          "height": 81
        },
        "id": "FKqK0QA428Px",
        "outputId": "3fbcb372-3bff-4ccd-f921-639139cfbd80"
      },
      "outputs": [
        {
          "data": {
            "text/html": [
              "<div>\n",
              "<style scoped>\n",
              "    .dataframe tbody tr th:only-of-type {\n",
              "        vertical-align: middle;\n",
              "    }\n",
              "\n",
              "    .dataframe tbody tr th {\n",
              "        vertical-align: top;\n",
              "    }\n",
              "\n",
              "    .dataframe thead th {\n",
              "        text-align: right;\n",
              "    }\n",
              "</style>\n",
              "<table border=\"1\" class=\"dataframe\">\n",
              "  <thead>\n",
              "    <tr style=\"text-align: right;\">\n",
              "      <th></th>\n",
              "      <th>business_name</th>\n",
              "      <th>category</th>\n",
              "    </tr>\n",
              "  </thead>\n",
              "  <tbody>\n",
              "  </tbody>\n",
              "</table>\n",
              "</div>"
            ],
            "text/plain": [
              "Empty DataFrame\n",
              "Columns: [business_name, category]\n",
              "Index: []"
            ]
          },
          "execution_count": 59,
          "metadata": {},
          "output_type": "execute_result"
        }
      ],
      "source": [
        "check_cat[check_cat['category'].apply(lambda x: any(re.search(\"Eating disorder treatment center\", category) for category in x))]"
      ]
    },
    {
      "cell_type": "markdown",
      "metadata": {
        "id": "RmBtQvkt3INj"
      },
      "source": [
        "Relevante"
      ]
    },
    {
      "cell_type": "code",
      "execution_count": 60,
      "metadata": {
        "colab": {
          "base_uri": "https://localhost:8080/",
          "height": 175
        },
        "id": "2uqIB8I_3HPZ",
        "outputId": "24c7bcea-50f4-4138-905b-6420708a9d61"
      },
      "outputs": [
        {
          "data": {
            "text/html": [
              "<div>\n",
              "<style scoped>\n",
              "    .dataframe tbody tr th:only-of-type {\n",
              "        vertical-align: middle;\n",
              "    }\n",
              "\n",
              "    .dataframe tbody tr th {\n",
              "        vertical-align: top;\n",
              "    }\n",
              "\n",
              "    .dataframe thead th {\n",
              "        text-align: right;\n",
              "    }\n",
              "</style>\n",
              "<table border=\"1\" class=\"dataframe\">\n",
              "  <thead>\n",
              "    <tr style=\"text-align: right;\">\n",
              "      <th></th>\n",
              "      <th>business_name</th>\n",
              "      <th>category</th>\n",
              "    </tr>\n",
              "  </thead>\n",
              "  <tbody>\n",
              "  </tbody>\n",
              "</table>\n",
              "</div>"
            ],
            "text/plain": [
              "Empty DataFrame\n",
              "Columns: [business_name, category]\n",
              "Index: []"
            ]
          },
          "execution_count": 60,
          "metadata": {},
          "output_type": "execute_result"
        }
      ],
      "source": [
        "check_cat[check_cat['category'].apply(lambda x: any(re.search(\"Video arcade\", category) for category in x))]"
      ]
    },
    {
      "cell_type": "markdown",
      "metadata": {
        "id": "aBrOcRVl3Ygh"
      },
      "source": [
        "Estan ok son restaruantes con estos servicios extra"
      ]
    },
    {
      "cell_type": "code",
      "execution_count": 61,
      "metadata": {
        "colab": {
          "base_uri": "https://localhost:8080/",
          "height": 175
        },
        "id": "awSkFbdy3kPK",
        "outputId": "f5d61a30-fb93-4393-fa8c-4de732109538"
      },
      "outputs": [
        {
          "data": {
            "text/html": [
              "<div>\n",
              "<style scoped>\n",
              "    .dataframe tbody tr th:only-of-type {\n",
              "        vertical-align: middle;\n",
              "    }\n",
              "\n",
              "    .dataframe tbody tr th {\n",
              "        vertical-align: top;\n",
              "    }\n",
              "\n",
              "    .dataframe thead th {\n",
              "        text-align: right;\n",
              "    }\n",
              "</style>\n",
              "<table border=\"1\" class=\"dataframe\">\n",
              "  <thead>\n",
              "    <tr style=\"text-align: right;\">\n",
              "      <th></th>\n",
              "      <th>business_name</th>\n",
              "      <th>category</th>\n",
              "    </tr>\n",
              "  </thead>\n",
              "  <tbody>\n",
              "  </tbody>\n",
              "</table>\n",
              "</div>"
            ],
            "text/plain": [
              "Empty DataFrame\n",
              "Columns: [business_name, category]\n",
              "Index: []"
            ]
          },
          "execution_count": 61,
          "metadata": {},
          "output_type": "execute_result"
        }
      ],
      "source": [
        "check_cat[check_cat['category'].apply(lambda x: any(re.search(\"Butcher shop\", category) for category in x))]"
      ]
    },
    {
      "cell_type": "markdown",
      "metadata": {
        "id": "czzhPRZd3p7K"
      },
      "source": [
        "Relevante"
      ]
    },
    {
      "cell_type": "code",
      "execution_count": 62,
      "metadata": {
        "colab": {
          "base_uri": "https://localhost:8080/",
          "height": 81
        },
        "id": "gPNpeull4lPw",
        "outputId": "dbfd2bcd-5e3a-4338-f33d-dc482240be68"
      },
      "outputs": [
        {
          "data": {
            "text/html": [
              "<div>\n",
              "<style scoped>\n",
              "    .dataframe tbody tr th:only-of-type {\n",
              "        vertical-align: middle;\n",
              "    }\n",
              "\n",
              "    .dataframe tbody tr th {\n",
              "        vertical-align: top;\n",
              "    }\n",
              "\n",
              "    .dataframe thead th {\n",
              "        text-align: right;\n",
              "    }\n",
              "</style>\n",
              "<table border=\"1\" class=\"dataframe\">\n",
              "  <thead>\n",
              "    <tr style=\"text-align: right;\">\n",
              "      <th></th>\n",
              "      <th>business_name</th>\n",
              "      <th>category</th>\n",
              "    </tr>\n",
              "  </thead>\n",
              "  <tbody>\n",
              "  </tbody>\n",
              "</table>\n",
              "</div>"
            ],
            "text/plain": [
              "Empty DataFrame\n",
              "Columns: [business_name, category]\n",
              "Index: []"
            ]
          },
          "execution_count": 62,
          "metadata": {},
          "output_type": "execute_result"
        }
      ],
      "source": [
        "check_cat[check_cat['category'].apply(lambda x: any(re.search(\"Rock climbing gym\", category) for category in x))]#Gym, Gymnastics center, Parkour spot, Rock climbing gym"
      ]
    },
    {
      "cell_type": "markdown",
      "metadata": {
        "id": "rzOobAfV4w8r"
      },
      "source": [
        "Relevante"
      ]
    },
    {
      "cell_type": "code",
      "execution_count": 63,
      "metadata": {
        "colab": {
          "base_uri": "https://localhost:8080/",
          "height": 112
        },
        "id": "d9057KwN4s2K",
        "outputId": "a0d0d81d-bfc7-49a9-c6ab-b9da1a4dfcdc"
      },
      "outputs": [
        {
          "data": {
            "text/html": [
              "<div>\n",
              "<style scoped>\n",
              "    .dataframe tbody tr th:only-of-type {\n",
              "        vertical-align: middle;\n",
              "    }\n",
              "\n",
              "    .dataframe tbody tr th {\n",
              "        vertical-align: top;\n",
              "    }\n",
              "\n",
              "    .dataframe thead th {\n",
              "        text-align: right;\n",
              "    }\n",
              "</style>\n",
              "<table border=\"1\" class=\"dataframe\">\n",
              "  <thead>\n",
              "    <tr style=\"text-align: right;\">\n",
              "      <th></th>\n",
              "      <th>business_name</th>\n",
              "      <th>category</th>\n",
              "    </tr>\n",
              "  </thead>\n",
              "  <tbody>\n",
              "  </tbody>\n",
              "</table>\n",
              "</div>"
            ],
            "text/plain": [
              "Empty DataFrame\n",
              "Columns: [business_name, category]\n",
              "Index: []"
            ]
          },
          "execution_count": 63,
          "metadata": {},
          "output_type": "execute_result"
        }
      ],
      "source": [
        "check_cat[check_cat['category'].apply(lambda x: any(re.search(\"Market operator\", category) for category in x))]"
      ]
    },
    {
      "cell_type": "markdown",
      "metadata": {
        "id": "JHzEiqIW5tDb"
      },
      "source": [
        "Relevante"
      ]
    },
    {
      "cell_type": "code",
      "execution_count": 64,
      "metadata": {
        "colab": {
          "base_uri": "https://localhost:8080/",
          "height": 112
        },
        "id": "JhABXa9e5rLr",
        "outputId": "18f23d84-2d4f-4c7d-8438-61b1d4746d59"
      },
      "outputs": [
        {
          "data": {
            "text/html": [
              "<div>\n",
              "<style scoped>\n",
              "    .dataframe tbody tr th:only-of-type {\n",
              "        vertical-align: middle;\n",
              "    }\n",
              "\n",
              "    .dataframe tbody tr th {\n",
              "        vertical-align: top;\n",
              "    }\n",
              "\n",
              "    .dataframe thead th {\n",
              "        text-align: right;\n",
              "    }\n",
              "</style>\n",
              "<table border=\"1\" class=\"dataframe\">\n",
              "  <thead>\n",
              "    <tr style=\"text-align: right;\">\n",
              "      <th></th>\n",
              "      <th>business_name</th>\n",
              "      <th>category</th>\n",
              "    </tr>\n",
              "  </thead>\n",
              "  <tbody>\n",
              "  </tbody>\n",
              "</table>\n",
              "</div>"
            ],
            "text/plain": [
              "Empty DataFrame\n",
              "Columns: [business_name, category]\n",
              "Index: []"
            ]
          },
          "execution_count": 64,
          "metadata": {},
          "output_type": "execute_result"
        }
      ],
      "source": [
        "check_cat[check_cat['category'].apply(lambda x: any(re.search(\"Money transfer service\", category) for category in x))]"
      ]
    },
    {
      "cell_type": "markdown",
      "metadata": {
        "id": "MLeS2RWj6Lj-"
      },
      "source": [
        "Relevante"
      ]
    },
    {
      "cell_type": "code",
      "execution_count": 65,
      "metadata": {
        "colab": {
          "base_uri": "https://localhost:8080/",
          "height": 81
        },
        "id": "QGGycRXHBua3",
        "outputId": "0298bfe0-2db5-40d3-d1ef-62104b6857bf"
      },
      "outputs": [
        {
          "data": {
            "text/html": [
              "<div>\n",
              "<style scoped>\n",
              "    .dataframe tbody tr th:only-of-type {\n",
              "        vertical-align: middle;\n",
              "    }\n",
              "\n",
              "    .dataframe tbody tr th {\n",
              "        vertical-align: top;\n",
              "    }\n",
              "\n",
              "    .dataframe thead th {\n",
              "        text-align: right;\n",
              "    }\n",
              "</style>\n",
              "<table border=\"1\" class=\"dataframe\">\n",
              "  <thead>\n",
              "    <tr style=\"text-align: right;\">\n",
              "      <th></th>\n",
              "      <th>business_name</th>\n",
              "      <th>category</th>\n",
              "    </tr>\n",
              "  </thead>\n",
              "  <tbody>\n",
              "  </tbody>\n",
              "</table>\n",
              "</div>"
            ],
            "text/plain": [
              "Empty DataFrame\n",
              "Columns: [business_name, category]\n",
              "Index: []"
            ]
          },
          "execution_count": 65,
          "metadata": {},
          "output_type": "execute_result"
        }
      ],
      "source": [
        "check_cat[check_cat['category'].apply(lambda x: any(re.search(\"Stadium\", category) for category in x))]#Sports bar, Recreation center, Stadium"
      ]
    },
    {
      "cell_type": "code",
      "execution_count": 66,
      "metadata": {
        "colab": {
          "base_uri": "https://localhost:8080/",
          "height": 112
        },
        "id": "h_J9X8z36IMj",
        "outputId": "4d2cef55-e80a-40b9-fff5-52b36d2ec47d"
      },
      "outputs": [
        {
          "data": {
            "text/html": [
              "<div>\n",
              "<style scoped>\n",
              "    .dataframe tbody tr th:only-of-type {\n",
              "        vertical-align: middle;\n",
              "    }\n",
              "\n",
              "    .dataframe tbody tr th {\n",
              "        vertical-align: top;\n",
              "    }\n",
              "\n",
              "    .dataframe thead th {\n",
              "        text-align: right;\n",
              "    }\n",
              "</style>\n",
              "<table border=\"1\" class=\"dataframe\">\n",
              "  <thead>\n",
              "    <tr style=\"text-align: right;\">\n",
              "      <th></th>\n",
              "      <th>business_name</th>\n",
              "      <th>category</th>\n",
              "    </tr>\n",
              "  </thead>\n",
              "  <tbody>\n",
              "  </tbody>\n",
              "</table>\n",
              "</div>"
            ],
            "text/plain": [
              "Empty DataFrame\n",
              "Columns: [business_name, category]\n",
              "Index: []"
            ]
          },
          "execution_count": 66,
          "metadata": {},
          "output_type": "execute_result"
        }
      ],
      "source": [
        "check_cat[check_cat['category'].apply(lambda x: any(re.search(\"Children's party service\", category) for category in x))]#Children's amusement center, Children's party service,  Pizza restaurant, Video arcade"
      ]
    },
    {
      "cell_type": "code",
      "execution_count": 67,
      "metadata": {
        "colab": {
          "base_uri": "https://localhost:8080/",
          "height": 81
        },
        "id": "lqua9N8KBbTz",
        "outputId": "02b167ee-f659-4c53-9524-1a7077acd005"
      },
      "outputs": [
        {
          "data": {
            "text/html": [
              "<div>\n",
              "<style scoped>\n",
              "    .dataframe tbody tr th:only-of-type {\n",
              "        vertical-align: middle;\n",
              "    }\n",
              "\n",
              "    .dataframe tbody tr th {\n",
              "        vertical-align: top;\n",
              "    }\n",
              "\n",
              "    .dataframe thead th {\n",
              "        text-align: right;\n",
              "    }\n",
              "</style>\n",
              "<table border=\"1\" class=\"dataframe\">\n",
              "  <thead>\n",
              "    <tr style=\"text-align: right;\">\n",
              "      <th></th>\n",
              "      <th>business_name</th>\n",
              "      <th>category</th>\n",
              "    </tr>\n",
              "  </thead>\n",
              "  <tbody>\n",
              "  </tbody>\n",
              "</table>\n",
              "</div>"
            ],
            "text/plain": [
              "Empty DataFrame\n",
              "Columns: [business_name, category]\n",
              "Index: []"
            ]
          },
          "execution_count": 67,
          "metadata": {},
          "output_type": "execute_result"
        }
      ],
      "source": [
        "check_cat[check_cat['category'].apply(lambda x: any(re.search(\"Plaza\", category) for category in x))]"
      ]
    },
    {
      "cell_type": "code",
      "execution_count": 68,
      "metadata": {
        "colab": {
          "base_uri": "https://localhost:8080/",
          "height": 81
        },
        "id": "56Ab9cSWDMIt",
        "outputId": "ca6ff3df-405c-42d1-d1fe-1079675e9945"
      },
      "outputs": [
        {
          "data": {
            "text/html": [
              "<div>\n",
              "<style scoped>\n",
              "    .dataframe tbody tr th:only-of-type {\n",
              "        vertical-align: middle;\n",
              "    }\n",
              "\n",
              "    .dataframe tbody tr th {\n",
              "        vertical-align: top;\n",
              "    }\n",
              "\n",
              "    .dataframe thead th {\n",
              "        text-align: right;\n",
              "    }\n",
              "</style>\n",
              "<table border=\"1\" class=\"dataframe\">\n",
              "  <thead>\n",
              "    <tr style=\"text-align: right;\">\n",
              "      <th></th>\n",
              "      <th>business_name</th>\n",
              "      <th>category</th>\n",
              "    </tr>\n",
              "  </thead>\n",
              "  <tbody>\n",
              "  </tbody>\n",
              "</table>\n",
              "</div>"
            ],
            "text/plain": [
              "Empty DataFrame\n",
              "Columns: [business_name, category]\n",
              "Index: []"
            ]
          },
          "execution_count": 68,
          "metadata": {},
          "output_type": "execute_result"
        }
      ],
      "source": [
        "check_cat[check_cat['category'].apply(lambda x: any(re.search(\"Art gallery\", category) for category in x))]"
      ]
    },
    {
      "cell_type": "code",
      "execution_count": 69,
      "metadata": {
        "colab": {
          "base_uri": "https://localhost:8080/",
          "height": 269
        },
        "id": "k1t1PxqFDbID",
        "outputId": "7773a362-aa9b-4bb3-d4b3-9e28eb3a234e"
      },
      "outputs": [
        {
          "data": {
            "text/html": [
              "<div>\n",
              "<style scoped>\n",
              "    .dataframe tbody tr th:only-of-type {\n",
              "        vertical-align: middle;\n",
              "    }\n",
              "\n",
              "    .dataframe tbody tr th {\n",
              "        vertical-align: top;\n",
              "    }\n",
              "\n",
              "    .dataframe thead th {\n",
              "        text-align: right;\n",
              "    }\n",
              "</style>\n",
              "<table border=\"1\" class=\"dataframe\">\n",
              "  <thead>\n",
              "    <tr style=\"text-align: right;\">\n",
              "      <th></th>\n",
              "      <th>business_name</th>\n",
              "      <th>category</th>\n",
              "    </tr>\n",
              "  </thead>\n",
              "  <tbody>\n",
              "  </tbody>\n",
              "</table>\n",
              "</div>"
            ],
            "text/plain": [
              "Empty DataFrame\n",
              "Columns: [business_name, category]\n",
              "Index: []"
            ]
          },
          "execution_count": 69,
          "metadata": {},
          "output_type": "execute_result"
        }
      ],
      "source": [
        "check_cat[check_cat['category'].apply(lambda x: any(re.search(\"Pasta shop\", category) for category in x))]"
      ]
    },
    {
      "cell_type": "code",
      "execution_count": 70,
      "metadata": {
        "colab": {
          "base_uri": "https://localhost:8080/",
          "height": 112
        },
        "id": "Qs0bvjSNDfDt",
        "outputId": "482ac822-8871-4c7d-d6e8-a577e911bfff"
      },
      "outputs": [
        {
          "data": {
            "text/html": [
              "<div>\n",
              "<style scoped>\n",
              "    .dataframe tbody tr th:only-of-type {\n",
              "        vertical-align: middle;\n",
              "    }\n",
              "\n",
              "    .dataframe tbody tr th {\n",
              "        vertical-align: top;\n",
              "    }\n",
              "\n",
              "    .dataframe thead th {\n",
              "        text-align: right;\n",
              "    }\n",
              "</style>\n",
              "<table border=\"1\" class=\"dataframe\">\n",
              "  <thead>\n",
              "    <tr style=\"text-align: right;\">\n",
              "      <th></th>\n",
              "      <th>business_name</th>\n",
              "      <th>category</th>\n",
              "    </tr>\n",
              "  </thead>\n",
              "  <tbody>\n",
              "  </tbody>\n",
              "</table>\n",
              "</div>"
            ],
            "text/plain": [
              "Empty DataFrame\n",
              "Columns: [business_name, category]\n",
              "Index: []"
            ]
          },
          "execution_count": 70,
          "metadata": {},
          "output_type": "execute_result"
        }
      ],
      "source": [
        "check_cat[check_cat['category'].apply(lambda x: any(re.search(\"Wellness program\", category) for category in x))]"
      ]
    },
    {
      "cell_type": "markdown",
      "metadata": {
        "id": "wneT3ynES28B"
      },
      "source": [
        "Despues de haber checkeado minusiosamnte las categorias que a priori parecian que no habian que incluirlas, viendo los casos pertinentes. Las categorias que deberian quedar serian las siguientes"
      ]
    },
    {
      "cell_type": "code",
      "execution_count": 71,
      "metadata": {
        "id": "31SKCp8qEOPH"
      },
      "outputs": [],
      "source": [
        "categories_not_to_include = ['Event planner', 'Party equipment rental service', 'Gas station', 'Alternative fuel station', 'ATM', 'Electric vehicle charging station', 'Fire protection service', 'HVAC contractor',\n",
        "'Appliance parts supplier', 'Appliance store', 'Commercial refrigerator supplier', 'Industrial equipment supplier', 'Kitchen supply store', 'Small appliance repair service', 'Used appliance store', 'Acupuncture clinic', 'Alternative medicine practitioner', 'Fitness center',\n",
        "'Hair salon', 'Holistic medicine practitioner', 'Meditation center', 'Pilates studio', 'Yoga studio', 'Health spa', 'Spa and health club', 'Car wash', 'Banner store', 'Digital printing service' , 'Print shop', 'Dollar store',\n",
        "'Discount store', 'General store', 'Home goods store',  'Party store', 'School supply store', 'Variety store', 'Software company', 'Accounting software company', 'Business to business service', 'Computer networking center', 'Financial institution',  'Website designer', 'Indoor playground',  'Wi,Fi spot', 'Airline ticket agency',  'Courier service', 'Gift shop',   'Shipping service', 'Appliance repair service', 'Liquor store',   'Candy store', 'Gas company', 'Wedding venue', 'Party planner', 'Produce wholesaler',\n",
        " 'Drive-in movie theater', 'Coaching center', 'Chocolate shop', 'Corporate office',  'Flower delivery', 'Milk delivery service', 'Adult entertainment club', 'Boutique', 'Clothing store',   'Furniture store', 'Vintage clothing store', 'Shopping mall',   'Movie theater', 'Wholesale market', 'Dry ice supplier'\n",
        ",   'Chemical wholesaler', 'Industrial gas supplier', 'Stage',   'Amusement center', 'Wedding buffet', 'Food producer']\n"
      ]
    },
    {
      "cell_type": "code",
      "execution_count": 72,
      "metadata": {
        "id": "2Ih_6TBJJ33z"
      },
      "outputs": [],
      "source": [
        "# Reset column width to default (truncate long columns)\n",
        "pd.reset_option('display.max_colwidth')\n",
        "\n",
        "# Reset the maximum number of rows displayed (truncation)\n",
        "pd.reset_option('display.max_rows')\n",
        "\n",
        "# Reset the maximum number of columns displayed (truncation)\n",
        "pd.reset_option('display.max_columns')"
      ]
    },
    {
      "cell_type": "code",
      "execution_count": 73,
      "metadata": {
        "colab": {
          "base_uri": "https://localhost:8080/",
          "height": 945
        },
        "id": "N8wv0fy9FyTg",
        "outputId": "140c04e5-4b67-4241-bcbe-eaabfcaa2e14"
      },
      "outputs": [
        {
          "data": {
            "text/html": [
              "<div>\n",
              "<style scoped>\n",
              "    .dataframe tbody tr th:only-of-type {\n",
              "        vertical-align: middle;\n",
              "    }\n",
              "\n",
              "    .dataframe tbody tr th {\n",
              "        vertical-align: top;\n",
              "    }\n",
              "\n",
              "    .dataframe thead th {\n",
              "        text-align: right;\n",
              "    }\n",
              "</style>\n",
              "<table border=\"1\" class=\"dataframe\">\n",
              "  <thead>\n",
              "    <tr style=\"text-align: right;\">\n",
              "      <th></th>\n",
              "      <th>index</th>\n",
              "      <th>business_name</th>\n",
              "      <th>address</th>\n",
              "      <th>description</th>\n",
              "      <th>latitude</th>\n",
              "      <th>longitude</th>\n",
              "      <th>category</th>\n",
              "      <th>avg_rating</th>\n",
              "      <th>num_of_reviews</th>\n",
              "      <th>price</th>\n",
              "      <th>hours</th>\n",
              "      <th>MISC</th>\n",
              "      <th>state</th>\n",
              "      <th>user_name</th>\n",
              "      <th>time</th>\n",
              "      <th>rating</th>\n",
              "      <th>text</th>\n",
              "    </tr>\n",
              "  </thead>\n",
              "  <tbody>\n",
              "    <tr>\n",
              "      <th>0</th>\n",
              "      <td>1</td>\n",
              "      <td>Honduras Nica Cafe</td>\n",
              "      <td>Honduras Nica Cafe, 280 NW 79th St, Miami, FL ...</td>\n",
              "      <td>None</td>\n",
              "      <td>25.847143</td>\n",
              "      <td>-80.20237</td>\n",
              "      <td>['Honduran restaurant']</td>\n",
              "      <td>3.5</td>\n",
              "      <td>84</td>\n",
              "      <td>None</td>\n",
              "      <td>[[Thursday, 7AM–9PM], [Friday, 7AM–10PM], [Sat...</td>\n",
              "      <td>{'Accessibility': ['Wheelchair accessible entr...</td>\n",
              "      <td>Closes soon ⋅ 9PM ⋅ Opens 7AM Fri</td>\n",
              "      <td>Cindys 4luvz</td>\n",
              "      <td>17/04/2021</td>\n",
              "      <td>4.0</td>\n",
              "      <td>The nacatamal is a good size and taste ok. The...</td>\n",
              "    </tr>\n",
              "    <tr>\n",
              "      <th>1</th>\n",
              "      <td>2</td>\n",
              "      <td>Honduras Nica Cafe</td>\n",
              "      <td>Honduras Nica Cafe, 280 NW 79th St, Miami, FL ...</td>\n",
              "      <td>None</td>\n",
              "      <td>25.847143</td>\n",
              "      <td>-80.20237</td>\n",
              "      <td>['Honduran restaurant']</td>\n",
              "      <td>3.5</td>\n",
              "      <td>84</td>\n",
              "      <td>None</td>\n",
              "      <td>[[Thursday, 7AM–9PM], [Friday, 7AM–10PM], [Sat...</td>\n",
              "      <td>{'Accessibility': ['Wheelchair accessible entr...</td>\n",
              "      <td>Closes soon ⋅ 9PM ⋅ Opens 7AM Fri</td>\n",
              "      <td>Ash Jay</td>\n",
              "      <td>07/06/2021</td>\n",
              "      <td>5.0</td>\n",
              "      <td>Love this place thats my favorite place</td>\n",
              "    </tr>\n",
              "    <tr>\n",
              "      <th>2</th>\n",
              "      <td>3</td>\n",
              "      <td>Honduras Nica Cafe</td>\n",
              "      <td>Honduras Nica Cafe, 280 NW 79th St, Miami, FL ...</td>\n",
              "      <td>None</td>\n",
              "      <td>25.847143</td>\n",
              "      <td>-80.20237</td>\n",
              "      <td>['Honduran restaurant']</td>\n",
              "      <td>3.5</td>\n",
              "      <td>84</td>\n",
              "      <td>None</td>\n",
              "      <td>[[Thursday, 7AM–9PM], [Friday, 7AM–10PM], [Sat...</td>\n",
              "      <td>{'Accessibility': ['Wheelchair accessible entr...</td>\n",
              "      <td>Closes soon ⋅ 9PM ⋅ Opens 7AM Fri</td>\n",
              "      <td>Henmo Mo</td>\n",
              "      <td>10/03/2020</td>\n",
              "      <td>5.0</td>\n",
              "      <td>Food was fresh,  delicious and reminded me of ...</td>\n",
              "    </tr>\n",
              "    <tr>\n",
              "      <th>3</th>\n",
              "      <td>4</td>\n",
              "      <td>Honduras Nica Cafe</td>\n",
              "      <td>Honduras Nica Cafe, 280 NW 79th St, Miami, FL ...</td>\n",
              "      <td>None</td>\n",
              "      <td>25.847143</td>\n",
              "      <td>-80.20237</td>\n",
              "      <td>['Honduran restaurant']</td>\n",
              "      <td>3.5</td>\n",
              "      <td>84</td>\n",
              "      <td>None</td>\n",
              "      <td>[[Thursday, 7AM–9PM], [Friday, 7AM–10PM], [Sat...</td>\n",
              "      <td>{'Accessibility': ['Wheelchair accessible entr...</td>\n",
              "      <td>Closes soon ⋅ 9PM ⋅ Opens 7AM Fri</td>\n",
              "      <td>javier tapia</td>\n",
              "      <td>06/09/2020</td>\n",
              "      <td>3.0</td>\n",
              "      <td>Good food great prices</td>\n",
              "    </tr>\n",
              "    <tr>\n",
              "      <th>4</th>\n",
              "      <td>5</td>\n",
              "      <td>Honduras Nica Cafe</td>\n",
              "      <td>Honduras Nica Cafe, 280 NW 79th St, Miami, FL ...</td>\n",
              "      <td>None</td>\n",
              "      <td>25.847143</td>\n",
              "      <td>-80.20237</td>\n",
              "      <td>['Honduran restaurant']</td>\n",
              "      <td>3.5</td>\n",
              "      <td>84</td>\n",
              "      <td>None</td>\n",
              "      <td>[[Thursday, 7AM–9PM], [Friday, 7AM–10PM], [Sat...</td>\n",
              "      <td>{'Accessibility': ['Wheelchair accessible entr...</td>\n",
              "      <td>Closes soon ⋅ 9PM ⋅ Opens 7AM Fri</td>\n",
              "      <td>Fernando Mejia</td>\n",
              "      <td>02/07/2019</td>\n",
              "      <td>5.0</td>\n",
              "      <td>Best baleadas in town. I always have baleadas ...</td>\n",
              "    </tr>\n",
              "    <tr>\n",
              "      <th>...</th>\n",
              "      <td>...</td>\n",
              "      <td>...</td>\n",
              "      <td>...</td>\n",
              "      <td>...</td>\n",
              "      <td>...</td>\n",
              "      <td>...</td>\n",
              "      <td>...</td>\n",
              "      <td>...</td>\n",
              "      <td>...</td>\n",
              "      <td>...</td>\n",
              "      <td>...</td>\n",
              "      <td>...</td>\n",
              "      <td>...</td>\n",
              "      <td>...</td>\n",
              "      <td>...</td>\n",
              "      <td>...</td>\n",
              "      <td>...</td>\n",
              "    </tr>\n",
              "    <tr>\n",
              "      <th>563222</th>\n",
              "      <td>1005897</td>\n",
              "      <td>Allegria Ristorante</td>\n",
              "      <td>Allegria Ristorante, 2009 Harrison St, Hollywo...</td>\n",
              "      <td>None</td>\n",
              "      <td>26.010578</td>\n",
              "      <td>-80.14754</td>\n",
              "      <td>['Italian restaurant']</td>\n",
              "      <td>4.6</td>\n",
              "      <td>118</td>\n",
              "      <td>$$</td>\n",
              "      <td>[[Thursday, 4–10PM], [Friday, 4PM–12AM], [Satu...</td>\n",
              "      <td>{'Accessibility': ['Wheelchair accessible entr...</td>\n",
              "      <td>Closes soon ⋅ 10PM ⋅ Opens 4PM Fri</td>\n",
              "      <td>Mary Alonso</td>\n",
              "      <td>01/10/2017</td>\n",
              "      <td>5.0</td>\n",
              "      <td>Exquisite food-great service-perfect ambiance....</td>\n",
              "    </tr>\n",
              "    <tr>\n",
              "      <th>563223</th>\n",
              "      <td>1005898</td>\n",
              "      <td>Allegria Ristorante</td>\n",
              "      <td>Allegria Ristorante, 2009 Harrison St, Hollywo...</td>\n",
              "      <td>None</td>\n",
              "      <td>26.010578</td>\n",
              "      <td>-80.14754</td>\n",
              "      <td>['Italian restaurant']</td>\n",
              "      <td>4.6</td>\n",
              "      <td>118</td>\n",
              "      <td>$$</td>\n",
              "      <td>[[Thursday, 4–10PM], [Friday, 4PM–12AM], [Satu...</td>\n",
              "      <td>{'Accessibility': ['Wheelchair accessible entr...</td>\n",
              "      <td>Closes soon ⋅ 10PM ⋅ Opens 4PM Fri</td>\n",
              "      <td>Pauline Haughton</td>\n",
              "      <td>18/02/2018</td>\n",
              "      <td>5.0</td>\n",
              "      <td>Loved the vegetarian appetizers.  Friendly staff</td>\n",
              "    </tr>\n",
              "    <tr>\n",
              "      <th>563224</th>\n",
              "      <td>1005899</td>\n",
              "      <td>Allegria Ristorante</td>\n",
              "      <td>Allegria Ristorante, 2009 Harrison St, Hollywo...</td>\n",
              "      <td>None</td>\n",
              "      <td>26.010578</td>\n",
              "      <td>-80.14754</td>\n",
              "      <td>['Italian restaurant']</td>\n",
              "      <td>4.6</td>\n",
              "      <td>118</td>\n",
              "      <td>$$</td>\n",
              "      <td>[[Thursday, 4–10PM], [Friday, 4PM–12AM], [Satu...</td>\n",
              "      <td>{'Accessibility': ['Wheelchair accessible entr...</td>\n",
              "      <td>Closes soon ⋅ 10PM ⋅ Opens 4PM Fri</td>\n",
              "      <td>Ashley Davis</td>\n",
              "      <td>28/02/2018</td>\n",
              "      <td>5.0</td>\n",
              "      <td>Love this place.</td>\n",
              "    </tr>\n",
              "    <tr>\n",
              "      <th>563225</th>\n",
              "      <td>1005900</td>\n",
              "      <td>Allegria Ristorante</td>\n",
              "      <td>Allegria Ristorante, 2009 Harrison St, Hollywo...</td>\n",
              "      <td>None</td>\n",
              "      <td>26.010578</td>\n",
              "      <td>-80.14754</td>\n",
              "      <td>['Italian restaurant']</td>\n",
              "      <td>4.6</td>\n",
              "      <td>118</td>\n",
              "      <td>$$</td>\n",
              "      <td>[[Thursday, 4–10PM], [Friday, 4PM–12AM], [Satu...</td>\n",
              "      <td>{'Accessibility': ['Wheelchair accessible entr...</td>\n",
              "      <td>Closes soon ⋅ 10PM ⋅ Opens 4PM Fri</td>\n",
              "      <td>Michel Comtois</td>\n",
              "      <td>24/02/2019</td>\n",
              "      <td>4.0</td>\n",
              "      <td>(Translated by Google) Music too loud.\\n\\n(Ori...</td>\n",
              "    </tr>\n",
              "    <tr>\n",
              "      <th>563226</th>\n",
              "      <td>1005901</td>\n",
              "      <td>Allegria Ristorante</td>\n",
              "      <td>Allegria Ristorante, 2009 Harrison St, Hollywo...</td>\n",
              "      <td>None</td>\n",
              "      <td>26.010578</td>\n",
              "      <td>-80.14754</td>\n",
              "      <td>['Italian restaurant']</td>\n",
              "      <td>4.6</td>\n",
              "      <td>118</td>\n",
              "      <td>$$</td>\n",
              "      <td>[[Thursday, 4–10PM], [Friday, 4PM–12AM], [Satu...</td>\n",
              "      <td>{'Accessibility': ['Wheelchair accessible entr...</td>\n",
              "      <td>Closes soon ⋅ 10PM ⋅ Opens 4PM Fri</td>\n",
              "      <td>Jonathan Alvarez</td>\n",
              "      <td>19/08/2019</td>\n",
              "      <td>3.0</td>\n",
              "      <td>(Translated by Google) Normal\\n\\n(Original)\\nN...</td>\n",
              "    </tr>\n",
              "  </tbody>\n",
              "</table>\n",
              "<p>563227 rows × 17 columns</p>\n",
              "</div>"
            ],
            "text/plain": [
              "          index        business_name  \\\n",
              "0             1   Honduras Nica Cafe   \n",
              "1             2   Honduras Nica Cafe   \n",
              "2             3   Honduras Nica Cafe   \n",
              "3             4   Honduras Nica Cafe   \n",
              "4             5   Honduras Nica Cafe   \n",
              "...         ...                  ...   \n",
              "563222  1005897  Allegria Ristorante   \n",
              "563223  1005898  Allegria Ristorante   \n",
              "563224  1005899  Allegria Ristorante   \n",
              "563225  1005900  Allegria Ristorante   \n",
              "563226  1005901  Allegria Ristorante   \n",
              "\n",
              "                                                  address description  \\\n",
              "0       Honduras Nica Cafe, 280 NW 79th St, Miami, FL ...        None   \n",
              "1       Honduras Nica Cafe, 280 NW 79th St, Miami, FL ...        None   \n",
              "2       Honduras Nica Cafe, 280 NW 79th St, Miami, FL ...        None   \n",
              "3       Honduras Nica Cafe, 280 NW 79th St, Miami, FL ...        None   \n",
              "4       Honduras Nica Cafe, 280 NW 79th St, Miami, FL ...        None   \n",
              "...                                                   ...         ...   \n",
              "563222  Allegria Ristorante, 2009 Harrison St, Hollywo...        None   \n",
              "563223  Allegria Ristorante, 2009 Harrison St, Hollywo...        None   \n",
              "563224  Allegria Ristorante, 2009 Harrison St, Hollywo...        None   \n",
              "563225  Allegria Ristorante, 2009 Harrison St, Hollywo...        None   \n",
              "563226  Allegria Ristorante, 2009 Harrison St, Hollywo...        None   \n",
              "\n",
              "         latitude  longitude                 category  avg_rating  \\\n",
              "0       25.847143  -80.20237  ['Honduran restaurant']         3.5   \n",
              "1       25.847143  -80.20237  ['Honduran restaurant']         3.5   \n",
              "2       25.847143  -80.20237  ['Honduran restaurant']         3.5   \n",
              "3       25.847143  -80.20237  ['Honduran restaurant']         3.5   \n",
              "4       25.847143  -80.20237  ['Honduran restaurant']         3.5   \n",
              "...           ...        ...                      ...         ...   \n",
              "563222  26.010578  -80.14754   ['Italian restaurant']         4.6   \n",
              "563223  26.010578  -80.14754   ['Italian restaurant']         4.6   \n",
              "563224  26.010578  -80.14754   ['Italian restaurant']         4.6   \n",
              "563225  26.010578  -80.14754   ['Italian restaurant']         4.6   \n",
              "563226  26.010578  -80.14754   ['Italian restaurant']         4.6   \n",
              "\n",
              "        num_of_reviews price  \\\n",
              "0                   84  None   \n",
              "1                   84  None   \n",
              "2                   84  None   \n",
              "3                   84  None   \n",
              "4                   84  None   \n",
              "...                ...   ...   \n",
              "563222             118    $$   \n",
              "563223             118    $$   \n",
              "563224             118    $$   \n",
              "563225             118    $$   \n",
              "563226             118    $$   \n",
              "\n",
              "                                                    hours  \\\n",
              "0       [[Thursday, 7AM–9PM], [Friday, 7AM–10PM], [Sat...   \n",
              "1       [[Thursday, 7AM–9PM], [Friday, 7AM–10PM], [Sat...   \n",
              "2       [[Thursday, 7AM–9PM], [Friday, 7AM–10PM], [Sat...   \n",
              "3       [[Thursday, 7AM–9PM], [Friday, 7AM–10PM], [Sat...   \n",
              "4       [[Thursday, 7AM–9PM], [Friday, 7AM–10PM], [Sat...   \n",
              "...                                                   ...   \n",
              "563222  [[Thursday, 4–10PM], [Friday, 4PM–12AM], [Satu...   \n",
              "563223  [[Thursday, 4–10PM], [Friday, 4PM–12AM], [Satu...   \n",
              "563224  [[Thursday, 4–10PM], [Friday, 4PM–12AM], [Satu...   \n",
              "563225  [[Thursday, 4–10PM], [Friday, 4PM–12AM], [Satu...   \n",
              "563226  [[Thursday, 4–10PM], [Friday, 4PM–12AM], [Satu...   \n",
              "\n",
              "                                                     MISC  \\\n",
              "0       {'Accessibility': ['Wheelchair accessible entr...   \n",
              "1       {'Accessibility': ['Wheelchair accessible entr...   \n",
              "2       {'Accessibility': ['Wheelchair accessible entr...   \n",
              "3       {'Accessibility': ['Wheelchair accessible entr...   \n",
              "4       {'Accessibility': ['Wheelchair accessible entr...   \n",
              "...                                                   ...   \n",
              "563222  {'Accessibility': ['Wheelchair accessible entr...   \n",
              "563223  {'Accessibility': ['Wheelchair accessible entr...   \n",
              "563224  {'Accessibility': ['Wheelchair accessible entr...   \n",
              "563225  {'Accessibility': ['Wheelchair accessible entr...   \n",
              "563226  {'Accessibility': ['Wheelchair accessible entr...   \n",
              "\n",
              "                                     state         user_name        time  \\\n",
              "0        Closes soon ⋅ 9PM ⋅ Opens 7AM Fri      Cindys 4luvz  17/04/2021   \n",
              "1        Closes soon ⋅ 9PM ⋅ Opens 7AM Fri           Ash Jay  07/06/2021   \n",
              "2        Closes soon ⋅ 9PM ⋅ Opens 7AM Fri          Henmo Mo  10/03/2020   \n",
              "3        Closes soon ⋅ 9PM ⋅ Opens 7AM Fri      javier tapia  06/09/2020   \n",
              "4        Closes soon ⋅ 9PM ⋅ Opens 7AM Fri    Fernando Mejia  02/07/2019   \n",
              "...                                    ...               ...         ...   \n",
              "563222  Closes soon ⋅ 10PM ⋅ Opens 4PM Fri       Mary Alonso  01/10/2017   \n",
              "563223  Closes soon ⋅ 10PM ⋅ Opens 4PM Fri  Pauline Haughton  18/02/2018   \n",
              "563224  Closes soon ⋅ 10PM ⋅ Opens 4PM Fri      Ashley Davis  28/02/2018   \n",
              "563225  Closes soon ⋅ 10PM ⋅ Opens 4PM Fri    Michel Comtois  24/02/2019   \n",
              "563226  Closes soon ⋅ 10PM ⋅ Opens 4PM Fri  Jonathan Alvarez  19/08/2019   \n",
              "\n",
              "        rating                                               text  \n",
              "0          4.0  The nacatamal is a good size and taste ok. The...  \n",
              "1          5.0            Love this place thats my favorite place  \n",
              "2          5.0  Food was fresh,  delicious and reminded me of ...  \n",
              "3          3.0                             Good food great prices  \n",
              "4          5.0  Best baleadas in town. I always have baleadas ...  \n",
              "...        ...                                                ...  \n",
              "563222     5.0  Exquisite food-great service-perfect ambiance....  \n",
              "563223     5.0   Loved the vegetarian appetizers.  Friendly staff  \n",
              "563224     5.0                                   Love this place.  \n",
              "563225     4.0  (Translated by Google) Music too loud.\\n\\n(Ori...  \n",
              "563226     3.0  (Translated by Google) Normal\\n\\n(Original)\\nN...  \n",
              "\n",
              "[563227 rows x 17 columns]"
            ]
          },
          "execution_count": 73,
          "metadata": {},
          "output_type": "execute_result"
        }
      ],
      "source": [
        "# Filter the DataFrame to exclude categories_not_to_include\n",
        "filtered_df = df6[~df6['category'].apply(lambda x: any(cat in x for cat in categories_not_to_include))]\n",
        "\n",
        "\n",
        "# Display the filtered DataFrame\n",
        "filtered_df.reset_index()"
      ]
    },
    {
      "cell_type": "code",
      "execution_count": 74,
      "metadata": {
        "colab": {
          "base_uri": "https://localhost:8080/"
        },
        "id": "DqGqF6O3J-2I",
        "outputId": "82c71282-816c-4857-d081-a18014606035"
      },
      "outputs": [
        {
          "data": {
            "text/plain": [
              "Index(['business_name', 'address', 'description', 'latitude', 'longitude',\n",
              "       'category', 'avg_rating', 'num_of_reviews', 'price', 'hours', 'MISC',\n",
              "       'state', 'user_name', 'time', 'rating', 'text'],\n",
              "      dtype='object')"
            ]
          },
          "execution_count": 74,
          "metadata": {},
          "output_type": "execute_result"
        }
      ],
      "source": [
        "filtered_df.columns"
      ]
    },
    {
      "cell_type": "code",
      "execution_count": 75,
      "metadata": {
        "colab": {
          "base_uri": "https://localhost:8080/"
        },
        "id": "n9peihMwTU96",
        "outputId": "ff421bb0-8099-4215-9242-c1e41e8de5f0"
      },
      "outputs": [
        {
          "data": {
            "text/plain": [
              "4.4    80251\n",
              "4.5    71485\n",
              "4.3    60991\n",
              "4.2    59779\n",
              "4.6    50241\n",
              "4.1    41828\n",
              "4.0    33775\n",
              "3.9    24353\n",
              "4.7    23801\n",
              "3.8    20700\n",
              "3.7    19721\n",
              "3.5    15404\n",
              "3.6    15143\n",
              "3.3    10708\n",
              "4.8     9474\n",
              "3.4     8301\n",
              "3.2     4076\n",
              "4.9     3452\n",
              "3.1     3366\n",
              "2.9     1917\n",
              "3.0     1861\n",
              "2.8     1043\n",
              "5.0      883\n",
              "2.6      210\n",
              "2.7      130\n",
              "2.4       69\n",
              "2.2       58\n",
              "2.1       58\n",
              "2.5       44\n",
              "1.8       37\n",
              "2.3       26\n",
              "1.7       18\n",
              "1.5       12\n",
              "1.9       12\n",
              "Name: avg_rating, dtype: int64"
            ]
          },
          "execution_count": 75,
          "metadata": {},
          "output_type": "execute_result"
        }
      ],
      "source": [
        "filtered_df.avg_rating.value_counts()"
      ]
    },
    {
      "cell_type": "code",
      "execution_count": 76,
      "metadata": {
        "colab": {
          "base_uri": "https://localhost:8080/"
        },
        "id": "esbpCsyVTjar",
        "outputId": "30ee988f-596a-4b7c-e16a-709c031a5a5c"
      },
      "outputs": [
        {
          "data": {
            "text/plain": [
              "8116    3462\n",
              "38      3310\n",
              "58      3153\n",
              "48      2614\n",
              "848     2597\n",
              "        ... \n",
              "69        13\n",
              "22        13\n",
              "23        13\n",
              "41        13\n",
              "32         8\n",
              "Name: num_of_reviews, Length: 878, dtype: int64"
            ]
          },
          "execution_count": 76,
          "metadata": {},
          "output_type": "execute_result"
        }
      ],
      "source": [
        "filtered_df.num_of_reviews.value_counts()"
      ]
    },
    {
      "cell_type": "code",
      "execution_count": 77,
      "metadata": {
        "colab": {
          "base_uri": "https://localhost:8080/"
        },
        "id": "H8Y3Oq9zT2Ue",
        "outputId": "735bd443-0afa-40e4-df23-00dacad18614"
      },
      "outputs": [
        {
          "data": {
            "text/plain": [
              "₩₩      167759\n",
              "₩       140868\n",
              "$       105069\n",
              "$$       90311\n",
              "₩₩₩      10797\n",
              "$$$       3621\n",
              "₩₩₩₩      3518\n",
              "$$$$       453\n",
              "Name: price, dtype: int64"
            ]
          },
          "execution_count": 77,
          "metadata": {},
          "output_type": "execute_result"
        }
      ],
      "source": [
        "filtered_df.price.value_counts()"
      ]
    },
    {
      "cell_type": "code",
      "execution_count": 78,
      "metadata": {
        "colab": {
          "base_uri": "https://localhost:8080/"
        },
        "id": "ibcasvSLUI-A",
        "outputId": "7961ae5f-1860-4acd-b506-a290d94323e1"
      },
      "outputs": [
        {
          "data": {
            "text/plain": [
              "1          {'Accessibility': ['Wheelchair accessible entr...\n",
              "2          {'Accessibility': ['Wheelchair accessible entr...\n",
              "3          {'Accessibility': ['Wheelchair accessible entr...\n",
              "4          {'Accessibility': ['Wheelchair accessible entr...\n",
              "5          {'Accessibility': ['Wheelchair accessible entr...\n",
              "                                 ...                        \n",
              "1005897    {'Accessibility': ['Wheelchair accessible entr...\n",
              "1005898    {'Accessibility': ['Wheelchair accessible entr...\n",
              "1005899    {'Accessibility': ['Wheelchair accessible entr...\n",
              "1005900    {'Accessibility': ['Wheelchair accessible entr...\n",
              "1005901    {'Accessibility': ['Wheelchair accessible entr...\n",
              "Name: MISC, Length: 563227, dtype: object"
            ]
          },
          "execution_count": 78,
          "metadata": {},
          "output_type": "execute_result"
        }
      ],
      "source": [
        "filtered_df.MISC"
      ]
    },
    {
      "cell_type": "markdown",
      "metadata": {
        "id": "Yi-adzj_ukvU"
      },
      "source": [
        "HAY QUE DESANIDAR ESTQA COLUMNA\n"
      ]
    },
    {
      "cell_type": "code",
      "execution_count": 79,
      "metadata": {
        "id": "F_fnFDVtupP1"
      },
      "outputs": [],
      "source": [
        "filtered_df.to_parquet('FINAL_FLORIDA.parquet')\n"
      ]
    },
    {
      "cell_type": "code",
      "execution_count": null,
      "metadata": {},
      "outputs": [],
      "source": [
        "df6.shape"
      ]
    },
    {
      "cell_type": "code",
      "execution_count": 80,
      "metadata": {
        "id": "HzzG6AeUu8Fo"
      },
      "outputs": [
        {
          "data": {
            "text/plain": [
              "(563227, 16)"
            ]
          },
          "execution_count": 80,
          "metadata": {},
          "output_type": "execute_result"
        }
      ],
      "source": [
        "filtered_df.shape"
      ]
    },
    {
      "cell_type": "code",
      "execution_count": 81,
      "metadata": {},
      "outputs": [
        {
          "data": {
            "text/plain": [
              "(3743, 16)"
            ]
          },
          "execution_count": 81,
          "metadata": {},
          "output_type": "execute_result"
        }
      ],
      "source": [
        "filtered_df_unique = filtered_df.drop_duplicates(subset='address', keep='first')\n",
        "filtered_df_unique.shape\n",
        "#cantridad de restaurants"
      ]
    }
  ],
  "metadata": {
    "colab": {
      "provenance": []
    },
    "kernelspec": {
      "display_name": "Python 3",
      "name": "python3"
    },
    "language_info": {
      "codemirror_mode": {
        "name": "ipython",
        "version": 3
      },
      "file_extension": ".py",
      "mimetype": "text/x-python",
      "name": "python",
      "nbconvert_exporter": "python",
      "pygments_lexer": "ipython3",
      "version": "3.11.0"
    }
  },
  "nbformat": 4,
  "nbformat_minor": 0
}
